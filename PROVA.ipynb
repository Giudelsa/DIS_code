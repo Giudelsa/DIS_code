{
 "cells": [
  {
   "cell_type": "code",
   "execution_count": 13,
   "metadata": {},
   "outputs": [],
   "source": [
    "import json\n",
    "import os\n",
    "import numpy as np\n",
    "import pandas as pd\n",
    "import string\n",
    "from tqdm import tqdm"
   ]
  },
  {
   "cell_type": "code",
   "execution_count": 2,
   "metadata": {},
   "outputs": [],
   "source": [
    "documents_path = '../dis-project-1-document-retrieval/corpus.json/corpus.json'"
   ]
  },
  {
   "cell_type": "code",
   "execution_count": 3,
   "metadata": {},
   "outputs": [],
   "source": [
    "with open(documents_path) as f:\n",
    "    documents = json.load(f)"
   ]
  },
  {
   "cell_type": "code",
   "execution_count": 15,
   "metadata": {},
   "outputs": [],
   "source": [
    "train_queries_path = '../dis-project-1-document-retrieval/train.csv'"
   ]
  },
  {
   "cell_type": "code",
   "execution_count": 16,
   "metadata": {},
   "outputs": [],
   "source": [
    "# Load the training queries\n",
    "train_queries = pd.read_csv(train_queries_path)"
   ]
  },
  {
   "cell_type": "code",
   "execution_count": null,
   "metadata": {},
   "outputs": [],
   "source": [
    "count = 0\n",
    "for _, query in train_queries.iterrows():\n",
    "    query_id = query['query_id']\n",
    "    query_text = query['query']\n",
    "    relevant_docs = query['positive_docs']\n",
    "    language = query['lang']\n",
    "    if count == 1:\n",
    "        print(query_id, query_text, relevant_docs, language)\n",
    "        break\n",
    "    count += 1\n"
   ]
  },
  {
   "cell_type": "code",
   "execution_count": null,
   "metadata": {},
   "outputs": [],
   "source": [
    "documents[0]"
   ]
  },
  {
   "cell_type": "code",
   "execution_count": 17,
   "metadata": {},
   "outputs": [],
   "source": [
    "def get_doc_by_id(doc_id):\n",
    "    return next(doc for doc in documents if doc['docid'] == doc_id)"
   ]
  },
  {
   "cell_type": "code",
   "execution_count": 27,
   "metadata": {},
   "outputs": [],
   "source": [
    "# count the queries which have relevant doucments whose language is not the query language\n",
    "count = 0\n",
    "for _, query in train_queries.iterrows():\n",
    "    query_id = query['query_id']\n",
    "    query_text = query['query']\n",
    "    relevant_docs = query['positive_docs']\n",
    "    language = query['lang']\n",
    "    for doc_id in relevant_docs.split():\n",
    "        doc_language = get_doc_by_id(doc_id)['lang']\n",
    "        if language != doc_language:\n",
    "            count += 1\n",
    "            print(f'Query {query_id} has relevant document {doc_id} with language {doc_language} which is different from the query language {query_language}')"
   ]
  },
  {
   "cell_type": "code",
   "execution_count": 28,
   "metadata": {},
   "outputs": [
    {
     "name": "stdout",
     "output_type": "stream",
     "text": [
      "Total queries with relevant documents with different language: 0\n"
     ]
    }
   ],
   "source": [
    "print(f'Total queries with relevant documents with different language: {count}')"
   ]
  },
  {
   "cell_type": "code",
   "execution_count": 30,
   "metadata": {},
   "outputs": [
    {
     "data": {
      "image/png": "[encoded data removed]",
      "text/plain": [
       "<Figure size 640x480 with 1 Axes>"
      ]
     },
     "metadata": {},
     "output_type": "display_data"
    }
   ],
   "source": [
    "# look at the distibution of the langauges of the documents\n",
    "from collections import Counter\n",
    "doc_languages = [doc['lang'] for doc in documents]\n",
    "doc_languages_counter = Counter(doc_languages)\n",
    "# plot the distribution of the languages\n",
    "import matplotlib.pyplot as plt\n",
    "plt.bar(doc_languages_counter.keys(), doc_languages_counter.values())\n",
    "plt.show()\n"
   ]
  },
  {
   "cell_type": "code",
   "execution_count": 32,
   "metadata": {},
   "outputs": [
    {
     "data": {
      "image/png": "[encoded data removed]",
      "text/plain": [
       "<Figure size 640x480 with 1 Axes>"
      ]
     },
     "metadata": {},
     "output_type": "display_data"
    }
   ],
   "source": [
    "# look at the distibution of the langauges of the train queries\n",
    "query_languages = train_queries['lang']\n",
    "query_languages_counter = Counter(query_languages)\n",
    "# plot the distribution of the languages\n",
    "plt.bar(query_languages_counter.keys(), query_languages_counter.values())\n",
    "plt.show()"
   ]
  },
  {
   "cell_type": "code",
   "execution_count": 35,
   "metadata": {},
   "outputs": [
    {
     "data": {
      "application/vnd.jupyter.widget-view+json": {
       "model_id": "ea1fcf0761dd4217b0cabf618db7e06f",
       "version_major": 2,
       "version_minor": 0
      },
      "text/plain": [
       "tokenizer_config.json:   0%|          | 0.00/48.0 [00:00<?, ?B/s]"
      ]
     },
     "metadata": {},
     "output_type": "display_data"
    },
    {
     "data": {
      "application/vnd.jupyter.widget-view+json": {
       "model_id": "d4481f8eb54f4fb09630267487cc4088",
       "version_major": 2,
       "version_minor": 0
      },
      "text/plain": [
       "vocab.txt:   0%|          | 0.00/232k [00:00<?, ?B/s]"
      ]
     },
     "metadata": {},
     "output_type": "display_data"
    },
    {
     "data": {
      "application/vnd.jupyter.widget-view+json": {
       "model_id": "7c101bb8374b4d80a8824de461fbc16f",
       "version_major": 2,
       "version_minor": 0
      },
      "text/plain": [
       "tokenizer.json:   0%|          | 0.00/466k [00:00<?, ?B/s]"
      ]
     },
     "metadata": {},
     "output_type": "display_data"
    },
    {
     "data": {
      "application/vnd.jupyter.widget-view+json": {
       "model_id": "79c98c220dc541ea99b549598ee4782b",
       "version_major": 2,
       "version_minor": 0
      },
      "text/plain": [
       "config.json:   0%|          | 0.00/570 [00:00<?, ?B/s]"
      ]
     },
     "metadata": {},
     "output_type": "display_data"
    }
   ],
   "source": [
    "import torch\n",
    "from transformers import BertTokenizer, BertModel\n",
    "\n",
    "# Load pre-trained model tokenizer (vocabulary)\n",
    "tokenizer = BertTokenizer.from_pretrained('bert-base-uncased')\n"
   ]
  },
  {
   "cell_type": "code",
   "execution_count": 36,
   "metadata": {},
   "outputs": [
    {
     "name": "stdout",
     "output_type": "stream",
     "text": [
      "['what', 'is', 'the', 'capital', 'of', 'france', '?']\n"
     ]
    }
   ],
   "source": [
    "query_text = 'What is the capital of France?'\n",
    "tokenized_text = tokenizer.tokenize(query_text)\n",
    "print(tokenized_text)"
   ]
  },
  {
   "cell_type": "code",
   "execution_count": 37,
   "metadata": {},
   "outputs": [
    {
     "name": "stdout",
     "output_type": "stream",
     "text": [
      "[101, 2054, 2003, 1996, 3007, 1997, 2605, 1029, 102]\n"
     ]
    }
   ],
   "source": [
    "input_ids = tokenizer.encode(query_text, add_special_tokens=True)\n",
    "print(input_ids)"
   ]
  },
  {
   "cell_type": "code",
   "execution_count": null,
   "metadata": {},
   "outputs": [],
   "source": [
    "# print all the"
   ]
  },
  {
   "cell_type": "markdown",
   "metadata": {},
   "source": [
    "## TF-IDF"
   ]
  },
  {
   "cell_type": "markdown",
   "metadata": {},
   "source": [
    "### Preprocessing"
   ]
  },
  {
   "cell_type": "code",
   "execution_count": 7,
   "metadata": {},
   "outputs": [],
   "source": [
    "from nltk.stem import PorterStemmer, WordNetLemmatizer\n",
    "import nltk\n",
    "from nltk.corpus import stopwords"
   ]
  },
  {
   "cell_type": "code",
   "execution_count": 18,
   "metadata": {},
   "outputs": [
    {
     "name": "stderr",
     "output_type": "stream",
     "text": [
      "[nltk_data] Downloading package wordnet to\n",
      "[nltk_data]     /Users/robinfaro/nltk_data...\n",
      "[nltk_data] Downloading package omw-1.4 to\n",
      "[nltk_data]     /Users/robinfaro/nltk_data...\n"
     ]
    },
    {
     "data": {
      "text/plain": [
       "True"
      ]
     },
     "execution_count": 18,
     "metadata": {},
     "output_type": "execute_result"
    }
   ],
   "source": [
    "nltk.download('wordnet')\n",
    "nltk.download('omw-1.4')  # Optional, for additional wordnet languages"
   ]
  },
  {
   "cell_type": "code",
   "execution_count": 18,
   "metadata": {},
   "outputs": [],
   "source": [
    "def get_langauge(lang_id):\n",
    "    \"\"\"\n",
    "    Returns the language name given the language id in order to pass it to the stopwords function\n",
    "    \"\"\"\n",
    "    cases = {\n",
    "        'en' : 'english',\n",
    "        'de' : 'german',\n",
    "        'fr' : 'french',\n",
    "        'es' : 'spanish',\n",
    "        'it' : 'italian',\n",
    "        'ar' : 'arabic',\n",
    "        'ko' : 'korean'\n",
    "    }\n",
    "    return cases.get(lang_id, 'unknown') "
   ]
  },
  {
   "cell_type": "code",
   "execution_count": 19,
   "metadata": {},
   "outputs": [],
   "source": [
    "def preprocess_text(text, language_id):\n",
    "    \"\"\"\n",
    "    Preprocess the text by removing stopwords, stemming and lemmatizing the text\n",
    "    \"\"\"\n",
    "    # remove punctuation\n",
    "    text = \"\".join([ch for ch in text if ch not in string.punctuation])\n",
    "    # remove stopwords\n",
    "    stop_words = set(stopwords.words(get_langauge(language_id)))\n",
    "    words = nltk.word_tokenize(text)\n",
    "    words = [word for word in words if word.lower() not in stop_words]\n",
    "    # stemming\n",
    "    stemmer = PorterStemmer()\n",
    "    words = [stemmer.stem(word) for word in words]\n",
    "    # lemmatization\n",
    "    lemmatizer = WordNetLemmatizer()\n",
    "    words = [lemmatizer.lemmatize(word) for word in words]\n",
    "    return words"
   ]
  },
  {
   "cell_type": "markdown",
   "metadata": {},
   "source": [
    "### Function definition"
   ]
  },
  {
   "cell_type": "code",
   "execution_count": 20,
   "metadata": {},
   "outputs": [],
   "source": [
    "def compute_tf(term, doc):\n",
    "    \"\"\"\n",
    "    Compute the term frequency of a term in a document\n",
    "\n",
    "    :param term: the term to compute its frequency\n",
    "    :param doc: the document to compute the frequency of the term in\n",
    "\n",
    "    :return: the term frequency of the term in the document\n",
    "    \"\"\"\n",
    "    doc = doc['preprocessed_text']\n",
    "    f_t = doc.count(term)\n",
    "    max_f = max([doc.count(t) for t in set(doc)])\n",
    "    return f_t / max_f\n",
    "\n",
    "# def compute_idf(vocabularies, documents, languages):\n",
    "    \"\"\"\n",
    "    Compute the inverse document frequency of a term in a list of documents\n",
    "    :param term: the term to compute its inverse document frequency\n",
    "    :param documents: the list of documents (SAME LANGUAGE of term)to compute the inverse document frequency of the term in\n",
    "    \"\"\"\n",
    "    idfs = {}\n",
    "    num_docs = {}\n",
    "    for language in languages:\n",
    "        idfs[language] = {}\n",
    "        num_docs[language] = 0\n",
    "\n",
    "    #     count = 0\n",
    "    #     for term in vocabularies[language]:\n",
    "    #         n = 0\n",
    "    #         for doc in documents:\n",
    "    #             if doc['lang'] == language:\n",
    "    #                 if term in doc['preprocessed_text']:\n",
    "    #                     n += 1\n",
    "    #                 count += 1\n",
    "    #         idfs[language][term] = np.log(count / n)\n",
    "    \n",
    "    \n",
    "    for doc in documents:\n",
    "        lang = doc['lang']\n",
    "        num_docs[lang] += 1\n",
    "        for term in set(doc['preprocessed_text']):\n",
    "            if term not in idfs:\n",
    "                idfs[lang][term] = 1\n",
    "            else:\n",
    "                idfs[lang][term] += 1\n",
    "    \n",
    "    for lang in idfs:\n",
    "        for term in idfs[lang]:\n",
    "            idfs[lang][term] = np.log(num_docs[lang] / idfs[lang][term])\n",
    "\n",
    "    return idfs\n",
    "\n",
    "# def pivoted_unique_query_norm_tf_idf(term, doc, documents, idfs, s=0.2):\n",
    "    \"\"\"\n",
    "    Compute the term frequency - inverse document frequency of a term in a document\n",
    "    \"\"\"\n",
    "    # calculate the number of unique terms in the document\n",
    "    pivot = 0\n",
    "    language = doc['lang']\n",
    "    for document in documents:\n",
    "        unique_terms = set(document['preprocessed_text'])\n",
    "        pivot += len(unique_terms)\n",
    "    pivot /= len(documents) # num\n",
    "    u = len(set(doc['preprocessed_text']))\n",
    "    tf = compute_tf(term, doc)\n",
    "    idf = idf(term, documents)\n",
    "\n",
    "    return tf * idf * ((1-s)* pivot + s * u)"
   ]
  },
  {
   "cell_type": "code",
   "execution_count": 34,
   "metadata": {},
   "outputs": [],
   "source": [
    "def compute_pivot_idf(documents, languages):\n",
    "    \"\"\"\n",
    "    Compute the pivoted unique query norm term frequency - inverse document frequency of a term in a document\n",
    "    \"\"\"\n",
    "    idfs = {}\n",
    "    num_docs = {}\n",
    "    pivots = {}\n",
    "    for language in languages:\n",
    "        idfs[language] = {}\n",
    "        num_docs[language] = 0\n",
    "        pivots[language] = 0\n",
    "\n",
    "    for doc in tqdm(documents):\n",
    "        lang = doc['lang']\n",
    "        num_docs[lang] += 1\n",
    "        unique_terms = set(doc['preprocessed_text'])\n",
    "        pivots[lang] += len(unique_terms)\n",
    "        for term in unique_terms:\n",
    "            if term not in idfs[lang]:\n",
    "                idfs[lang][term] = 1\n",
    "            else:\n",
    "                idfs[lang][term] += 1\n",
    "\n",
    "    for lang in idfs:\n",
    "        for term in idfs[lang]:\n",
    "            idfs[lang][term] = np.log(num_docs[lang] / idfs[lang][term])\n",
    "        if num_docs[lang] != 0:\n",
    "            pivots[lang] /= num_docs[lang]\n",
    "        else:\n",
    "            pivots[lang] = 0\n",
    "\n",
    "    return idfs, pivots\n",
    "\n",
    "def pivoted_unique_vector_norm_tf_idf(document, vocabularies, idfs, pivots, s=0.2):\n",
    "    \"\"\"\n",
    "    Compute the pivoted unique vector norm term frequency - inverse document frequency of a term in a document\n",
    "    \"\"\"\n",
    "    language = document['lang']\n",
    "    unique_terms = set(document['preprocessed_text'])\n",
    "    u = len(unique_terms)\n",
    "    pivot = pivots[language]\n",
    "    vocabulary = vocabularies[language]\n",
    "    vector = [0]*len(vocabulary)\n",
    "    # for i, term in tqdm(enumerate(vocabulary)):\n",
    "    #     tf = compute_tf(term, document)\n",
    "    #     idf = idfs[language][term]\n",
    "    #     vector[i] = tf * idf * ((1-s)* pivot + s * u)\n",
    "    for term in tqdm(unique_terms):\n",
    "        if term in vocabulary:\n",
    "            i = vocabulary.index(term)\n",
    "            tf = compute_tf(term, document)\n",
    "            idf = idfs[language][term]\n",
    "            vector[i] = tf * idf * ((1-s)* pivot + s * u)\n",
    "        else:\n",
    "            print(f'Term {term} not in vocabulary')\n",
    "\n",
    "    return vector\n",
    "    "
   ]
  },
  {
   "cell_type": "code",
   "execution_count": 11,
   "metadata": {},
   "outputs": [],
   "source": [
    "def compute_precison_at_k(retrieved_docs, relevant_docs, k):\n",
    "    \"\"\"\n",
    "    Compute the precision at k\n",
    "    \"\"\"\n",
    "    count = set(retrieved_docs[:k]).intersection(set(relevant_docs))\n",
    "    return len(count) / k\n",
    "\n",
    "def compute_recall_at_k(retrieved_docs, relevant_docs, k):\n",
    "    \"\"\"\n",
    "    Compute the recall at k\n",
    "    \"\"\"\n",
    "    count = set(retrieved_docs[:k]).intersection(set(relevant_docs))\n",
    "    return len(count) / len(relevant_docs)\n",
    "\n",
    "def compute_f1_at_k(retrieved_docs, relevant_docs, k):\n",
    "    \"\"\"\n",
    "    Compute the f1 score at k\n",
    "    \"\"\"\n",
    "    precision = compute_precison_at_k(retrieved_docs, relevant_docs, k)\n",
    "    recall = compute_recall_at_k(retrieved_docs, relevant_docs, k)\n",
    "    return 2 * precision * recall / (precision + recall)"
   ]
  },
  {
   "cell_type": "markdown",
   "metadata": {},
   "source": [
    "## Experiments"
   ]
  },
  {
   "cell_type": "code",
   "execution_count": 39,
   "metadata": {},
   "outputs": [],
   "source": [
    "def create_vocabulary_language(documents, languages):\n",
    "    \"\"\"\n",
    "    Create the vocabularies for all the languages in the documents\n",
    "    \"\"\"\n",
    "    vocabularies = {}\n",
    "    for language in languages:\n",
    "        vocabularies[language] = set()\n",
    "    for doc in tqdm(documents):\n",
    "        language = doc['lang']\n",
    "        text = doc['text']\n",
    "        preprocessed_text = preprocess_text(text, language)\n",
    "        doc['preprocessed_text'] = preprocessed_text\n",
    "        vocabularies[language].update(set(preprocessed_text))\n",
    "    for language in languages:\n",
    "        vocabularies[language] = list(vocabularies[language])\n",
    "    return vocabularies"
   ]
  },
  {
   "cell_type": "code",
   "execution_count": 40,
   "metadata": {},
   "outputs": [
    {
     "name": "stderr",
     "output_type": "stream",
     "text": [
      "100%|██████████| 1000/1000 [00:33<00:00, 29.49it/s]\n"
     ]
    }
   ],
   "source": [
    "languages = ['en', 'de', 'fr', 'es', 'it', 'ar', 'ko']\n",
    "truncated_documents = documents[:1000]\n",
    "\n",
    "vocabularies = create_vocabulary_language(truncated_documents, languages)"
   ]
  },
  {
   "cell_type": "code",
   "execution_count": null,
   "metadata": {},
   "outputs": [],
   "source": [
    "# save the vocabularies for each language in a json file\n",
    "for language in languages:\n",
    "    with open(f'vocabulary_{language}.json', 'w') as f:\n",
    "        json.dump(list(vocabularies[language]), f)\n"
   ]
  },
  {
   "cell_type": "code",
   "execution_count": 28,
   "metadata": {},
   "outputs": [
    {
     "name": "stderr",
     "output_type": "stream",
     "text": [
      "100%|██████████| 1000/1000 [00:00<00:00, 3330.46it/s]\n"
     ]
    }
   ],
   "source": [
    "# compute the idf for each language\n",
    "idfs, pivots = compute_pivot_idf(truncated_documents, languages)\n"
   ]
  },
  {
   "cell_type": "code",
   "execution_count": 30,
   "metadata": {},
   "outputs": [
    {
     "data": {
      "text/plain": [
       "(195370, 195370)"
      ]
     },
     "execution_count": 30,
     "metadata": {},
     "output_type": "execute_result"
    }
   ],
   "source": [
    "len(idfs['en']), len(vocabularies['en'])"
   ]
  },
  {
   "cell_type": "code",
   "execution_count": 41,
   "metadata": {},
   "outputs": [
    {
     "data": {
      "text/plain": [
       "list"
      ]
     },
     "execution_count": 41,
     "metadata": {},
     "output_type": "execute_result"
    }
   ],
   "source": [
    "type(vocabularies['en'])"
   ]
  },
  {
   "cell_type": "code",
   "execution_count": 43,
   "metadata": {},
   "outputs": [
    {
     "name": "stderr",
     "output_type": "stream",
     "text": [
      "100%|██████████| 1027/1027 [00:21<00:00, 48.20it/s]\n"
     ]
    }
   ],
   "source": [
    "vector_doc_0 = pivoted_unique_vector_norm_tf_idf(truncated_documents[0], vocabularies, idfs, pivots)"
   ]
  },
  {
   "cell_type": "code",
   "execution_count": 44,
   "metadata": {},
   "outputs": [
    {
     "name": "stdout",
     "output_type": "stream",
     "text": [
      "1027\n"
     ]
    }
   ],
   "source": [
    "# count the number of non-zero elements in the vector\n",
    "count = 0\n",
    "for v in vector_doc_0:\n",
    "    if v != 0:\n",
    "        count += 1\n",
    "print(count)"
   ]
  },
  {
   "cell_type": "code",
   "execution_count": 45,
   "metadata": {},
   "outputs": [
    {
     "name": "stderr",
     "output_type": "stream",
     "text": [
      "100%|██████████| 1027/1027 [00:21<00:00, 46.72it/s]\n",
      "100%|██████████| 1297/1297 [00:35<00:00, 36.96it/s]\n",
      "100%|██████████| 1010/1010 [00:20<00:00, 48.15it/s]\n",
      "100%|██████████| 866/866 [00:15<00:00, 55.98it/s]]\n",
      "100%|██████████| 980/980 [00:18<00:00, 52.02it/s]]\n",
      "100%|██████████| 1340/1340 [00:52<00:00, 25.74it/s]\n",
      "100%|██████████| 790/790 [00:12<00:00, 62.45it/s]]\n",
      "100%|██████████| 1129/1129 [00:26<00:00, 43.25it/s]\n",
      "100%|██████████| 1170/1170 [00:26<00:00, 44.08it/s]\n",
      "100%|██████████| 2214/2214 [02:51<00:00, 12.94it/s]\n",
      "100%|██████████| 1965/1965 [02:51<00:00, 11.48it/s]]\n",
      "100%|██████████| 887/887 [00:15<00:00, 58.54it/s]/it]\n",
      "100%|██████████| 1153/1153 [00:26<00:00, 43.32it/s]] \n",
      "100%|██████████| 1523/1523 [01:00<00:00, 25.04it/s]]\n",
      "100%|██████████| 929/929 [00:15<00:00, 58.57it/s]it]\n",
      "100%|██████████| 743/743 [00:11<00:00, 66.99it/s]it]\n",
      "100%|██████████| 865/865 [00:13<00:00, 62.86it/s]t] \n",
      "100%|██████████| 1152/1152 [00:25<00:00, 46.04it/s]\n",
      "100%|██████████| 1334/1334 [00:42<00:00, 31.32it/s]\n",
      "100%|██████████| 919/919 [00:20<00:00, 43.97it/s]t]\n",
      "100%|██████████| 809/809 [00:10<00:00, 75.17it/s]t]\n",
      "100%|██████████| 964/964 [00:19<00:00, 48.97it/s]t]\n",
      "100%|██████████| 976/976 [00:19<00:00, 51.33it/s]t]\n",
      "100%|██████████| 1725/1725 [02:27<00:00, 11.67it/s]\n",
      "100%|██████████| 844/844 [00:16<00:00, 50.28it/s]it]\n",
      "100%|██████████| 1281/1281 [00:50<00:00, 25.44it/s]]\n",
      "100%|██████████| 1418/1418 [00:41<00:00, 33.77it/s]]\n",
      "100%|██████████| 947/947 [00:21<00:00, 44.65it/s]it]\n",
      " 10%|▉         | 229/2305 [00:25<03:55,  8.82it/s]t]\n",
      "  3%|▎         | 28/1000 [19:17<11:09:35, 41.33s/it]\n"
     ]
    },
    {
     "ename": "KeyboardInterrupt",
     "evalue": "",
     "output_type": "error",
     "traceback": [
      "\u001b[0;31m---------------------------------------------------------------------------\u001b[0m",
      "\u001b[0;31mKeyboardInterrupt\u001b[0m                         Traceback (most recent call last)",
      "Cell \u001b[0;32mIn[45], line 1\u001b[0m\n\u001b[0;32m----> 1\u001b[0m documents_vectors \u001b[38;5;241m=\u001b[39m [pivoted_unique_vector_norm_tf_idf(doc, vocabularies, idfs, pivots) \u001b[38;5;28;01mfor\u001b[39;00m doc \u001b[38;5;129;01min\u001b[39;00m tqdm(truncated_documents)]\n",
      "Cell \u001b[0;32mIn[34], line 51\u001b[0m, in \u001b[0;36mpivoted_unique_vector_norm_tf_idf\u001b[0;34m(document, vocabularies, idfs, pivots, s)\u001b[0m\n\u001b[1;32m     49\u001b[0m \u001b[38;5;28;01mif\u001b[39;00m term \u001b[38;5;129;01min\u001b[39;00m vocabulary:\n\u001b[1;32m     50\u001b[0m     i \u001b[38;5;241m=\u001b[39m vocabulary\u001b[38;5;241m.\u001b[39mindex(term)\n\u001b[0;32m---> 51\u001b[0m     tf \u001b[38;5;241m=\u001b[39m compute_tf(term, document)\n\u001b[1;32m     52\u001b[0m     idf \u001b[38;5;241m=\u001b[39m idfs[language][term]\n\u001b[1;32m     53\u001b[0m     vector[i] \u001b[38;5;241m=\u001b[39m tf \u001b[38;5;241m*\u001b[39m idf \u001b[38;5;241m*\u001b[39m ((\u001b[38;5;241m1\u001b[39m\u001b[38;5;241m-\u001b[39ms)\u001b[38;5;241m*\u001b[39m pivot \u001b[38;5;241m+\u001b[39m s \u001b[38;5;241m*\u001b[39m u)\n",
      "Cell \u001b[0;32mIn[20], line 12\u001b[0m, in \u001b[0;36mcompute_tf\u001b[0;34m(term, doc)\u001b[0m\n\u001b[1;32m     10\u001b[0m     doc \u001b[38;5;241m=\u001b[39m doc[\u001b[38;5;124m'\u001b[39m\u001b[38;5;124mpreprocessed_text\u001b[39m\u001b[38;5;124m'\u001b[39m]\n\u001b[1;32m     11\u001b[0m     f_t \u001b[38;5;241m=\u001b[39m doc\u001b[38;5;241m.\u001b[39mcount(term)\n\u001b[0;32m---> 12\u001b[0m     max_f \u001b[38;5;241m=\u001b[39m \u001b[38;5;28mmax\u001b[39m([doc\u001b[38;5;241m.\u001b[39mcount(t) \u001b[38;5;28;01mfor\u001b[39;00m t \u001b[38;5;129;01min\u001b[39;00m \u001b[38;5;28mset\u001b[39m(doc)])\n\u001b[1;32m     13\u001b[0m     \u001b[38;5;28;01mreturn\u001b[39;00m f_t \u001b[38;5;241m/\u001b[39m max_f\n\u001b[1;32m     15\u001b[0m \u001b[38;5;66;03m# def compute_idf(vocabularies, documents, languages):\u001b[39;00m\n",
      "\u001b[0;31mKeyboardInterrupt\u001b[0m: "
     ]
    }
   ],
   "source": [
    "documents_vectors = [pivoted_unique_vector_norm_tf_idf(doc, vocabularies, idfs, pivots) for doc in tqdm(truncated_documents)]"
   ]
  },
  {
   "cell_type": "code",
   "execution_count": 47,
   "metadata": {},
   "outputs": [],
   "source": [
    "# dump the truncated documents in a json file\n",
    "with open('/Users/giudittadelsarto/Desktop/truncated_documents.json', 'w') as f:\n",
    "    json.dump(truncated_documents, f)\n"
   ]
  },
  {
   "cell_type": "code",
   "execution_count": null,
   "metadata": {},
   "outputs": [],
   "source": [
    "# prova"
   ]
  }
 ],
 "metadata": {
  "kernelspec": {
   "display_name": "base",
   "language": "python",
   "name": "python3"
  },
  "language_info": {
   "codemirror_mode": {
    "name": "ipython",
    "version": 3
   },
   "file_extension": ".py",
   "mimetype": "text/x-python",
   "name": "python",
   "nbconvert_exporter": "python",
   "pygments_lexer": "ipython3",
   "version": "3.12.5"
  }
 },
 "nbformat": 4,
 "nbformat_minor": 2
}
