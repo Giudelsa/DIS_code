{
 "cells": [
  {
   "cell_type": "markdown",
   "metadata": {},
   "source": [
    "## BERT"
   ]
  },
  {
   "cell_type": "code",
   "execution_count": 1,
   "metadata": {},
   "outputs": [],
   "source": [
    "# import necessary libraries\n",
    "import json\n",
    "import os\n",
    "import numpy as np\n",
    "import pandas as pd\n",
    "import string\n",
    "from tqdm import tqdm\n",
    "from sentence_transformers import SentenceTransformer\n",
    "from nltk.stem import PorterStemmer, WordNetLemmatizer\n",
    "import nltk\n",
    "from nltk.corpus import stopwords\n",
    "from sklearn.metrics.pairwise import cosine_similarity\n",
    "import torch\n",
    "import pickle"
   ]
  },
  {
   "cell_type": "markdown",
   "metadata": {},
   "source": [
    "#### Load and open the data\n",
    "1. documents\n",
    "2. queries"
   ]
  },
  {
   "cell_type": "code",
   "execution_count": 3,
   "metadata": {},
   "outputs": [],
   "source": [
    "document_path = '../dis-project-1-document-retrieval/corpus.json/corpus.json'"
   ]
  },
  {
   "cell_type": "code",
   "execution_count": 4,
   "metadata": {},
   "outputs": [],
   "source": [
    "# Loading the documents\n",
    "with open(document_path) as json_file:\n",
    "    documents = json.load(json_file)"
   ]
  },
  {
   "cell_type": "code",
   "execution_count": 5,
   "metadata": {},
   "outputs": [],
   "source": [
    "train_queries_path = '../dis-project-1-document-retrieval/train.csv'"
   ]
  },
  {
   "cell_type": "code",
   "execution_count": 6,
   "metadata": {},
   "outputs": [],
   "source": [
    "# Load the training queries\n",
    "train_queries = pd.read_csv(train_queries_path)"
   ]
  },
  {
   "cell_type": "markdown",
   "metadata": {},
   "source": [
    "#### Auxiliary functions"
   ]
  },
  {
   "cell_type": "code",
   "execution_count": 27,
   "metadata": {},
   "outputs": [
    {
     "data": {
      "text/plain": [
       "{'docid': 'doc-en-9633',\n",
       " 'text': 'Mars Hill Church was a Christian megachurch, founded by Mark Driscoll, Lief Moi, and Mike Gunn. It was a multi-site church based in Seattle, Washington and grew from a home Bible study to 15 locations in 4 U.S. states. Services were offered at its 15 locations; the church also podcast content of weekend services, and of conferences, on the Internet with more than 260,000 sermon views online every week. In 2013, Mars Hill had a membership of 6,489 and average weekly attendance of 12,329. Following controversy in 2014 involving founding pastor Mark Driscoll, attendance dropped to 8,0009,000 people per week.\\n\\nAt the end of September, 2014, an investigation by the church elders found \"bullying\" and \"patterns of persistent sinful behavior\" by Driscoll. The church elders crafted a \"restoration\" plan to help Driscoll and save the church. Instead, Driscoll declined the restoration plan and resigned. On October 31, 2014, lead pastor Dave Bruskas announced plans to dissolve the church\\'s 13 remaining campuses into autonomous entities, with the option of continuing, merging with other congregations, or disbanding, effective January 1, 2015. The Mars Hill network dissolved on January 1, 2015.\\n\\nHistory\\n\\nEarly years \\nMars Hill Church was founded in spring 1996 by Mark Driscoll,  Lief Moi and Mike Gunn. The church started at the rental house of Driscoll and his wife Grace with the blessing of Antioch Bible Church and the exodus of about 30 of its students. They outgrew the apartment and started meeting in the youth rooms of another church. The church had its first official service October 1996, with 160 people attending; attendance quickly fell to around 60 because of discussions about the visions and mission of the church.\\n\\nIn the spring of 1997, the church expanded to two evening services. The transition to two different congregations resulted in some anxiety and stir by members who didn\\'t want the church to grow bigger, but it resulted in growing attendance. Later that same year Mark Driscoll was invited to speak at a pastors\\' conference in California. Driscoll\\'s speech influenced the emerging church movement, and changed the focus from reaching Generation X to reaching the postmodern world. The speech resulted in media coverage of Mars Hill Church and Mark Driscoll, and put Driscoll in connection with Leadership Network.\\n\\nThe church continued growing. Inspired by Alan Roxburgh, Driscoll settled on an emerging and missional ecclesiology, and a complementarian view on women in ministry. The church installed the first team of elders and they took over much of the work teaching classes, counseling and training new leaders. Furthermore, the church started a course for new members, called the Gospel Class, to ensure that members were focused on the mission of the church and that they agreed with the central doctrinal statements of the church. The class had been running every quarter since. In the fall of 1999 the church had grown to 350 in attendance every week and was able to pay Driscoll full-time. Prior to 1999, Driscoll operated as an unpaid pastor for three years.\\n\\nMultisite church \\n\\nIn 2003, Mars Hill Church moved into a renovated hardware store in the Ballard neighborhood of Seattle.  In 2006, in an effort to reduce the overcrowding at its services, Mars Hill opened its first satellite campus in Shoreline.  This change also marked their transition to a multi-site church, using video sermons and other multimedia improvements to the church\\'s web site to connect the campuses. Later in 2006 Mars Hill acquired two new properties in West Seattle and Wedgwood, which became their West Seattle and Lake City campuses.\\n\\nSince then, new Mars Hill locations were added using a multi-campus \"meta-church\" structure, connecting Driscoll\\'s sermons via high-definition video to the remote campuses during weekly worship services.  This format allowed each location to retain local leadership and ministries while under the leadership of the main campus.  A fourth and fifth Mars Hill location opened in 2007, and in 2008 a sixth location was added in downtown Seattle. A seventh campus, in Olympia, Washington, opened in Fall 2008  and an eighth campus, the first outside of Washington state, opened in Albuquerque, New Mexico in Fall 2009. The church launched four new churches on January 15 in Portland (Oregon), Rainier Valley (Seattle), Sammamish (near Seattle), and Orange County (California), the same day as the first sermon in the \"Real Marriage\" sermon series, based on Mark and Grace Driscoll\\'s book, Real Marriage.\\n\\nOn October 16, \"black-clad demonstrators\" gathered in front of the Mars Hill Church in Southeast Portland to \"protest the church\\'s stance on homosexuality.\" Approximately 20 protesters, \"some of whom wore kerchiefs to cover their faces, shouted profanities at adults and children,\" and briefly blocked the entrance of the church. Mars Hill Church Portland lead pastor Tim Smith expressed disagreement with the conduct of the protesters, but expressed defense of their right to free speech.\\n\\nIn 2008, the church launched an online community-building network, called The City, to improve communication on all levels in the church. The City was purchased by the Christian publishing brand, Zondervan, before Christmas 2008.\\n\\nGrowth and influence \\n\\nIn 2013, The Church Guide released a list of the \"Top Churches to Watch in America\". The link ranked churches according to how much churches could learn from the ranked churches on particular topics. They ranked Mars Hill Church as #3 to learn from about church growth, #3 for innovation, #2 for church planting, and #4 overall. The list considered data from Outreach magazine\\'s annual lists from 2004–2012 and other sources.\\n\\nIn 2006, Mars Hill Church claimed $31,110,000 in assets.\\n\\nActs 29 Church Planting Network \\n\\nActs 29 Church Planting Network is a separate 501(c)(3) from Mars Hill Church but was founded by Mars Hill in 2001. It is an interdenominational network of pastors and churches from around the world whose focus is to assess and equip qualified leaders, plant new churches, and rejuvenate declining churches.  The current president of Acts 29 is Matt Chandler.  The offices and leadership of Acts 29 moved from Mars Hill Church in Seattle to The Village Church in Texas in March 2012.\\nIn August 2014, Acts 29 removed Mark Driscoll and Mars Hill Church from the network.\\n\\nChurch leadership controversies\\n\\nDealing with dissent \\n\\nAs a result of the large growth of the church, its bylaws were rewritten more than once. The outcome of this process led to changes in leadership organization in November 2007. The new bylaws installed lead pastor Jamie Munson, preaching pastor Mark Driscoll, and pastors Scott Thomas and Tim Beltz as \"executive pastors\" who led the objectives of the church \"under the authority of the Board of Directors,\" on which the executive pastors also served as directors. This change precipitated the firing of two pastors.\\n\\nMars Hill leaders said in forum postings that one fired pastor was removed, in part, for \"displaying an unhealthy distrust in the senior leadership.\" They said the other was removed for \"disregarding the accepted elder protocol for the bylaw deliberation period\" and \"verbally attacking the lead pastor\"\\xa0— charges the fired pastor denied, the leaders added.\\n\\nChurch leadership instructed members of the congregation to shun the two former elders as unrepentant. Former Mars Hill Church elders and members have criticized the church for its harshness in dealing with dissent within its leadership. Additionally, members who have openly questioned or dissented with Mars Hill leaders have been asked to leave the church.  This policy of church discipline was discussed during a lecture given on April 20, 2009 by Mark Driscoll for The Gospel Coalition.\\n\\nIn early 2012, the church once again became a source of controversy over shunning and disciplinary proceedings when a young man under discipline released documents from his disciplinary contract to blogger and author Mathew Paul Turner. The documents included a discipline contract and an email from church leaders to the congregation directing them to shun him.\\n\\nResultSource contract for the Real Marriage Book \\nOn March 5, 2014, evangelical magazine World published an article claiming that Mars Hill Church paid a $25,000 fee to marketing firm ResultSource, to manipulate sales numbers of Mark Driscoll\\'s book Real Marriage and thereby attain a place on the New York Times bestseller list. ResultSource accomplished this objective—the book briefly reached #1 in the \"Advice How-to\" category—by buying 11,000 copies of the book, using $210,000 of Mars Hill Church\\'s money, from a variety of online sources and payment methods.\\n\\nThe Evangelical Council for Financial Accountability stated that buying a place on bestseller lists violates its ethical standards, but that because this happened before Mars Hill Church joined they were unable to take action. Christianity Today described the arrangement as \"ethically questionable\", and Carl Trueman of religion journal First Things decried the revelation, writing, \"the overall picture is one of disaster\" and \"[it] has raised questions not simply about personal integrity but also the very culture of American Evangelicalism.\"\\n\\nDriscoll had used the apparent success of Real Marriage to negotiate a multi-book deal with Christian publisher Tyndale House. The first book under Driscoll\\'s \"Resurgence\" imprint was A Call to Resurgence, with plans to publish five to seven books per year. Tyndale House defended Driscoll\\'s alleged plagiarism in A Call to Resurgence, and affirmed their continuing relationship with Driscoll.\\n\\nMars Hill Church responded with a statement, writing, \"while not uncommon or illegal, this unwise strategy is not one we had used before or since, and not one we will use again.\" Mars Hill also claimed that the \"true cost\" of the effort was less than \"what has been reported.\"\\n\\nOn March 17, 2014, Driscoll posted an open letter of apology in response to this controversy and others, writing that he will no longer claim to be a New York Times bestselling author, and that he now sees the ResultSource marketing campaign as \"manipulating a book sales reporting system, which is wrong.\" He wrote that he was giving up his status as a \"celebrity pastor\", that he considered his \"angry young prophet\" days to be over, and that he was reducing his public presence in speaking engagements and on social media.\\n\\nOn March 28, 2015, Sutton Turner, a former elder of the church who signed the Result Source contract, explained that he disapproved of the marketing plan to use Result Source, but the decision to use it had already been made before he began work at Mars Hill, so he signed the contract anyway. Turner revealed that Driscoll had not been involved in initiating nor signing the contract with Result Source. Turner stated that the business relationship with the marketing firm was initiated by a pastor who resigned shortly thereafter, and remaining church leaders disagreed over the completion of the contract, stating that it would reflect badly on the church and Mark Driscoll.\\n\\nPlagiarism allegations \\nOn November 21, 2013, radio host Janet Mefferd accused Driscoll of plagiarism. Mefferd claimed that 14 pages of Driscoll\\'s book A Call to Resurgence quoted \"extensively and without citation\" from Peter Jones\\' 1999 book, Gospel Truth/Pagan Lies: Can You Tell the Difference? and Jones\\' 2010 book One or Two: Seeing a World of Difference. Driscoll\\'s publisher Tyndale House stated that they performed a \"thorough in-house review\" and disagreed that this was a case of plagiarism. Neil Holdway, a plagiarism expert with the American Copy Editors Society, concluded that \"Driscoll had not adequately indicated the extent to which he had borrowed Jones\\' work.\"\\n\\nMore allegations of plagiarism in other Driscoll works soon surfaced, including passages from a sermon series companion text, Trial: 8 Witnesses From 1&2 Peter, which were copied verbatim from passages written by David Wheaton in the New Bible Commentary. InterVarsity Press, publisher of the New Bible Commentary, stated that Driscoll failed to properly provide quotation or attribution for the material. The relevant passages were posted online. The allegations soon expanded to include claims that Driscoll used ghostwriters and researchers without giving them proper attribution. As of December 2013, neither Peter Jones, D.A. Carson, nor Janet Mefferd had made any further statements pertaining the case.\\n\\nSyndicator Salem Radio subsequently removed both the broadcast interview with Driscoll and associated materials from Mefferd\\'s program website and apologized for raising the matter in a broadcast interview. This attempt to shut down the story provoked the resignation of Mefferd\\'s producer, Ingrid Schlueter. In explaining her resignation, Schlueter wrote the following regarding herself and Mefferd:\\n\\nDriscoll apologized for \"mistakes\" related to the allegations in a statement released to The Christian Post on December 18, 2013. Mefferd eventually left Salem Radio in April 2015.\\n\\nMars Hill Global Fund \\nIn June 2014 an online petition asked Sutton Turner of Mars Hill Church and Dan Busby of the Evangelical Council for Financial Accountability where the money raised through Mars Hill Global Fund actually went. The church reported that \"Mars Hill Church began to use the term \\'Global Fund\\' to solicit gifts restricted for \\'capital development and expansion\\'.  As communicated in the Global Newsletter on July 7, 2009, the Global Fund was used to raise resources for the following purposes:  \\'start new Mars Hill campuses, plant new Acts 29 churches, and equip leaders at the Resurgence Training Center\\'. In the 2009-2011 time frame, over 80% of the funds given to the \"Global Fund\" went to Acts 29 church planting, with additional funds used for the Resurgence Training Center and church planting in India.\" Additionally, \"subsequent to June 1, 2012, in early July 2014, Mars Hill Church sent approximately 6,000 letters and 3,765 emails to individuals who had made gifts as a global donor subsequent to June 1, 2012. In these communications, Mars Hill Church offered to redirect the donor\\'s gifts, made as a global donor during this time period, specifically for planting churches in Ethiopia or India.\"\\n\\nFormer leaders and members protest Mark Driscoll (2014) \\nMichael Paulson, writing for The New York Times, wrote that while Driscoll had endured criticism from the American political left and liberal Christianity for many years, recent years leading up to and including 2014 saw the rise of criticism from conservative Christians, including Driscoll\\'s former \"allies and supporters.\" According to the Seattle Times, plagiarism accusations against Driscoll made by Janet Mefferd were a \"crucial turning point\" that drew outside interest into Mars Hill\\'s internal affairs, and prompted inquiries from new critics about the church and how it handled its finances. After hearing of Mefferd\\'s plagiarism accusations, evangelical Christian and Grove City College psychology professor Warren Throckmorton took interest and became a prominent critic of Driscoll and Mars Hill, documenting other examples of perceived plagiarism, abuse reported by former Mars Hill members, and questionable uses of church finances.\\n\\n\"Repentant Pastors\" \\nOn March 29, 2014, four former Mars Hill elders (Kyle Firstenberg, Dave Kraft, Scott Mitchell, and co-founder Lief Moi) created a blog titled \"Repentant Pastor\" and posted online \"confessions and apologies\" related to their leadership roles in Mars Hill. In a joint statement, they wrote, \"we recognize and confess that Mars Hill has hurt many people within the Mars Hill community, as well as those outside the community.\" Salon summarized the statements, writing that the former leaders emphasized their failures to \"rein Driscoll in\" and their complicity with Driscoll\\'s \"autocratic\" management style. Firstenberg wrote that while the church appeared to flourish, employees lived in constant stress, and \"success was to be attained regardless of human and moral cost.\"\\n\\nMegachurch pastors come to Driscoll\\'s defense \\nSeveral prominent pastors publicly defended Driscoll from allegations made against him. Those pastors included mega-church pastor Rick Warren, author of The Purpose Driven Life, and Gateway Church\\'s founding pastor Robert Morris. At the 2014 Gateway Conference, Morris told the audience that he counseled Mark Driscoll directly, and that media reports were largely untrue. Morris cited recent media reports of lead pastor Steven Furtick of Elevation Church as experiencing similar coverage. At the conference, Mark Driscoll was invited up to the stage where he told the audience that he received death threats and that his children allegedly had rocks thrown at them. Driscoll stated that \"I\\'m just trying to figure out how to be a good pastor to my family first.\"\\n\\nDriscoll addresses former members\\' complaints \\nIn a recorded message shown to church members on July 27, 2014, Driscoll discussed the various controversies of 2014. He said that he could \"not address some members\\' discontent ... because the complaints were anonymous.\" According to Rob Smith, former program director at the church, the anonymity assertion \"really touched a nerve\" with former members. In response, dissenters organized a Facebook group called \"Dear Pastor Mark & Mars Hill: We Are Not Anonymous.\"\\n\\nThe following Sunday, \"dozens of demonstrators\" organized and picketed the Mars Hill Church Bellevue campus (where Driscoll preached live), calling for Driscoll\\'s resignation. Demonstrators carried placards reading \"We Are Not Anonymous\" and \"Question Mark\", and accused Driscoll of bullying, misogyny, inadequate transparency in church finances, and harsh discipline of members. Driscoll was away for his annual summer vacation. A church elder, Anthony Iannicielo, responded that the criticism of Driscoll and Mars Hill \"goes with the territory\" of running a large church with a long history. In a pre-recorded message, Driscoll said that he had been deliberately \"rather silent\" during the criticism, that he found it \"a little overwhelming and a bit confusing\", and that he had no intention of resigning.\\n\\nRemoval from Acts 29 Network \\nOn August 8, 2014, the board of Acts 29 Network removed both Driscoll and Mars Hill Church from membership. Chairman Matt Chandler wrote, \"it is our conviction that the nature of the accusations against Mark, most of which have been confirmed by him, make it untenable and unhelpful to keep Mark [Driscoll] and Mars Hill [Church] in our network.\"\\xa0The board of directors of Acts 29 expressed gratitude for Driscoll\\'s work with the Network as co-founder and former President, but declared his recent actions \"ungodly and disqualifying behavior.\" To Driscoll, they wrote, \"our board and network have been the recipients of ... dozens of fires directly linked to you ... we are naturally associated with you and feel that this association discredits the network and is a major distraction.\" They further advised him to \"step down from ministry for an extended time and seek help.\"\\n\\nActs 29 had attempted to \"lean on\" the Mars Hill\\'s Board of Advisors and Accountability (BOAA) to discipline Driscoll, but lost confidence in the board. The BOAA had been set up by Driscoll as his accountability board, rather than the elders of the church. (Members of the BOAA were for the most part professional clergy and businessmen who were not members of the church and hand picked by Driscoll.) The previous month, evangelical leaders and Acts 29 associates Paul Tripp and James MacDonald resigned from the BOAA. Religion correspondent Sarah Pulliam Bailey described Acts 29\\'s decision as \"unusual\" since \"ministries usually leave matters of church discipline up to local churches.\"\\n\\nBOAA Chairman Michael Van Skaik responded, \"Men, I told the lead pastors ... that we are making real progress in addressing the serious reconciliation and unhealthy culture issues that have been part of Mars Hill Church for way too long. And we are. ... \" He further added that Acts 29 leaders did not contact Mars Hill before acting, and that Driscoll had \"changed his ways\", and described Acts 29\\'s actions as \"divisive.\" Van Skaik also addressed the formal charges brought against Driscoll under the Mars Hill bylaws, writing \"the formal charges that were filed were serious, were taken seriously, and were not dismissed by the board lightly.\"\\n\\nDriscoll\\'s hiatus from ministry \\nOn August 24, 2014, Driscoll announced he would take a six-week \"extended focus break\" from his pastorship while charges against him were investigated. Later that week, a letter signed by nine current Mars Hill pastors which severely criticized Driscoll was leaked to the public. The letter, written days before Driscoll stepped down, urged him to step down from all aspects of ministry. It included a quote from \"internationally recognized\" author, pastor and former BOAA member Paul Tripp saying, \"This is without a doubt, the most abusive, coercive ministry culture I\\'ve ever been involved with.\" One of the pastors who signed the letter was fired five days later for \"rebellion against the church.\" By September 9, eight of the nine pastors who signed the letter had resigned or been terminated, including worship director Dustin Kensrue. The last of the nine pastors was demoted from pastor to lay elder.\\n\\nStaff layoffs and closure of church branches \\n\\nOn September 7, 2014 (the second week of Driscoll\\'s hiatus), Mars Hill officials, citing \"financial pressures in the wake of recent negative media attention\", announced layoffs and closures of a few church branches. Weekly attendance at the start of the year for all branches was 12,000–13,000, but had dropped to 8,000–9,000. Donations also had a \"steep decline.\" In response, the church planned to lay off \"30 to 40 percent\" of their 100 paid staff members, and close their downtown Seattle branch and University District branch, consolidating both congregations into the Ballard location. Two other branches outside Washington state were marked for possible closure if their finances did not improve. Mars Hill also announced the resignation of Sutton Turner, executive elder since 2011, effective at the end of September 2014.\\n\\nDriscoll\\'s resignation \\nIn the fall of 2014, a group of elders released a report on an investigation into accusations of bullying and intimidating behavior by Driscoll made by 21 former church elders. The investigation involved \"some 1,000 hours of research, interviewing more than 50 people and preparing 200 pages of information.\" The report concluded that Driscoll had never been charged with \"immorality, illegality or heresy,\" and considered \"some of the accusations against Pastor Mark to be altogether unfair or untrue.\" Additionally, the report found that many of the \"other charges had previously been addressed by Pastor Mark, privately and publicly. Indeed, he had publicly confessed and apologized for a number of the charges against him, some of which occurred as long as 14 years ago.\" However, elders did find \"bullying\" and \"patterns of persistent sinful behavior\" by Driscoll. The Board also concluded that Driscoll had \"been guilty of arrogance, responding to conflict with a quick temper and harsh speech, and leading the staff and elders in a domineering manner\", but was not charged with anything immoral or illegal. Driscoll maintained that he had not disqualified himself from ministry.\\n\\nChurch leadership crafted a \"restoration\" plan to help Driscoll and save the church. Instead, Driscoll declined the restoration plan and resigned on October 14, 2014, citing concerns for his health and safety. His resignation came as a \"surprise\" to the church\\'s Board of Overseers, who said in a statement that they had not asked Driscoll for his resignation.\\n\\nIn 2015, after the disbanding of Mars Hill, an executive elder of the church stated that \"There has been much talk about the abusive and coercive culture at Mars Hill. What many people do not realize is that some of the very people who were calling for an end to this type of abuse were using abusive tactics.\" The executive elder stated that he was blackmailed by a staff who asked for more severance pay. He also stated that \"former Mars Hill elders were working to file formal charges against me also. I was told that a former lead pastor was approached to lead a group of people who hoped to force my resignation so that I \\'could not help Pastor Mark Driscoll\\'.\"\\n\\nPastor and theologian John Piper referred to the controversies and subsequent church closure as a \"Satanic victory.\"\\n\\nIt was a defeat for the gospel, it was a defeat for Mark [Driscoll], it was a defeat for evangelicalism, for Reformed Theology, for complementarianism ... It was a colossal Satanic victory.Driscoll\\'s resignation is thoroughly investigated in the podcast The Rise and Fall of Mars Hill.\\n\\nClosing \\nOn October 31, 2014, lead pastor Dave Bruskas announced plans to dissolve the church\\'s 13 remaining campuses into autonomous entities, with the option of continuing, merging with other congregations, or disbanding, effective January 1, 2015.\\n\\nOn December 28, 2014, Rick Warren gave the final Sunday sermon at Mars Hill, encouraging its remaining members to \"give grace\" to its leaders, \"You need to be grateful for all the ways that God used Mars Hill Church. Be grateful for all the ways God used Mark Driscoll.\" Driscoll had previously delivered a sermon at Saddleback Church the weekend Rick Warren grieved the loss of his son.\\n\\nThe Mars Hill Church network officially disbanded Thursday, January 1, 2015. Eleven of the Mars Hill Churches became independent churches and the remaining churches were dissolved.  Prior to the churches disbanding, Mars Hill transferred the majority of its content from its website to  where the church\\'s sermons remain. The Mars Hill website now contains a history of the church and a church directory of the previous Mars Hill churches locations with their new names and websites.\\n\\nPrior to disbanding on January 1, 2015, Mars Hill Church met at twelve locations, mostly in Seattle and Washington state, with three out of state locations in New Mexico, California, and Oregon. A few locations were closed or consolidated on October 12, 2014. After January 1, 2015, each church location dissolved into an independent congregation.  The remaining members of Mars Hill Ballard reorganized as Cross and Crown Church Seattle, led by former Mars Hill Downtown pastor Matthias Haeusel at Mars Hill\\'s former Ballard location.\\n\\nIn February 2016, a federal racketeering lawsuit was filed by former Mars Hill members against both Mars Hill and Driscoll. That lawsuit was dismissed in November 2016 after the plaintiffs said they did not have the money to continue the suit. The plaintiffs\\' online fundraising campaign on GoFundMe had raised $34,660, which was approximately half of its goal.\\n\\nReferences\\n\\nFurther reading\\n\\n Pastor Dude\\'s Mega-Church Draws Crowds - ABC Nightline story about Mars Hill Church\\n Tempers Flare at Debate on the Devil - ABC Nightline debate at Mars Hill Church on the Devil\\n\\nExternal links\\n \\n\\n \\nEmerging church movement\\nEvangelical churches in Washington (state)\\nFormer megachurches\\nChurches in Seattle\\nChristian organizations established in 1996\\nReligious organizations disestablished in 2015',\n",
       " 'lang': 'en'}"
      ]
     },
     "execution_count": 27,
     "metadata": {},
     "output_type": "execute_result"
    }
   ],
   "source": [
    "documents[0]"
   ]
  },
  {
   "cell_type": "code",
   "execution_count": 24,
   "metadata": {},
   "outputs": [],
   "source": [
    "# Extract the document given its docid\n",
    "def get_doc_by_id(doc_id, documents):\n",
    "    my_doc = [doc for doc in documents if doc['docid'] == doc_id]\n",
    "    return my_doc[0]"
   ]
  },
  {
   "cell_type": "code",
   "execution_count": 36,
   "metadata": {},
   "outputs": [],
   "source": [
    "doc = get_doc_by_id('doc-en-810925', documents)"
   ]
  },
  {
   "cell_type": "code",
   "execution_count": 37,
   "metadata": {},
   "outputs": [
    {
     "data": {
      "text/plain": [
       "{'docid': 'doc-en-810925',\n",
       " 'text': 'Triplemanía XIX was a professional wrestling pay-per-view (PPV) event produced by the AAA promotion, which took place on June 18, 2011 at the Palacio de los Deportes (\"Sports Palace\") in Mexico City, Mexico. The event was the nineteenth annual Triplemanía, which is AAA\\'s biggest show of the year. The event featured performers from American promotion Total Nonstop Action Wrestling (TNA) for the second year in a row. The event featured eight matches and was headlined by the culmination of the seven–month storyline rivalry between L.A. Park and El Mesías in a Luchas de Apuestas, or \"bet match\", where Park put his mask and El Mesías his hair on the line. It also featured the crowning of the first ever AAA Latin American and AAA World Trios Champions. At the event, Octagón, who has been a part of AAA since the promotion was founded in 1992, became the fifth inductee into the AAA Hall of Fame.\\n\\nProduction\\n\\nBackground\\nIn early 1992 Antonio Peña was working as a booker and storyline writer for Consejo Mundial de Lucha Libre (CMLL), Mexico\\'s largest and the world\\'s oldest wrestling promotion, and was frustrated by CMLL\\'s very conservative approach to lucha libre. He joined forced with a number of younger, very talented wrestlers who felt like CMLL was not giving them the recognition they deserved and decided to split from CMLL to create Asistencia Asesoría y Administración, later known simply as \"AAA\" or Triple A. After making a deal with the Televisa television network AAA held their first show in April 1992. The following year Peña and AAA held their first Triplemanía event, building it into an annual event that would become AAA\\'s Super Bowl event, similar to the WWE\\'s WrestleMania being the biggest show of the year. The 2011 Triplemanía was the 19th year in a row AAA held a Triplemanía show and the 24th overall show under the Triplemanía banner.\\n\\nStorylines\\nThe Triplemanía XIX show featured eight professional wrestling matches with different wrestlers involved in pre-existing scripted feuds, plots and storylines. Wrestlers were portrayed as either heels (referred to as rudos in Mexico, those that portray the \"bad guys\") or faces (técnicos in Mexico, the \"good guy\" characters) as they followed a series of tension-building events, which culminated in a wrestling match or series of matches.\\n\\nThe year between Triplemanía XVIII and Triplemanía XIX consisted of the ongoing storyline war between the técnicos representing the promotion itself and the rudos of the stable La Sociedad (\"The Society\"), which was formed in the summer of 2010, when La Legión Extranjera (\"The Foreign Legion\") formed an alliance with Los Perros del Mal (\"The Evil Dogs\"), Los Maniacos (\"The Maniacs\") and La Milicia (\"The Militia\"). The AAA side, often called Legado AAA (\"The AAA Legacy\") or Ejército AAA (\"The AAA Army\"), was led by the promotion\\'s president Joaquín Roldán, while his son Dorian Roldán was in charge of La Sociedad along with Konnan, the leader of La Legión Extranjera. In October 2010, Cibernético left Legado AAA, after feeling betrayed by his friends and re–formed his old group Los Bizarros as a third outside group, which was neither part of AAA nor La Sociedad.\\n\\nOn November 22, 2010, La Sociedad member L.A. Park returned to AAA, after spending several weeks wrestling in the United States, to find out that the group\\'s leader Konnan had chosen his longtime La Legión Extranjera stablemate El Zorro as the next challenger for Dr. Wagner Jr.\\'s AAA Mega Championship. Trying to appease Park, Konnan promised him the next shot at the title, provided that he took out one of AAA\\'s top técnicos, El Mesías. Later that night Park first bloodied El Mesías with a steel chair and then pinned him with a low blow in a six-man tag team match. On December 5 at Guerra de Titanes, L.A. Park and El Mesías faced each other in a match, which turned into a brawl, during which both were covered in blood and Park\\'s trademark mask was torn apart, completely revealing his blood covered face. In the end, Park managed to pick up the win after another low blow, multiple shots with a steel chair and an illegal Martinete. However, Park\\'s hopes of receiving a shot at the AAA Mega Championship were delayed, when at the same event El Zorro defeated Dr. Wagner Jr. to become the new champion. Konnan\\'s decision to hand the next title shot to El Zorro\\'s blood rival Charly Manson instead of Park, caused dissension within La Sociedad, just what Konnan wanted to avoid by not having the stablemates wrestle each other. Park then stated that after he won the Rey de Reyes tournament, Konnan would be forced to give him a title shot or face the consequences. On February 19, 2011, Park reiterated his point by assaulting and bloodying El Mesías backstage, after he had qualified for the finals of  Rey de Reyes. On February 28, Park himself entered the tournament and defeated Dr. Wagner Jr., Halloween and Nicho el Millonario in his semifinal match. The finals of the tournament, a four-way match between Park, El Mesías, Carlito Caribbean Cool and Extreme Tiger took place on March 18 at the Rey de Reyes pay-per-view. Park and El Mesías were both eliminated from the match after brawling with each other to a double countout, leading to a win for AAA representative Extreme Tiger. After weeks of more hostilities between the two, including Park performing a Martinete on Mesías on the entrance stage, Mesías powerbombing Park through a table for a win in a six-man tag team match and the two brawling to a no contest due to neither being able to continue the match, on May 18, El Mesías made a challenge, which Park accepted, for a Lucha de Apuestas, or \"bet match\", at Triplemanía XIX, where the loser would either lose his mask or have his hair shaved off. Park later added to the stakes of the match by announcing that he would retire, should he lose his mask.\\n\\nAfter working for AAA for over a decade, El Zorro finally managed to win the AAA Mega Championship for the first time on December 5, 2010, at Guerra de Titanes by defeating Dr. Wagner Jr. with help from his La Sociedad stablemates. Meanwhile, El Zorro\\'s La Sociedad stablemate L.A. Park had earned himself a shot at the AAA Mega Championship, but Konnan, wanting to avoid dissension within his group, denied him his shot and instead named El Zorro\\'s longtime rival Charly Manson the number one contender at Rey de Reyes. After successfully defending the title against Manson, El Zorro, having caught wind of Park\\'s intention of going for his title, seemingly started interfering in Park\\'s matches under his old mask, costing him back–to–back multi–man tag team matches at the April 27 and 30 TV tapings. It would later be revealed that the attacker had actually been Charly Manson, who had been sent by Cibernético to cause dissension within the ranks of La Sociedad. El Zorro, who is known as \"El Profeta de la Lucha Libre\" (\"The Prophet of Wrestling\") and as part of his character has made many accurate prophecies throughout the years, caused even more headache for Konnan by beginning to prophesize of the fall of a dictator, which he interpreted as meaning himself.\\n\\nMeanwhile, La Sociedad co–leader Dorian Roldán struck deal with the founder of American promotion Total Nonstop Action Wrestling (TNA), Jeff Jarrett, to bring wrestlers from his promotion to AAA to help him take over the promotion from his father Joaquín Roldán and mother Marisela Peña Roldan. Konnan, however, was against the idea of his former employer coming to AAA and believed that Roldán had made a mistake. Jarrett and fellow TNA worker Abyss arrived to AAA on May 18 for a confrontation with Konnan and La Sociedad. In the end, Konnan and Jarrett revealed that they were in fact on the same page with each other and turned on El Zorro, along with L.A. Park, with Konnan announcing that Jarrett would be challenging for his AAA Mega Championship at Triplemanía XIX. After witnessing this turn of events, Marisela Peña Roldan finally decided that his son had gone too far and fired him from AAA, which led to Dorian proclaiming that with TNA he would revolutionize lucha libre and eventually the letters AAA would be replaced by TNA. As part of the TNA invasion, it was announced that at Triplemanía XIX TNA Knockouts Angelina Love, Mickie James and Velvet Sky would team with La Sociedad\\'\\'\\'s Sexy Star in an eight-woman tag team match against Cynthia Moreno, Faby Apache, AAA Reina de Reinas Champion Mari Apache and Lolita, Rob Van Dam would face Dr. Wagner Jr. for the newly created AAA Latin American Championship and Abyss and Mr. Anderson would challenge Extreme Tiger and Jack Evans for the AAA World Tag Team Championship in a steel cage match.\\n\\nSince their formation in December 2007, Los Psycho Circus (Monster Clown, Murder Clown and Psycho Clown) had not lost a single match, with AAA claiming that their win streak had reached over 600 victories. During the fall of 2010, Los Psycho Circus were engulfed in a war with the many variations of Los Perros del Mal, with Damián 666, Halloween and the group\\'s leader El Hijo del Perro Aguayo being the most prominent Perros during the feud. After several matches between the two groups went to either a no contest or a countout, they were booked to face each other on December 5 at Guerra de Titanes in a steel cage weapons match, where Los Perros del Mal was represented by Damián 666, Halloween and X-Fly. In the end of the match, Halloween and Murder Clown were left in the cage, when someone wearing a Monster Clown mask ran out, climbed up the cage and prevented Murder Clown from escaping the cage, dropping him down to the mat and allowing Halloween to escape the cage, handing Los Psycho Circus their first ever loss. After the match, the man unmasked himself to reveal El Hijo del Perro Aguayo, who had been sidelined in October with a knee injury with reports stating that he would have to stay out of the ring for the rest of the year. The feud between the two groups continued at March\\'s Rey de Reyes, where Los Perros del Mal, represented by Aguayo, Damián 666, Halloween and Super Crazy, was once again victorious in a match against Los Psycho Circus and Dr. Wagner Jr., the alliance known as Potencia Mundial (\"World Power\"). The feud also spread out to independent promotions International Wrestling Revolution Group (IWRG) and Perros del Mal Producciones (PdM); in IWRG, the groups feuded over the IWRG Intercontinental Trios Championship, which Los Psycho Circus successfully defended against Los Perros, while in PdM, the two groups faced each other in a Masks vs. Hairs steel cage match, which ended with Super Crazy having his hair head shaved off. In May 2011, AAA announced that the promotion was going to crown their first ever World Trios Champions and started a tournament with the finals being held at Triplemanía XIX. Los Psycho Circus advanced to the finals by defeating La Maniarquía (Chessman, Silver King and Último Gladiador) and The Black Family (Dark Cuervo, Dark Espíritu and Dark Ozz), while Los Perros del Mal advanced by defeating Real Fuerza Aérea (Aero Star, Argenis and Laredo Kid) and Los Bizarros (Charly Manson, Cibernético and Escoria) to set up a grudge match for the AAA World Trios Championship at Triplemanía XIX.\\n\\nDuring the early stages of the war between AAA and La Sociedad, Cibernético was one of the top técnicos fighting for AAA. On October 1, 2010, at Héroes Inmortales IV, he was scheduled to team up Heavy Metal, La Parka and Octagón against a team of La Sociedad representatives, but prior to the match Konnan announced that Cibernético had decided to turn his back on AAA and join his team instead. AAA bought Konnan\\'s claim and replaced Cibernético and Octagón, who was injured in a backstage assault by someone resembling Cibernético, in the match with Dark Ozz and Dark Cuervo. However, in the end Cibernético interfered in the match and helped AAA pick up the win. Afterwards, Cibernético, upset with AAA and in particular his friend La Parka for believing he had turned on the company, decided to re–form his old group Los Bizarros with Amadeus, Escoria, Nygma and Taboo. Cibernético made clear that even though Los Bizarros were no longer with AAA, they were not part of La Sociedad either, solidifying the group\\'s status as tweeners. He also tried to recruit his friend El Mesías to join the group, but he decided to stay out of the war of words between his two friends. On November 22, the feud between Cibernético and La Parka turned physical, when Los Bizarros ran out to save El Mesías from a beatdown at the hands of La Sociedad, without making the save for La Parka and Jack Evans. When Parka confronted Cibernético, he was laid out with a stunner, after which Los Bizarros beat him down and Cibernético ripped his mask off his face. The first major battle between Cibernético and La Parka took place on December 5, 2010, at Guerra de Titanes, where Parka teamed up with Dark Espíritu, Extreme Tiger and Jack Evans to defeat Cibernético, Escoria, Nygma and Taboo. After the match, Los Bizarros once again beat down La Parka, after which Cibernético admitted that while Super Fly had been outed as the man who had attacked Octagón prior to Héroes Inmortales IV, he was in fact the one who had orchestrated the attack, meaning that Parka had been right about him all along. He then introduced the returning Charly Manson, who had most recently worked for rival promotion Consejo Mundial de Lucha Libre (CMLL), as the newest member of Los Bizarros. The group\\'s lineup would be finalized a couple of months later with the addition of Billy el Malo, who jumped to Los Bizarros from La Sociedad. Cibernético and La Parka continued their heated rivalry the following months during which it was implied that Cibernético had assaulted and hospitalized Parka\\'s three-year-old son, his own godson, with a broken leg and even provided X-rays, which he used to taunt Parka with. At March\\'s Rey de Reyes, Los Bizarros, represented by Cibernético, Billy el Malo, Escoria and Nygma defeated La Parka, Jack Evans, Joe Líder and Nicho el Millonario, after which Cibernético threatened to light Parka on fire, before being driven out of the ring by Nicho. In May, La Parka formed his own group El Inframundo (\"The Underworld\") with Dark Ozz, Dark Cuervo, Dark Espíritu and the recently debuted Drago to counteract Los Bizarros. On May 13, La Parka challenged Cibernético to a battle of the groups at Triplemanía XIX, which he accepted. It was later revealed that for the event Parka\\'s team would be joined by Octagón, looking for revenge for what happened to him nine months earlier. During the event, Octagón would also become the fifth inductee into the AAA Hall of Fame, following in the footsteps of Antonio Peña, Rey Mysterio Jr., Eddie Guerrero and Pepe Casas.\\n\\nIn September 2010, Silver King and Último Gladiador, two thirds of the stable Los Maniacos, announced they were joining La Sociedad, and although their stablemate Electroshock made no official announcement on whether or not he would be following them, he agreed to represent the group at Héroes Inmortales IV in order to get his hands on longtime rival Heavy Metal, who would represent AAA in the steel cage match between the two groups. After the event, during which Heavy Metal suffered an injury, which would sideline him for four months, Electroshock officially announced that he was not part of La Sociedad and urged Silver King and Último Gladiador to leave the group. At the November 18 event in Naucalpan he once again turned down an offer to join La Sociedad and was as a result beaten down by Silver King, Último Gladiador and La Milicia, turning him técnico in the process. When Heavy Metal returned from his injury on February 4, 2011, he and Electroshock entered a Best of Five series, with the loser having his hair shaved off. During the series, King and Gladiador tried to recruit Heavy Metal as the newest member of Los Maniacos and even interfered in several of the matches, but Heavy Metal made clear that he did not want to join them. The fifth match, a best two-out-of-three falls Bull Terrier match, took place on March 18 at Rey de Reyes, where Heavy Metal was victorious after a guitar shot, forcing Electroshock to have his hair shaved off. After the match both Electroshock and Heavy Metal were attacked by members of La Sociedad, bringing the former rivals together to fight a common enemy. Just two days later, Los Maniacos surprisingly lost the AAA World Tag Team Championship to Extreme Tiger and Jack Evans, after which Silver King and Último Gladiador were seemingly about to break up, but were brought back together by La Legión Extranjera member Chessman, with whom they would re–form Los Maniacos under the new name La Maniarquía. La Maniaquía was booked to settle their grudge with Electroshock and Heavy Metal at Triplemanía XIX in a Tables, Ladders, and Chairs match, for which the técnicos recruited a veteran of hardcore wrestling, Joe Líder, whose partner, Nicho el Millonario, La Maniarquía had injured, as the third member of their team.\\n\\nEvent\\n\\nPre–show\\nThe event at Palacio de los Deportes opened with an eight-man tag team dark match, where La Milicia Extrema (Dark Dragon, Decnnis, Tigre Cota and Tito Santana) faced Fénix, Sugi San and Real Fuerza Aeréa members Aero Star and Argos. In the end, Argos managed to pick up the win for his team by pinning Dark Dragon following a double knee backbreaker.\\n\\nPreliminary matches\\n\\nTriplemanía XIX opened with an in-ring segment, where Konnan first introduced announcer Arturo Rivera, who made his return after recently spending 20 days in coma as a result of a lung infection, and then proclaimed that the night would prove the superiority of American wrestling to Mexican lucha libre, before he was interrupted by Joaquin Roldán. At the conclusion of the segment, the two agreed that anyone who interfered in the evening\\'s matches would be immediately suspended from AAA.\\n\\nThe opening match of Triplemanía XIX saw Sexy Star teaming with Angelina Love, Velvet Sky and TNA Women\\'s Knockout Champion Mickie James against Cynthia Moreno, Faby Apache, Lolita and AAA Reina de Reinas Champion, Mari Apache. The match started with the rudos attacking the técnicos, isolating Moreno from her partners and quickly taking advantage in the match. Eventually Moreno, Mari Apache and Lolita all dove out of the ring onto Love, Sexy and Sky, leaving James and Faby Apache in the ring. In the end, James pinned Apache for the win with the Mickie–DT, after startling her with a kiss. After the match, the two teams brawled backstage.\\n\\nAfter the opening match, Joaquin Roldán inducted Octagón into the AAA Hall of Fame.\\n\\nIn the second match of the pay-per-view, Electroshock, Heavy Metal and Joe Líder faced La Maniarquía, consisting of Chessman, Último Gladiador and Silver King, who in Mexico City is forced to wrestle under the ring name Silver Cain as a way of being able to wear his mask, in a Tables, Ladders and Chairs match. La Maniarquía was accompanied to the ring by their mascot Maniaquito and their La Sociedad stablemate, AAA World Mixed Tag Team Champion Jennifer Blake, while Heavy Metal was accompanied by his valet Nanyzh Rock, midget companion Lokillo and musician Charly Montana. While every one of them followed the earlier agreement between Joaquin Roldán and Konnan and did not interfere in the match, Joe Líder\\'s partner Nicho el Millonario, seeking revenge on La Maniarquía, ran in and tried to replace Heavy Metal, who had been taken out of the match by Chessman, which led to Roldán coming out with security and having them remove Nicho from the arena. Soon afterwards, Heavy Metal returned to the match and threw Último Gladiador from the top rope through a cello, given to him by Montana, while Electroshock superbombed Chessman through a table. Heavy Metal followed up by performing a diving elbow drop on Gladiador, after which the técnico duo scored a double pin on their opponents to win the match.\\n\\nIn the third match, Cibernético, Billy el Malo, Charly Manson and Escoria of Los Bizarros faced La Parka, Dark Ozz and Drago of El Inframundo, who teamed with newly inducted Hall of Famer Octagón. At the end of the brawl, masked Los Bizarros member Taboo appeared at the top of the entrance ramp holding La Parka\\'s ten-year-old son, who revealed on the microphone that Taboo was his uncle and thus La Parka\\'s brother, the luchador formerly known as Lasser Boy. Meanwhile, in the ring, Cibernético took advantage of the distraction, hit Parka with a Garra Cibernetica and pinned him for the win. After the match, Cibernético revealed that Taboo had been the one who had helped him invade Parka\\'s home and provided him with the X-rays of his godson\\'s broken leg back in January. Taboo ended the segment by declaring Los Bizarros his new family.\\n\\nThe fourth match of Triplemanía XIX saw Extreme Tiger and Jack Evans defending the AAA World Tag Team Championship in a steel cage match against TNA X Division Champion Abyss and TNA World Heavyweight Champion Mr. Anderson. The team whose both members managed to escape the cage would be declared the winner. Abyss and Anderson dominated the match early, but eventually Extreme Tiger was able to get away from Abyss and escape the cage. In a two–on–one advantage the TNA team was even more dominant and after more double–teaming, Mr. Anderson eventually climbed out of the cage. Left in the cage with Abyss, Evans managed to dodge his attack, use his speed to take him down and hit him with a 450° splash. Evans attempted to escape the cage, but Abyss stopped him, opened the bag he had entered the cage with and emptied its contents, thumbtacks, on the mat. Abyss attempted to chokeslam Evans off the ropes, but Evans escaped the hold by biting his fingers and then powerbombed him onto the tacks. Evans climbed to the top of the cage, but, instead of escaping, dove back into the ring onto Abyss with a crossbody. Immediately afterwards, Evans climbed back up and escaped the cage to successfully defend the AAA World Tag Team Championship.\\n\\nIn the fifth match Los Psycho Circus faced Los Perros del Mal in a tournament final to determine the first ever AAA World Trios Champions. In the match Los Perros del Mal was represented by Damián 666, Halloween and X-Fly, the same team that wrestled in the tournament\\'s first round. In the semifinals of the tournament, El Hijo del Perro Aguayo had replaced X-Fly and he was supposed to do the same at Triplemanía XIX, but was forced to pull out of the event as a result of his body\\'s adverse reaction to the medication given to him as part of his recent tumor treatment. Los Psycho Circus was accompanied to the match by their debuting mascot, Mini Clown. Just prior to the start of the match, the two teams agreed to make it an \"Extreme match\", which meant that much like their many previous matches against each other, this also featured various weapons used by both Los Psycho Circus and Los Perros del Mal. Eventually, Halloween stopped Psycho Clown\\'s top rope hurricanrana attempt with a low blow and dropped him with a top rope Death Valley driver through a table for the win. With their win, Los Perros del Mal were crowned the first ever AAA World Trios Champions.\\n\\nMain event matches\\nIn the first semi–main event of the evening, La Sociedad member Jeff Jarrett challenged El Zorro for the AAA Mega Championship. Like the other matches involving TNA workers, the match was refereed by La Sociedad\\'s own referee, Hijo del Tirantes, who showed bias towards Jarrett throughout the match. On several occasions Jarrett attempted to get El Zorro to submit with an ankle lock, the signature hold of his TNA rival Kurt Angle, but when he realized he was not going to succeed in his attempt, he took advantage of a distraction from his wife Karen and smashed El Zorro with his signature guitar, but to his surprise, only managed to get a two count out of the following pinfall. Jarrett then took a hold of El Zorro\\'s kendo stick, hit him with it and then put it across his throat and performed his finishing maneuver The Stroke to become the new AAA Mega Champion and the first ever American to hold the title. Jarrett left the ring as fans in attendance started to fill it with bottles.\\n\\nThe Mask vs. Hair match between L.A. Park and El Mesías, which had been billed as the top match of the event, took place next, with L.A. Park being accompanied to the ring by his son El Hijo de L.A. Park and the wheelchair-bound Pierroth, neither of whom were working for AAA. Just like in their previous bout at December\\'s Guerra de Titanes, both wrestlers were bloodied and L.A. Park\\'s mask was torn to pieces during the brawl around the arena. With the match in his control following a Skull Bomb and a topé suicida, Park pulled out a table from under the ring, set it up inside the ring and climbed on top of it for his signature dance, but was then surprised by a diving spear through the table from El Mesías, which was however only good for a two count. El Mesías followed up with a double knee backbreaker and a Mesías Splash for another two count, before locking Park in a sharpshooter. Eventually, Park managed to reach the ropes, but El Mesías pulled him back to the center of the ring and re-applied the hold. Park feigned submission by lightly tapping El Mesías on the back, which led to him releasing the hold as he believed he had won the match. El Mesías climbed to the top rope to celebrate his \"win\" and when referee Piero tried to explain that Park had not in fact submitted, El Mesías swung his leg back and accidentally kicked him in the head. Park took advantage of the distraction, hit El Mesías with brass knuckles, made the pin and scored a three count to win the match. After the match, El Mesías had his hair shaved off with L.A. Park mocking Marisela Peña Roldan, who was seated in the front row. At this point the event had lasted over three and a half hours, which led to many in attendance leaving the arena after the match, not sticking around for the main event of the evening.\\n\\nIn the main event of the show, Dr. Wagner Jr. faced TNA worker Rob Van Dam to determine the first ever AAA Latin American Champion. Wagner, like L.A. Park, was accompanied to the ring by his son, independent worker Dr. Wagner III, with both him and Van Dam carrying the flags of their native countries. Van Dam used a steel chair on several occasions in the match, including kicking it in Wagner\\'s face from the top rope. Eventually Wagner started a comeback with a top rope head-and-arm suplex suplex, before signaling for his finishing maneuver, the Wagner Driver. Wagner managed to hit the move, but Van Dam kicked out of the following pinfall. Wagner followed up with a rope hung DDT onto a steel chair, which was good enough for a three count. With the win Dr. Wagner Jr. became the first ever AAA Latin American Champion. The show ended with AAA\\'s técnicos entering the ring to celebrate Wagner\\'s and AAA\\'s win over TNA and La Sociedad.\\n\\nAftermath\\nAt the press conference following the event, new AAA Latin American Champion Dr. Wagner Jr. put over his opponent for the night, Rob Van Dam, as a tough and unique opponent and stated that he was grateful for the opportunity to wrestle him. He also teased a possible match with Jeff Jarrett for the AAA Mega Championship and a Mask vs. Mask match against L.A. Park at Triplemanía XX, while also suggesting that now was the time for AAA to invade TNA. Meanwhile, Jarrett stated that Triplemanía XIX was only the beginning of TNA\\'s invasion of AAA. TNA acknowledged Jarrett\\'s win on the front page of their official website, calling him the \"Heavyweight Champion of Mexico\", not mentioning any of the other matches or even the name of the promotion.\\n\\nIn the days following the event, Joaquin Roldán reaffirmed that Nicho el Millonario had been suspended indefinitely for interfering in the Tables, Ladders and Chairs match. Konnan, meanwhile, gloated that, despite Abyss\\' and Anderson\\'s failure to capture the AAA World Tag Team Championship, the TNA wrestlers as a whole had proven their superiority, just like he had promised. Konnan explained Van Dam\\'s defeat in the main event by claiming that he had gotten injured during the match, but promised him a rematch with Wagner Jr. as soon as he had recovered. He also challenged Mari Apache to put her AAA Reina de Reinas Championship on the line against Mickie James.\\n\\nMickie James returned to AAA on July 9, this time defeating Mari Apache with a kiss and a Mickie–DT, before challenging her to a match for the Reina de Reinas Championship at Verano de Escándalo. After Wagner Jr. continued making challenges towards Jarrett, he was given a match for the AAA Mega Championship at Verano de Escándalo, but Konnan included L.A. Park in the match to make sure that the title stayed in La Sociedad. In late June and early July, Jack Evans became the first AAA contracted worker to work for TNA, when he made appearances on both their primary television show, Impact Wrestling, and at the Destination X pay-per-view, but once again AAA was never mentioned by name and it was simply announced that he had been working in Mexico the past years. Meanwhile, TNA workers Abyss, Samoa Joe and Scott Steiner made appearances in AAA, representing TNA and La Sociedad. Jarrett returned to Impact Wrestling on July 14, carrying the \"Mexican Heavyweight Championship\" belt, the AAA Mega Championship belt with the main plate, including the AAA letters, covered completely by a new white plate with a Mexican flag on it. After threatening to quit the promotion over his suspension, Nicho el Millonario returned to AAA on July 16, turning rudo and attacking Joe Líder, after he tried to calm him down as he was berating Joaquín Roldán.\\n\\nReceptionGrita Radio analyst Jonathan Sánchez was highly critical of the performances of the TNA wrestlers, outside of Rob Van Dam, claiming that they did not show any quality and once again proved that American wrestling lacks the spark of Mexican lucha libre and Japanese puroresu, going as far as calling the match between El Zorro and Jeff Jarrett \"terrible\", claiming it was uncreative and bored the audience. He named the match between L.A. Park and El Mesías \"by far the best so far this year\", but claimed that the event as a whole fell short of expectations due to the lack of domestic competition in Mexico. Súper Luchas\\'\\' magazine\\'s Eduardo Cano Vela was more positive in his review, taking his hat off for Triplemanía XIX, claiming that AAA had showed how to put together a major event.\\n\\nResults\\n\\nReferences\\n\\nExternal links\\nTriplemanía XIX at LuchaLibreAAA.com\\n\\n2011 in professional wrestling\\nTriplemanía\\nEvents in Mexico City\\n2011 in Mexico\\nJune 2011 events in Mexico',\n",
       " 'lang': 'en'}"
      ]
     },
     "execution_count": 37,
     "metadata": {},
     "output_type": "execute_result"
    }
   ],
   "source": [
    "doc"
   ]
  },
  {
   "cell_type": "code",
   "execution_count": 25,
   "metadata": {},
   "outputs": [],
   "source": [
    "languages = ['en', 'de', 'fr', 'es', 'it', 'ar', 'ko']\n",
    "\n",
    "def get_langauge(lang_id):\n",
    "    \"\"\"\n",
    "    Returns the language name given the language id in order to pass it to the stopwords function\n",
    "    \"\"\"\n",
    "    cases = {\n",
    "        'en' : 'english',\n",
    "        'de' : 'german',\n",
    "        'fr' : 'french',\n",
    "        'es' : 'spanish',\n",
    "        'it' : 'italian',\n",
    "        'ar' : 'arabic',\n",
    "        'ko' : 'korean'\n",
    "    }\n",
    "    return cases.get(lang_id, 'unknown') "
   ]
  },
  {
   "cell_type": "code",
   "execution_count": 14,
   "metadata": {},
   "outputs": [],
   "source": [
    "def preprocess_text(text, language_id):\n",
    "    \"\"\"\n",
    "    Preprocess the text by removing stopwords, stemming and lemmatizing the text\n",
    "    \"\"\"\n",
    "    # remove punctuation\n",
    "    text = \"\".join([ch for ch in text if ch not in string.punctuation])\n",
    "    # remove stopwords\n",
    "    stop_words = set(stopwords.words(get_langauge(language_id)))\n",
    "    words = nltk.word_tokenize(text)\n",
    "    words = [word for word in words if word.lower() not in stop_words]\n",
    "    # stemming\n",
    "    stemmer = PorterStemmer()\n",
    "    words = [stemmer.stem(word) for word in words]\n",
    "    # lemmatization\n",
    "    lemmatizer = WordNetLemmatizer()\n",
    "    words = [lemmatizer.lemmatize(word) for word in words]\n",
    "    return words"
   ]
  },
  {
   "cell_type": "code",
   "execution_count": 10,
   "metadata": {},
   "outputs": [],
   "source": [
    "# def cosine_similarity(a, b):\n",
    "#     return np.dot(a, b) / (np.linalg.norm(a) * np.linalg.norm(b))"
   ]
  },
  {
   "cell_type": "markdown",
   "metadata": {},
   "source": [
    "#### Get the model"
   ]
  },
  {
   "cell_type": "code",
   "execution_count": 28,
   "metadata": {},
   "outputs": [
    {
     "name": "stderr",
     "output_type": "stream",
     "text": [
      "/home/rfaro/anaconda3/lib/python3.10/site-packages/huggingface_hub/file_download.py:1142: FutureWarning: `resume_download` is deprecated and will be removed in version 1.0.0. Downloads always resume when possible. If you want to force a new download, use `force_download=True`.\n",
      "  warnings.warn(\n",
      "/home/rfaro/anaconda3/lib/python3.10/site-packages/huggingface_hub/file_download.py:1142: FutureWarning: `resume_download` is deprecated and will be removed in version 1.0.0. Downloads always resume when possible. If you want to force a new download, use `force_download=True`.\n",
      "  warnings.warn(\n"
     ]
    }
   ],
   "source": [
    "model = SentenceTransformer('bert-base-nli-mean-tokens')"
   ]
  },
  {
   "cell_type": "code",
   "execution_count": 63,
   "metadata": {},
   "outputs": [],
   "source": [
    "# Embedding the documents -> this will take a while: DO NOT USE IT\n",
    "documents_embeddings = []\n",
    "for doc in documents[10:50]:\n",
    "    # print(doc['docid'])\n",
    "    text = doc['text']\n",
    "    embeddings = model.encode(text)\n",
    "    documents_embeddings.append(embeddings)"
   ]
  },
  {
   "cell_type": "code",
   "execution_count": null,
   "metadata": {},
   "outputs": [],
   "source": [
    "# list of all texts of the collection\n",
    "[doc['text'] for doc in documents]"
   ]
  },
  {
   "cell_type": "code",
   "execution_count": 49,
   "metadata": {},
   "outputs": [],
   "source": [
    "# Smartert way to embed the documents\n",
    "documents_embeddings2 = model.encode([doc['text'] for doc in documents])"
   ]
  },
  {
   "cell_type": "code",
   "execution_count": null,
   "metadata": {},
   "outputs": [],
   "source": [
    "# check gpu \n",
    "import torch\n",
    "device = torch.device(\"cuda\" if torch.cuda.is_available() else \"cpu\")\n",
    "print(device)"
   ]
  },
  {
   "cell_type": "code",
   "execution_count": 15,
   "metadata": {},
   "outputs": [
    {
     "name": "stderr",
     "output_type": "stream",
     "text": [
      "21875it [08:10, 44.62it/s]\n"
     ]
    }
   ],
   "source": [
    "# embedding the queries -> this will take a while: DO NOT USE IT\n",
    "train_queries_embeddings = []\n",
    "gt_documents = []\n",
    "for _, query in tqdm(train_queries.iterrows()):\n",
    "    embeddings = model.encode(query['query'])\n",
    "    gt_documents.append(query['positive_docs'])\n",
    "    train_queries_embeddings.append(embeddings)"
   ]
  },
  {
   "cell_type": "code",
   "execution_count": 24,
   "metadata": {},
   "outputs": [],
   "source": [
    "# convert the embeddings to numpy arrays\n",
    "documents_embeddings_np = np.array(documents_embeddings)"
   ]
  },
  {
   "cell_type": "code",
   "execution_count": 25,
   "metadata": {},
   "outputs": [
    {
     "data": {
      "text/plain": [
       "(1000, 768)"
      ]
     },
     "execution_count": 25,
     "metadata": {},
     "output_type": "execute_result"
    }
   ],
   "source": [
    "documents_embeddings_np.shape"
   ]
  },
  {
   "cell_type": "code",
   "execution_count": 27,
   "metadata": {},
   "outputs": [],
   "source": [
    "# Perform the cosine similarity between the first query and all the documents\n",
    "train_queries_embeddings_reshaped = train_queries_embeddings[0].reshape(1, -1)\n",
    "similarity_scores = cosine_similarity(train_queries_embeddings_reshaped, documents_embeddings_np)"
   ]
  },
  {
   "cell_type": "code",
   "execution_count": 30,
   "metadata": {},
   "outputs": [],
   "source": [
    "# find index of the 10 most similar documents\n",
    "most_similar_docs = np.argsort(similarity_scores[0])[-10:]"
   ]
  },
  {
   "cell_type": "code",
   "execution_count": 31,
   "metadata": {},
   "outputs": [
    {
     "data": {
      "text/plain": [
       "array([ 30, 978, 993, 833, 668, 503, 900, 457, 807, 583])"
      ]
     },
     "execution_count": 31,
     "metadata": {},
     "output_type": "execute_result"
    }
   ],
   "source": [
    "most_similar_docs"
   ]
  },
  {
   "cell_type": "code",
   "execution_count": 32,
   "metadata": {},
   "outputs": [
    {
     "data": {
      "text/plain": [
       "['doc-en-10634',\n",
       " 'doc-en-12492',\n",
       " 'doc-en-3250',\n",
       " 'doc-en-16089',\n",
       " 'doc-en-8017',\n",
       " 'doc-en-5989',\n",
       " 'doc-en-9127',\n",
       " 'doc-en-10148',\n",
       " 'doc-en-9116',\n",
       " 'doc-en-161']"
      ]
     },
     "execution_count": 32,
     "metadata": {},
     "output_type": "execute_result"
    }
   ],
   "source": [
    "# recoveer the docids of the most similar documents\n",
    "most_similar_docids = [documents[i]['docid'] for i in most_similar_docs]\n",
    "most_similar_docids"
   ]
  },
  {
   "cell_type": "code",
   "execution_count": 33,
   "metadata": {},
   "outputs": [],
   "source": [
    "# save documents embeddings\n",
    "np.save('documents_embeddings.npy', documents_embeddings_np)"
   ]
  },
  {
   "cell_type": "code",
   "execution_count": 34,
   "metadata": {},
   "outputs": [],
   "source": [
    "doc2= np.load('documents_embeddings.npy')"
   ]
  },
  {
   "cell_type": "code",
   "execution_count": 36,
   "metadata": {},
   "outputs": [
    {
     "data": {
      "text/plain": [
       "(1000, 768)"
      ]
     },
     "execution_count": 36,
     "metadata": {},
     "output_type": "execute_result"
    }
   ],
   "source": [
    "doc2.shape"
   ]
  },
  {
   "cell_type": "code",
   "execution_count": 54,
   "metadata": {},
   "outputs": [],
   "source": [
    "# create query embeddings of the test set\n",
    "test_queries_path = '../dis-project-1-document-retrieval/test.csv'\n",
    "test_queries = pd.read_csv(test_queries_path)\n",
    "test_queries_input = [query['query'] for _, query in test_queries.iterrows()]"
   ]
  },
  {
   "cell_type": "code",
   "execution_count": null,
   "metadata": {},
   "outputs": [],
   "source": [
    "# Embedding the test queries\n",
    "test_queries_embeddings = model.encode(test_queries_input)"
   ]
  },
  {
   "cell_type": "code",
   "execution_count": null,
   "metadata": {},
   "outputs": [],
   "source": [
    "# # DO NOT USE IT -> it will take a while\n",
    "# def create_submission(queries_embeddings, documents_embeddings):\n",
    "#     \"\"\"\n",
    "#     Create a submission file with the 10 most similar documents for each query\n",
    "#     \"\"\"\n",
    "#     submission = []\n",
    "#     for i, query_embeddings in enumerate(queries_embeddings):\n",
    "#         similarity_scores = cosine_similarity(query_embeddings.reshape(1, -1), documents_embeddings)\n",
    "#         most_similar_docs = np.argsort(similarity_scores[0])[-10:]\n",
    "#         most_similar_docids = [documents[i]['docid'] for i in most_similar_docs]\n",
    "#         submission.append({\n",
    "#             'query_id': i,\n",
    "#             'retrieved_docs': most_similar_docids\n",
    "#         })\n",
    "    \n",
    "#     # save the submission file in csv\n",
    "#     submission_df = pd.DataFrame(submission)\n",
    "#     submission_df.to_csv('submission.csv', index=False)\n",
    "#     print('Submission file created successfully')\n"
   ]
  },
  {
   "cell_type": "code",
   "execution_count": 51,
   "metadata": {},
   "outputs": [],
   "source": [
    "# load and merge the embeddings of the documents\n",
    "documents_embeddings1 = np.load('../DIS_Project/doc_embeddings/documents_embeddings_23795.npy')\n",
    "documents_embeddings2 = np.load('../DIS_Project/doc_embeddings/documents_embeddings2.npy')\n",
    "documents_embeddings = np.concatenate((documents_embeddings1, documents_embeddings2), axis=0)\n"
   ]
  },
  {
   "cell_type": "code",
   "execution_count": 53,
   "metadata": {},
   "outputs": [],
   "source": [
    "# save the merged embeddings\n",
    "np.save('full_documents_embeddings.npy', documents_embeddings)"
   ]
  },
  {
   "cell_type": "code",
   "execution_count": 56,
   "metadata": {},
   "outputs": [],
   "source": [
    "# load test queries embeddings\n",
    "test_queries_embeddings = np.load('../DIS_Project/doc_embeddings/test_queries_embeddings.npy')"
   ]
  },
  {
   "cell_type": "code",
   "execution_count": 57,
   "metadata": {},
   "outputs": [
    {
     "data": {
      "text/plain": [
       "(2000, 768)"
      ]
     },
     "execution_count": 57,
     "metadata": {},
     "output_type": "execute_result"
    }
   ],
   "source": [
    "test_queries_embeddings.shape"
   ]
  },
  {
   "cell_type": "code",
   "execution_count": 58,
   "metadata": {},
   "outputs": [],
   "source": [
    "# calculate the cosine similarity between the test queries and the documents without for loop\n",
    "sim_matrix = cosine_similarity(test_queries_embeddings, documents_embeddings)"
   ]
  },
  {
   "cell_type": "code",
   "execution_count": 59,
   "metadata": {},
   "outputs": [
    {
     "data": {
      "text/plain": [
       "(2000, 268022)"
      ]
     },
     "execution_count": 59,
     "metadata": {},
     "output_type": "execute_result"
    }
   ],
   "source": [
    "sim_matrix.shape"
   ]
  },
  {
   "cell_type": "code",
   "execution_count": 60,
   "metadata": {},
   "outputs": [
    {
     "data": {
      "text/plain": [
       "(268022,)"
      ]
     },
     "execution_count": 60,
     "metadata": {},
     "output_type": "execute_result"
    }
   ],
   "source": [
    "sim_matrix[0].shape"
   ]
  },
  {
   "cell_type": "markdown",
   "metadata": {},
   "source": [
    "### Embed each word in documents and combine them "
   ]
  },
  {
   "cell_type": "code",
   "execution_count": 8,
   "metadata": {},
   "outputs": [
    {
     "name": "stderr",
     "output_type": "stream",
     "text": [
      "/home/rfaro/anaconda3/lib/python3.10/site-packages/huggingface_hub/file_download.py:1142: FutureWarning: `resume_download` is deprecated and will be removed in version 1.0.0. Downloads always resume when possible. If you want to force a new download, use `force_download=True`.\n",
      "  warnings.warn(\n"
     ]
    }
   ],
   "source": [
    "from transformers import BertTokenizer\n",
    "tokenizer_bert = BertTokenizer.from_pretrained('bert-base-uncased')\n",
    "# bert_vocabularies = create_vocabulary_language(documents, languages, tokenizer_bert)"
   ]
  },
  {
   "cell_type": "code",
   "execution_count": 19,
   "metadata": {},
   "outputs": [
    {
     "name": "stdout",
     "output_type": "stream",
     "text": [
      "ar\n",
      "['ا', '##ل', '##ح', '##س', '##و', '##ن', 'ا', '##ل', '##ا', '##م', '##ر', '##ي', '##ك', '##ي', '،', 'ا', '##ل', '##م', '##ع', '##ر', '##و', '##ف', 'م', '##ح', '##ل', '##ي', '##ا', 'ا', '##ي', '##ض', '##ا', 'ب', '##ا', '##س', '##م', 'ا', '##ل', '##ح', '##س', '##و', '##ن', 'ا', '##ل', '##ش', '##ر', '##ق', '##ي', 'و', '##ا', '##ل', '##ك', '##ن', '##ا', '##ر', 'ا', '##ل', '##ب', '##ر', '##ي', '،', 'ه', '##و', 'ط', '##ا', '##ي', '##ر', 'ص', '##غ', '##ي', '##ر', 'ي', '##ق', '##ط', '##ن', 'ا', '##م', '##ر', '##ي', '##ك', '##ا', 'ا', '##ل', '##ش', '##م', '##ا', '##ل', '##ي', '##ة', 'و', '##ي', '##ن', '##ت', '##م', '##ي', 'ا', '##ل', '##ى', 'ف', '##ص', '##ي', '##ل', '##ة', 'ا', '##ل', '##ش', '##ر', '##ش', '##و', '##ر', '##ي', '##ا', '##ت', '.', 'ه', '##ذ', '##ه', 'ا', '##ل', '##ط', '##ي', '##و', '##ر', 'م', '##ه', '##ا', '##ج', '##ر', '##ة', '،', 'ي', '##م', '##ت', '##د', 'ن', '##ط', '##ا', '##ق', 'م', '##و', '##ط', '##ن', '##ه', '##ا', 'م', '##ن', 'و', '##س', '##ط', 'ا', '##ل', '##ب', '##ر', '##ت', '##ا', 'ا', '##ل', '##ى', 'ك', '##ا', '##ر', '##و', '##ل', '##ي', '##ن', '##ا', 'ا', '##ل', '##ش', '##م', '##ا', '##ل', '##ي', '##ة', 'خ', '##ل', '##ا', '##ل', 'م', '##و', '##س', '##م', 'ا', '##ل', '##ت', '##ف', '##ر', '##ي', '##خ', '،', 'و', '##م', '##ن', 'ج', '##ن', '##و', '##ب', 'ا', '##ل', '##ح', '##د', '##و', '##د', 'ا', '##ل', '##ك', '##ن', '##د', '##ي', '##ة', 'ا', '##ل', '##ى', 'ا', '##ل', '##م', '##ك', '##س', '##ي', '##ك', 'خ', '##ل', '##ا', '##ل', 'ف', '##ص', '##ل', 'ا', '##ل', '##ش', '##ت', '##ا', '##ء', '.', 'ا', '##ل', '##ح', '##س', '##و', '##ن', 'ا', '##ل', '##ا', '##م', '##ر', '##ي', '##ك', '##ي', 'ه', '##و', 'ا', '##ل', '##م', '##م', '##ث', '##ل', 'ا', '##ل', '##و', '##ح', '##ي', '##د', 'ل', '##ا', '##س', '##ر', '##ت', '##ه', '،', 'و', '##ي', '##م', '##ر', 'ب', '##ط', '##و', '##ر', 'ط', '##ر', '##ح', 'ر', '##ي', '##ش', 'ك', '##ا', '##م', '##ل', 'س', '##ن', '##و', '##ي', '##ا', '،', 'و', '##ت', '##ظ', '##ه', '##ر', 'ل', '##د', '##ى', 'ا', '##ل', '##ن', '##و', '##ع', 'م', '##ث', '##ن', '##و', '##ي', '##ة', 'ش', '##ك', '##ل', '##ي', '##ة', 'ج', '##ن', '##س', '##ي', '##ة', 'و', '##ا', '##ض', '##ح', '##ة', 'م', '##ن', 'ح', '##ي', '##ث', 'ل', '##و', '##ن', 'ا', '##ل', '##ك', '##س', '##و', '##ة', '[UNK]', 'ف', '##ر', '##ي', '##ش', 'ا', '##ل', '##ذ', '##ك', '##و', '##ر', 'ا', '##ص', '##ف', '##ر', 'ب', '##ر', '##ا', '##ق', 'م', '##ت', '##ا', '##ل', '##ق', 'و', '##م', '##ت', '##م', '##ي', '##ز', 'ف', '##ي', 'م', '##و', '##س', '##م', 'ا', '##ل', '##ت', '##ف', '##ر', '##ي', '##خ', 'خ', '##ل', '##ا', '##ل', 'ا', '##ش', '##ه', '##ر', 'ا', '##ل', '##ص', '##ي', '##ف', '،', 'ب', '##ي', '##د', 'ا', '##ن', '##ه', 'ي', '##غ', '##د', '##و', 'ز', '##ي', '##ت', '##و', '##ن', '##ي', '##ا', 'ك', '##ا', '##م', '##د', '##ا', '،', 'ش', '##ب', '##ي', '##ه', '##ا', 'ا', '##ل', '##ى', 'ح', '##د', 'ب', '##ع', '##ي', '##د', 'ب', '##ر', '##ي', '##ش', 'ا', '##ل', '##ان', '##ث', '##ى', '،', 'خ', '##ل', '##ا', '##ل', 'ب', '##ق', '##ي', '##ة', 'ا', '##ل', '##س', '##ن', '##ة', '.', 'ا', '##م', '##ا', 'ا', '##ل', '##ان', '##ث', '##ى', 'ف', '##ر', '##ي', '##ش', '##ه', '##ا', 'ك', '##م', '##ا', 'س', '##ل', '##ف', ':', 'ا', '##ص', '##ف', '##ر', 'ك', '##ا', '##م', '##د', 'ض', '##ا', '##ر', '##ب', 'ا', '##ل', '##ى', 'ا', '##ل', '##ب', '##ن', '##ي', '،', 'و', '##ل', '##ا', 'ي', '##ص', '##ب', '##ح', 'ب', '##ا', '##ر', '##ق', '##ا', 'ا', '##ل', '##ا', 'ب', '##ع', '##ض', 'ا', '##ل', '##ش', '##ي', '##ء', 'خ', '##ل', '##ا', '##ل', 'ا', '##ل', '##ص', '##ي', '##ف', '.', 'ا', '##ل', '##ح', '##س', '##ا', '##س', '##ي', '##ن', 'ا', '##ل', '##ا', '##م', '##ر', '##ي', '##ك', '##ي', '##ة', 'ا', '##ك', '##ل', '##ة', 'ل', '##ل', '##ب', '##ذ', '##و', '##ر', '،', 'و', '##ق', '##د', 'ت', '##ك', '##ي', '##ف', '##ت', 'ع', '##ل', '##ى', 'ا', '##ل', '##ا', '##ق', '##ت', '##ي', '##ا', '##ت', 'ع', '##ل', '##ى', 'ر', '##و', '##و', '##س', 'ا', '##ل', '##ب', '##ذ', '##و', '##ر', 'ف', '##ق', '##ط', '،', 'ف', '##ه', '##ي', 'ت', '##م', '##ت', '##ل', '##ك', 'م', '##ن', '##ق', '##ا', '##ر', '##ا', 'م', '##خ', '##ر', '##و', '##ط', '##ي', 'ا', '##ل', '##ش', '##ك', '##ل', 'م', '##ل', '##ا', '##ي', '##م', '##ا', 'ل', '##ان', '##ت', '##ز', '##ا', '##ع', 'ا', '##ل', '##ب', '##ذ', '##و', '##ر', 'م', '##ن', 'ا', '##ل', '##ن', '##ب', '##ا', '##ت', '[UNK]', 'و', '##ق', '##و', '##ا', '##ي', '##م', '##ه', '##ا', 'ر', '##ش', '##ي', '##ق', '##ة', 'ن', '##ح', '##ي', '##ل', '##ة', 'ت', '##م', '##ك', '##ن', '##ه', '##ا', 'م', '##ن', 'ا', '##ل', '##ت', '##م', '##س', '##ك', 'ب', '##س', '##و', '##ق', 'ا', '##ل', '##ن', '##ب', '##ت', '##ة', 'ا', '##ث', '##ن', '##ا', '##ء', 'ا', '##ل', '##ا', '##ق', '##ت', '##ي', '##ا', '##ت', '.', 'ه', '##ذ', '##ه', 'ا', '##ل', '##ش', '##ر', '##ا', '##ش', '##ي', '##ر', 'ا', '##ل', '##ص', '##غ', '##ي', '##ر', '##ة', 'ا', '##ل', '##م', '##ت', '##ا', '##ل', '##ق', '##ة', 'ط', '##ي', '##و', '##ر', 'ا', '##ج', '##ت', '##م', '##ا', '##ع', '##ي', '##ة', '،', 'ت', '##ش', '##ا', '##ه', '##د', 'ب', '##و', '##ج', '##ه', 'ع', '##ا', '##م', 'ف', '##ي', 'ا', '##س', '##ر', '##ا', '##ب', 'ض', '##خ', '##م', '##ة', '،', 'ت', '##ق', '##ت', '##ا', '##ت', 'ب', '##ب', '##ذ', '##و', '##ر', 'ا', '##ل', '##ن', '##ب', '##ا', '##ت', '##ا', '##ت', 'ا', '##ل', '##ش', '##و', '##ك', '##ي', '##ة', 'ع', '##ل', '##ى', 'ج', '##و', '##ان', '##ب', 'ا', '##ل', '##ط', '##ر', '##ق', 'و', '##ب', '##ا', '##ع', '##ش', '##ا', '##ب', 'ض', '##ا', '##ر', '##ة', 'ا', '##خ', '##ر', '##ى', '.', 'ع', '##ن', '##د', 'ا', '##ن', '##ز', '##ع', '##ا', '##ج', 'ا', '##ل', '##ا', '##س', '##ر', '##ا', '##ب', '،', 'ت', '##ط', '##ي', '##ر', 'م', '##ر', '##ت', '##ف', '##ع', '##ة', 'ف', '##ي', 'ا', '##ل', '##ه', '##و', '##ا', '##ء', 'و', '##ت', '##د', '##و', '##ر', 'و', '##ه', '##ي', 'ت', '##ز', '##ق', '##ز', '##ق', 'ط', '##و', '##ا', '##ل', 'ا', '##ل', '##و', '##ق', '##ت', 'ق', '##ب', '##ل', 'ا', '##ن', 'ت', '##ه', '##د', '##ا', 'م', '##ر', '##ة', 'ث', '##ان', '##ي', '##ة', '.', 'ل', '##ه', '##ا', 'ت', '##غ', '##ر', '##ي', '##د', 'ع', '##ذ', '##ب', 'ك', '##ت', '##غ', '##ر', '##ي', '##د', 'ا', '##ل', '##ك', '##ن', '##ا', '##ر', '،', 'ت', '##ط', '##ل', '##ق', '##ه', 'ا', '##ث', '##ن', '##ا', '##ء', 'ت', '##ح', '##ل', '##ي', '##ق', '##ه', '##ا', 'ا', '##ل', '##د', '##و', '##ر', '##ان', '##ي', 'ف', '##ي', 'ط', '##ي', '##ر', '##ان', '##ه', '##ا', 'ا', '##ل', '##غ', '##ن', '##ا', '##ي', '##ي', '،', 'و', '##ه', '##ذ', '##ا', 'م', '##ا', 'ا', '##ك', '##س', '##ب', '##ه', '##ا', 'ا', '##س', '##م', '##ه', '##ا', 'ا', '##ل', '##ش', '##ع', '##ب', '##ي', '،', 'ا', '##ي', 'ا', '##ل', '##ك', '##ن', '##ا', '##ر', 'ا', '##ل', '##ب', '##ر', '##ي', '،', 'و', '##ان', 'ك', '##ان', 'غ', '##ي', '##ر', 'ص', '##ح', '##ي', '##ح', 'م', '##ن', 'و', '##ج', '##ه', '##ة', 'ا', '##ل', '##ن', '##ظ', '##ر', 'ا', '##ل', '##ع', '##ل', '##م', '##ي', '##ة', 'ا', '##ل', '##ط', '##ي', '##ر', '##ي', '##ة', '.', 'ع', '##ش', 'ه', '##ذ', '##ا', 'ا', '##ل', '##ن', '##و', '##ع', 'ك', '##ا', '##س', 'ا', '##ن', '##ي', '##ق', '##ة', 'ف', '##ي', 'ش', '##ج', '##ر', '##ة', 'ا', '##و', 'ج', '##ن', '##ب', '##ة', '،', 'و', '##ق', '##د', 'ت', '##ت', '##ص', '##ر', '##ف', 'ا', '##ل', '##ط', '##ي', '##و', '##ر', 'ب', '##ع', '##د', '##ا', '##ي', '##ي', '##ة', 'م', '##ن', '##ا', '##ط', '##ق', '##ي', '##ة', 'خ', '##ل', '##ا', '##ل', 'ا', '##ن', '##ش', '##ا', '##ء', 'ا', '##ل', '##ع', '##ش', '،', 'ل', '##ك', '##ن', 'ه', '##ذ', '##ا', 'ل', '##ا', 'ي', '##د', '##و', '##م', 'ط', '##و', '##ي', '##ل', '##ا', '.', 'ي', '##ر', '##ت', '##ب', '##ط', 'م', '##و', '##س', '##م', 'ا', '##ل', '##ت', '##ف', '##ر', '##ي', '##خ', 'ب', '##ا', '##ل', '##ف', '##ت', '##ر', '##ة', 'ا', '##ل', '##ت', '##ي', 'ي', '##ك', '##ث', '##ر', 'ف', '##ي', '##ه', '##ا', 'ا', '##ل', '##ط', '##ع', '##ا', '##م', '،', 'ف', '##ي', '##ب', '##د', '##ا', 'ف', '##ي', 'ا', '##و', '##ا', '##خ', '##ر', 'ش', '##ه', '##ر', 'ي', '##و', '##ل', '##ي', '##و', '،', 'و', '##ه', '##ي', 'ف', '##ت', '##ر', '##ة', 'ت', '##ع', '##ت', '##ب', '##ر', 'م', '##ت', '##ا', '##خ', '##ر', '##ة', 'ب', '##ا', '##ل', '##ن', '##س', '##ب', '##ة', 'ل', '##ا', '##ي', 'ن', '##و', '##ع', 'م', '##ن', 'ا', '##ل', '##ش', '##ر', '##ا', '##ش', '##ي', '##ر', '.', 'ا', '##ل', '##ح', '##س', '##و', '##ن', 'ا', '##ل', '##ا', '##م', '##ر', '##ي', '##ك', '##ي', 'ا', '##ح', '##ا', '##د', '##ي', 'ا', '##ل', '##ت', '##ز', '##ا', '##و', '##ج', 'ع', '##ا', '##د', '##ة', '،', 'ا', '##ي', 'ا', '##ن', 'ا', '##ل', '##ف', '##ر', '##د', 'م', '##ن', '##ه', '##ا', 'ي', '##ك', '##ت', '##ف', '##ي', 'ب', '##ش', '##ر', '##ي', '##ك', 'و', '##ا', '##ح', '##د', 'و', '##ي', '##خ', '##ل', '##ص', 'ل', '##ه', '،', 'و', '##ي', '##ن', '##ت', '##ج', 'ا', '##ل', '##ز', '##و', '##ج', 'ح', '##ض', '##ن', '##ة', 'و', '##ا', '##ح', '##د', '##ة', 'ف', '##ي', 'ا', '##ل', '##س', '##ن', '##ة', '.', 'ك', '##ان', 'ل', '##ل', '##ن', '##ش', '##ا', '##ط', 'ا', '##ل', '##ب', '##ش', '##ر', '##ي', 'ا', '##ث', '##ر', 'ط', '##ي', '##ب', 'و', '##م', '##ف', '##ي', '##د', 'ع', '##ل', '##ى', 'ج', '##م', '##ه', '##ر', '##ا', '##ت', 'ا', '##ل', '##ح', '##س', '##و', '##ن', 'ا', '##ل', '##ا', '##م', '##ر', '##ي', '##ك', '##ي', '،', 'ف', '##غ', '##ا', '##ل', '##ب', '##ا', 'م', '##ا', 'ي', '##م', '##ك', '##ن', 'ا', '##ل', '##ع', '##ث', '##و', '##ر', 'ع', '##ل', '##ي', '##ه', '##ا', 'ف', '##ي', 'ا', '##ل', '##م', '##ن', '##ا', '##ط', '##ق', 'ا', '##ل', '##س', '##ك', '##ن', '##ي', '##ة', '،', 'ت', '##ج', '##ذ', '##ب', '##ه', '##ا', 'م', '##ن', '##ص', '##ا', '##ت', 'ت', '##غ', '##ذ', '##ي', '##ة', 'ا', '##ل', '##ط', '##ي', '##و', '##ر', 'ا', '##ل', '##ت', '##ي', 'ت', '##ر', '##ف', '##ع', 'م', '##ن', 'ح', '##ظ', '##و', '##ظ', '##ه', '##ا', 'ف', '##ي', 'ا', '##ل', '##ب', '##ق', '##ا', '##ء', 'ف', '##ي', 'ه', '##ك', '##ذ', '##ا', 'م', '##و', '##ا', '##ي', '##ل', 'ا', '##ص', '##ط', '##ن', '##ا', '##ع', '##ي', '##ة', '.', 'ك', '##ذ', '##ل', '##ك', 'ا', '##س', '##ت', '##ف', '##ا', '##د', '##ت', 'ه', '##ذ', '##ه', 'ا', '##ل', '##ط', '##ي', '##و', '##ر', 'م', '##ن', 'ا', '##ز', '##ا', '##ل', '##ة', 'ا', '##ل', '##غ', '##ا', '##ب', '##ا', '##ت', 'ا', '##ل', '##ت', '##ي', 'ر', '##ا', '##ف', '##ق', '##ت', 'ا', '##ق', '##ا', '##م', '##ة', 'ا', '##ل', '##ب', '##ل', '##د', '##ا', '##ت', 'و', '##ا', '##ل', '##ق', '##ر', '##ى', '،', 'ا', '##ذ', 'و', '##ف', '##ر', '##ت', 'ل', '##ه', '##ا', 'ت', '##ل', '##ك', 'ا', '##ل', '##ع', '##م', '##ل', '##ي', '##ا', '##ت', 'م', '##و', '##ا', '##ي', '##ل', '##ه', '##ا', 'ا', '##ل', '##ط', '##ب', '##ي', '##ع', '##ي', '##ة', 'ا', '##ل', '##م', '##ف', '##ض', '##ل', '##ة', '،', 'ا', '##ل', '##ا', 'و', '##ه', '##ي', 'ا', '##ل', '##م', '##ر', '##و', '##ج', '.', 'ك', '##ان', 'ع', '##ا', '##ل', '##م', 'ا', '##ل', '##ط', '##ي', '##و', '##ر', 'ا', '##ن', '##ط', '##و', '##ن', '##ي', '##و', 'ا', '##ر', '##ن', '##ا', '##ي', '##ز', '[UNK]', 'ه', '##و', 'ا', '##و', '##ل', 'م', '##ن', 'ر', '##س', '##م', 'ا', '##ل', '##ش', '##ج', '##ر', '##ة', 'ا', '##ل', '##ت', '##ا', '##ر', '##ي', '##خ', '##ي', '##ع', '##ر', '##ق', '##ي', '##ة', 'ل', '##ه', '##ذ', '##ه', 'ا', '##ل', '##ط', '##ي', '##و', '##ر', '.', 'ا', '##ل', '##ت', '##ص', '##ن', '##ي', '##ف', 'ا', '##ل', '##ع', '##ل', '##م', '##ي', 'ت', '##ا', '##ر', '##ي', '##خ', 'ا', '##ل', '##ت', '##ص', '##ن', '##ي', '##ف', 'و', '##ا', '##ل', '##ت', '##ا', '##ث', '##ي', '##ل', 'ك', '##ان', 'ا', '##ل', '##ح', '##س', '##و', '##ن', 'ا', '##ل', '##ا', '##م', '##ر', '##ي', '##ك', '##ي', 'ا', '##ح', '##د', 'ا', '##ن', '##و', '##ا', '##ع', 'ا', '##ل', '##ط', '##ي', '##و', '##ر', 'ا', '##ل', '##ت', '##ي', 'و', '##ص', '##ف', '##ه', '##ا', 'ع', '##ا', '##ل', '##م', 'ا', '##ل', '##ح', '##ي', '##و', '##ان', 'ا', '##ل', '##س', '##و', '##ي', '##د', '##ي', 'ك', '##ا', '##ر', '##و', '##ل', '##و', '##س', 'ل', '##ي', '##ن', '##ي', '##و', '##س', 'ف', '##ي', 'ا', '##ل', '##ط', '##ب', '##ع', '##ة', 'ا', '##ل', '##ع', '##ا', '##ش', '##ر', '##ة', 'ا', '##ل', '##ا', '##س', '##ا', '##س', '##ي', '##ة', 'م', '##ن', 'م', '##و', '##ل', '##ف', '##ه', 'م', '##ن', 'ع', '##ا', '##م', '1758', 'ح', '##ا', '##م', '##ل', 'ع', '##ن', '##و', '##ان', '«', 'ا', '##ل', '##ن', '##ظ', '##ا', '##م', 'ا', '##ل', '##ط', '##ب', '##ي', '##ع', '##ي', '»', '.', 'و', '##ض', '##ع', 'ه', '##ذ', '##ا', 'ا', '##ل', '##ط', '##ا', '##ي', '##ر', 'ف', '##ي', 'ب', '##ا', '##د', '##ي', 'ا', '##ل', '##ا', '##م', '##ر', 'ض', '##م', '##ن', 'ا', '##ل', '##ج', '##ن', '##س', 'spin', '##us', 'ا', '##ل', '##ذ', '##ي', 'ض', '##م', 'ج', '##م', '##ي', '##ع', 'ح', '##س', '##ا', '##س', '##ي', '##ن', 'و', '##ن', '##ع', '##ا', '##ر', '##ا', '##ت', 'ا', '##ل', '##ع', '##ا', '##ل', '##م', 'ا', '##ل', '##ج', '##د', '##ي', '##د', '،', 'ق', '##ب', '##ل', 'ا', '##ن', 'ي', '##ت', '##م', 'د', '##م', '##ج', 'ه', '##ذ', '##ا', 'ا', '##ل', '##ج', '##ن', '##س', 'ا', '##ل', '##ا', '##خ', '##ي', '##ر', 'ع', '##ا', '##م', '1976', 'ض', '##م', '##ن', 'ج', '##ن', '##س', 'ا', '##ل', '##ح', '##س', '##و', '##ن', '##ي', '##ا', '##ت', 'ب', '##ص', '##ف', '##ت', '##ه', 'ض', '##ر', '##ب', 'م', '##ن', '##ه', '،', 'و', '##ح', '##م', '##ل', 'ف', '##ي', 'ف', '##ت', '##ر', '##ة', 'م', '##ن', 'ا', '##ل', '##ف', '##ت', '##ر', '##ا', '##ت', 'ا', '##س', '##م', 'as', '##tra', '##gal', '##inus', 'tri', '##stis', 'ا', '##ل', '##ع', '##ل', '##م', '##ي', '.', 'ا', '##ق', '##ر', '##ب', 'ا', '##ل', '##ط', '##ي', '##و', '##ر', 'ا', '##ل', '##ى', 'ا', '##ل', '##ح', '##س', '##و', '##ن', 'ا', '##ل', '##ا', '##م', '##ر', '##ي', '##ك', '##ي', 'ه', '##ي', ':', 'ا', '##ل', '##ح', '##س', '##و', '##ن', 'ا', '##ل', '##ا', '##ص', '##غ', '##ر', '(', 'c', '.', 'ps', '##al', '##tri', '##a', ')', '،', 'و', '##ح', '##س', '##و', '##ن', 'ل', '##و', '##ر', '##ن', '##س', '(', 'c', '.', 'lawrence', '##i', ')', '،', 'و', '##ا', '##ل', '##ن', '##ع', '##ا', '##ر', '##ا', '##ت', '.', 'ع', '##ل', '##ى', 'ا', '##ل', '##ر', '##غ', '##م', 'م', '##ن', 'ا', '##ن', 'ه', '##ذ', '##ا', 'ا', '##ل', '##ط', '##ا', '##ي', '##ر', 'ي', '##ت', '##ش', '##ا', '##ر', '##ك', 'ف', '##ي', 'ا', '##ل', '##ا', '##س', '##م', 'م', '##ع', 'ا', '##ل', '##ح', '##س', '##و', '##ن', 'ا', '##ل', '##ا', '##و', '##ر', '##ا', '##س', '##ي', '،', 'ا', '##ل', '##ا', 'ا', '##ن', 'ك', '##ل', '##ا', 'م', '##ن', '##ه', '##م', '##ا', 'ي', '##ن', '##ت', '##م', '##ي', 'ا', '##ل', '##ى', 'ض', '##ر', '##ب', 'م', '##خ', '##ت', '##ل', '##ف', '،', 'و', '##ل', '##ي', '##س', '##ا', 'و', '##ث', '##ي', '##ق', '##ا', 'ا', '##ل', '##ص', '##ل', '##ة', '.', 'ي', '##ش', '##ت', '##ق', 'ا', '##س', '##م', 'ا', '##ل', '##ج', '##ن', '##س', 'card', '##uel', '##is', 'م', '##ن', 'ا', '##ل', '##ك', '##ل', '##م', '##ة', 'ا', '##ل', '##ل', '##ا', '##ت', '##ي', '##ن', '##ي', '##ة', 'card', '##u', '##us', '،', 'و', '##ه', '##ي', 'ت', '##ع', '##ن', '##ي', '«', 'ا', '##ل', '##ش', '##و', '##ك', '»', 'ا', '##و', '«', 'ش', '##و', '##ك', '##ة', '»', '،', 'ا', '##م', '##ا', 'ا', '##س', '##م', 'ا', '##ل', '##ن', '##و', '##ع', 'tri', '##stis', 'ف', '##ه', '##ي', 'ا', '##ل', '##م', '##ق', '##ا', '##ب', '##ل', 'ا', '##ل', '##ل', '##ا', '##ت', '##ي', '##ن', '##ي', 'ل', '##ك', '##ل', '##م', '##ة', '«', 'م', '##ت', '##ا', '##ل', '##م', '»', 'ا', '##و', '«', 'ح', '##ز', '##ي', '##ن', '»', '.', 'ا', '##ل', '##س', '##ل', '##ا', '##ل', '##ا', '##ت', 'ه', '##ن', '##ا', '##ك', 'ا', '##ر', '##ب', '##ع', '##ة', 'س', '##ل', '##ا', '##ل', '##ا', '##ت', 'م', '##ع', '##ت', '##ر', '##ف', 'ب', '##ه', '##ا', 'م', '##ن', 'ا', '##ل', '##ح', '##س', '##و', '##ن', 'ا', '##ل', '##ا', '##م', '##ر', '##ي', '##ك', '##ي', '،', 'و', '##ه', '##ي', ':', 'ا', '##ل', '##س', '##ل', '##ا', '##ل', '##ة', 'ا', '##ل', '##ش', '##ج', '##ي', '##ن', '##ة', '(', 'c', '.', 't', '.', 'tri', '##stis', ')', ':', 'ا', '##ك', '##ث', '##ر', 'ا', '##ل', '##س', '##ل', '##ا', '##ل', '##ا', '##ت', 'ش', '##ي', '##و', '##ع', '##ا', '،', 'ي', '##م', '##ت', '##د', 'ن', '##ط', '##ا', '##ق', 'م', '##و', '##ط', '##ن', '##ه', '##ا', 'ا', '##ل', '##ش', '##ت', '##و', '##ي', 'م', '##ن', 'ج', '##ن', '##و', '##ب', 'ك', '##ن', '##د', '##ا', 'ح', '##ت', '##ى', 'ك', '##و', '##ل', '##و', '##ر', '##ا', '##د', '##و', '،', 'و', '##ش', '##ر', '##ق', '##ا', 'ح', '##ت', '##ى', 'ك', '##ل', 'م', '##ن', 'ك', '##ا', '##ر', '##و', '##ل', '##ي', '##ن', '##ا', 'ا', '##ل', '##ش', '##م', '##ا', '##ل', '##ي', '##ة', 'و', '##ا', '##ل', '##ج', '##ن', '##و', '##ب', '##ي', '##ة', '.', 'ا', '##م', '##ا', 'م', '##و', '##ط', '##ن', '##ه', '##ا', 'ا', '##ل', '##ش', '##ت', '##و', '##ي', 'ف', '##ي', '##م', '##ت', '##د', 'م', '##ن', 'ج', '##ن', '##و', '##ب', 'ك', '##ن', '##د', '##ا', 'ح', '##ت', '##ى', 'ف', '##ل', '##و', '##ر', '##ي', '##د', '##ا', 'ج', '##ن', '##و', '##ب', '##ا', 'و', '##و', '##س', '##ط', 'ا', '##ل', '##م', '##ك', '##س', '##ي', '##ك', '.', 'ا', '##ل', '##س', '##ل', '##ا', '##ل', '##ة', 'ا', '##ل', '##ب', '##ا', '##ه', '##ت', '##ة', '(', 'c', '.', 't', '.', 'pal', '##lid', '##us', ')', ':', 'ي', '##م', '##ك', '##ن', 'ت', '##م', '##ي', '##ي', '##ز', '##ه', '##ا', 'ع', '##ن', 'ب', '##ا', '##ق', '##ي', 'ا', '##ل', '##س', '##ل', '##ا', '##ل', '##ا', '##ت', 'ع', '##ب', '##ر', 'ل', '##و', '##ن', '##ه', '##ا', 'ا', '##ل', '##ا', '##ب', '##ه', '##ت', '،', 'و', '##ع', '##ل', '##ا', '##م', '##ا', '##ت', '##ه', '##ا', 'ا', '##ل', '##ب', '##ي', '##ض', '##ا', '##ء', 'ا', '##ل', '##ا', '##ك', '##ث', '##ر', 'ن', '##ص', '##ع', '##ا', '،', 'و', '##ق', '##ل', '##ن', '##س', '##و', '##ة', 'ا', '##ل', '##ذ', '##ك', '##و', '##ر', 'ا', '##ل', '##س', '##و', '##د', '##ا', '##ء', 'ا', '##ل', '##ا', '##ك', '##ب', '##ر', '.', 'ت', '##ف', '##و', '##ق', 'ا', '##ل', '##س', '##ل', '##ا', '##ل', '##ة', 'ا', '##ل', '##ش', '##ج', '##ي', '##ن', '##ة', 'ح', '##ج', '##م', '##ا', 'ب', '##ق', '##ل', '##ي', '##ل', '،', 'و', '##ي', '##م', '##ت', '##د', 'م', '##و', '##ط', '##ن', '##ه', '##ا', 'ا', '##ل', '##ص', '##ي', '##ف', '##ي', 'م', '##ن', 'ك', '##و', '##ل', '##و', '##م', '##ب', '##ي', '##ا', 'ا', '##ل', '##ب', '##ر', '##ي', '##ط', '##ان', '##ي', '##ة', 'ا', '##ل', '##ى', 'غ', '##ر', '##ب', '##ي', 'ا', '##و', '##ن', '##ت', '##ا', '##ر', '##ي', '##و', '،', 'ف', '##ج', '##ن', '##و', '##ب', '##ا', 'ا', '##ل', '##ى', 'ك', '##و', '##ل', '##و', '##ر', '##ا', '##د', '##و', '،', 'ث', '##م', 'غ', '##ر', '##ب', '##ا', 'ا', '##ل', '##ى', 'ا', '##و', '##ر', '##ي', '##گ', '##و', '##ن', '.', 'ف', '##ي', 'ا', '##ل', '##ش', '##ت', '##ا', '##ء', 'ي', '##م', '##ت', '##د', 'م', '##و', '##ط', '##ن', '##ه', '##ا', 'م', '##ن', 'ج', '##ن', '##و', '##ب', 'ك', '##ن', '##د', '##ا', 'و', '##ش', '##م', '##ا', '##ل', 'ك', '##ا', '##ل', '##ي', '##ف', '##و', '##ر', '##ن', '##ي', '##ا', 'ج', '##ن', '##و', '##ب', '##ا', 'ا', '##ل', '##ى', 'ا', '##ل', '##م', '##ك', '##س', '##ي', '##ك', '.', 'ا', '##ل', '##س', '##ل', '##ا', '##ل', '##ة', 'ا', '##ل', '##ج', '##و', '##ت', '##ي', '##ة', '(', 'c', '.', 't', '.', 'jew', '##etti', ')', ':', 'ا', '##ص', '##غ', '##ر', 'ح', '##ج', '##م', '##ا', 'و', '##ا', '##ق', '##ت', '##م', 'ل', '##و', '##ن', '##ا', 'م', '##ن', 'ب', '##ا', '##ق', '##ي', 'ا', '##ل', '##س', '##ل', '##ا', '##ل', '##ا', '##ت', '.', 'ت', '##س', '##ت', '##و', '##ط', '##ن', 'ا', '##ل', '##م', '##ن', '##ح', '##د', '##ر', '##ا', '##ت', 'ا', '##ل', '##س', '##ا', '##ح', '##ل', '##ي', '##ة', 'م', '##ن', 'س', '##ل', '##س', '##ل', '##ة', 'ج', '##ب', '##ا', '##ل', 'ا', '##ل', '##ك', '##س', '##ك', '##ي', '##د', 'م', '##ن', 'ج', '##ن', '##و', '##ب', 'ك', '##و', '##ل', '##و', '##م', '##ب', '##ي', '##ا', 'ا', '##ل', '##ب', '##ر', '##ي', '##ط', '##ان', '##ي', '##ة', 'ح', '##ت', '##ى', 'ا', '##و', '##ا', '##س', '##ط', 'ك', '##ا', '##ل', '##ي', '##ف', '##و', '##ر', '##ن', '##ي', '##ا', '،', 'و', '##ي', '##ت', '##ق', '##ا', '##ط', '##ع', 'م', '##و', '##ط', '##ن', '##ه', '##ا', 'م', '##ع', 'م', '##و', '##ط', '##ن', 'ا', '##ل', '##س', '##ل', '##ا', '##ل', '##ة', 'ا', '##ل', '##ب', '##ا', '##ه', '##ت', '##ة', '.', 'ا', '##ل', '##س', '##ل', '##ا', '##ل', '##ة', 'ا', '##ل', '##ص', '##ف', '##ص', '##ا', '##ف', '##ي', '##ة', '(', 'c', '.', 't', '.', 'sal', '##ica', '##mans', ')', ':', 'ت', '##ن', '##ت', '##ش', '##ر', 'غ', '##ر', '##ب', '##ي', 'ص', '##ح', '##ر', '##ا', '##ء', '[UNK]', 'خ', '##ل', '##ا', '##ل', 'ا', '##ش', '##ه', '##ر', 'ا', '##ل', '##ص', '##ي', '##ف', '،', 'و', '##ج', '##ن', '##و', '##ب', '##ي', 'و', '##و', '##س', '##ط', 'ب', '##ا', '##ه', '##ا', 'ك', '##ا', '##ل', '##ي', '##ف', '##و', '##ر', '##ن', '##ي', '##ا', 'و', '##ص', '##و', '##ل', '##ا', 'ا', '##ل', '##ى', 'ص', '##ح', '##ر', '##ا', '##ء', '[UNK]', 'و', '##ص', '##ح', '##ر', '##ا', '##ء', 'ك', '##و', '##ل', '##و', '##ر', '##ا', '##د', '##و', 'خ', '##ل', '##ا', '##ل', 'ا', '##ش', '##ه', '##ر', 'ا', '##ل', '##ش', '##ت', '##ا', '##ء', '.', 'ي', '##ك', '##ت', '##س', '##ي', 'ك', '##ل', '##ا', 'ا', '##ل', '##ج', '##ن', '##س', '##ي', '##ن', 'ب', '##ر', '##ي', '##ش', 'ا', '##ك', '##ث', '##ر', 'م', '##ي', '##ل', '##ان', '##ا', 'ا', '##ل', '##ى', 'ا', '##ل', '##ب', '##ن', '##ي', 'م', '##ن', 'غ', '##ي', '##ر', '##ه', '##ا', 'م', '##ن', 'ا', '##ل', '##س', '##ل', '##ا', '##ل', '##ا', '##ت', 'خ', '##ل', '##ا', '##ل', 'ا', '##ل', '##ش', '##ه', '##و', '##ر', 'س', '##ا', '##ل', '##ف', '##ة', 'ا', '##ل', '##ذ', '##ك', '##ر', '،', 'و', '##ف', '##ي', 'ا', '##ل', '##ص', '##ي', '##ف', 'ي', '##ل', '##ا', '##ح', '##ظ', 'ا', '##ن', 'ق', '##ل', '##ن', '##س', '##و', '##ة', 'ا', '##ل', '##ذ', '##ك', '##ر', 'ا', '##ص', '##غ', '##ر', 'ح', '##ج', '##م', '##ا', 'ق', '##ل', '##ن', '##س', '##و', '##ة', 'ذ', '##ك', '##و', '##ر', 'ب', '##ا', '##ق', '##ي', 'ا', '##ل', '##س', '##ل', '##ا', '##ل', '##ا', '##ت', '.', 'ي', '##ط', '##ل', '##ق', 'ع', '##ل', '##ى', 'ه', '##ذ', '##ه', 'ا', '##ل', '##س', '##ل', '##ا', '##ل', '##ة', 'ا', '##ي', '##ض', '##ا', 'ا', '##س', '##م', '«', 'ح', '##س', '##و', '##ن', 'ا', '##ل', '##ص', '##ف', '##ص', '##ا', '##ف', '»', '.', 'ا', '##ل', '##و', '##ص', '##ف', 'ا', '##ل', '##ق', '##د', 'ا', '##ل', '##ح', '##س', '##و', '##ن', 'ا', '##ل', '##ا', '##م', '##ر', '##ي', '##ك', '##ي', 'ش', '##ر', '##ش', '##و', '##ر', 'ص', '##غ', '##ي', '##ر', 'ا', '##ل', '##ح', '##ج', '##م', '،', 'ي', '##ت', '##ر', '##ا', '##و', '##ح', 'ط', '##و', '##ل', '##ه', 'ب', '##ي', '##ن', '11', 'و', '##13', 'س', '##ن', '##ت', '##ي', '##م', '##ت', '##ر', '##ا', '(', 'ب', '##ي', '##ن', '4', '.', '3', 'و', '##5', '.', '1', 'ا', '##ن', '##ش', ')', '،', 'و', '##ي', '##ت', '##ر', '##ا', '##و', '##ح', 'ب', '##ا', '##ع', 'ج', '##ن', '##ا', '##ح', '##ي', '##ه', 'ب', '##ي', '##ن', '19', 'و', '##22', 'س', '##ن', '##ت', '##ي', '##م', '##ت', '##ر', '(', 'ب', '##ي', '##ن', '7', '.', '5', 'و', '##8', '.', '7', 'ا', '##ن', '##ش', '##ا', '##ت', ')', '،', 'ا', '##م', '##ا', 'ز', '##ن', '##ت', '##ه', 'ف', '##ت', '##ت', '##ر', '##ا', '##و', '##ح', 'ب', '##ي', '##ن', '11', 'و', '##20', 'غ', '##ر', '##ا', '##م', '##ا', '(', 'ب', '##ي', '##ن', '0', '.', '39', 'و', '##0', '.', '71', 'ا', '##و', '##ن', '##ص', '##ة', ')', '.', 'ا', '##ل', '##م', '##ن', '##ق', '##ا', '##ر', 'ص', '##غ', '##ي', '##ر', '،', 'و', '##م', '##خ', '##ر', '##و', '##ط', '##ي', '،', 'و', '##ل', '##و', '##ن', '##ه', 'و', '##ر', '##د', '##ي', 'ا', '##غ', '##ل', '##ب', 'ا', '##ي', '##ا', '##م', 'ا', '##ل', '##س', '##ن', '##ة', '،', 'ل', '##ك', '##ن', '##ه', 'ي', '##ت', '##ح', '##و', '##ل', 'ا', '##ل', '##ى', 'ب', '##ر', '##ت', '##ق', '##ا', '##ل', '##ي', 'ب', '##ا', '##ه', '##ت', 'ع', '##ن', '##د', 'ك', '##ل', '##ا', 'ا', '##ل', '##ج', '##ن', '##س', '##ي', '##ن', 'خ', '##ل', '##ا', '##ل', 'م', '##و', '##س', '##م', 'ط', '##ر', '##ح', 'ا', '##ل', '##ر', '##ي', '##ش', 'ف', '##ي', 'ا', '##ل', '##ر', '##ب', '##ي', '##ع', '.', 'ي', '##س', '##ا', '##ع', '##د', 'ش', '##ك', '##ل', 'و', '##ح', '##ج', '##م', 'ا', '##ل', '##م', '##ن', '##ق', '##ا', '##ر', 'ا', '##ل', '##ط', '##ا', '##ي', '##ر', 'ع', '##ل', '##ى', 'ا', '##س', '##ت', '##خ', '##ر', '##ا', '##ج', 'ا', '##ل', '##ب', '##ز', '##و', '##ر', 'م', '##ن', 'ك', '##و', '##ا', '##س', '##ي', '##ه', '##ا', 'ع', '##ل', '##ى', 'ا', '##ل', '##ا', '##ش', '##و', '##ا', '##ك', 'ا', '##ل', '##ب', '##ر', '##ي', '##ة', 'و', '##ز', '##ه', '##و', '##ر', 'د', '##و', '##ا', '##ر', 'ا', '##ل', '##ش', '##م', '##س', '،', 'و', '##غ', '##ي', '##ر', '##ه', '##ا', 'م', '##ن', 'ا', '##ل', '##ن', '##ب', '##ا', '##ت', '##ا', '##ت', '.', 'ا', '##ل', '##ك', '##س', '##و', '##ة', 'ت', '##ط', '##ر', '##ح', 'ا', '##ل', '##ح', '##س', '##ا', '##س', '##ي', '##ن', 'ا', '##ل', '##ا', '##م', '##ر', '##ي', '##ك', '##ي', '##ة', 'ر', '##ي', '##ش', '##ه', '##ا', 'م', '##ر', '##ت', '##ي', '##ن', 'ف', '##ي', 'ا', '##ل', '##س', '##ن', '##ة', ':', 'م', '##ر', '##ة', 'خ', '##ل', '##ا', '##ل', 'ا', '##ل', '##ر', '##ب', '##ي', '##ع', 'و', '##ا', '##خ', '##ر', '##ى', 'خ', '##ل', '##ا', '##ل', 'ا', '##ل', '##خ', '##ر', '##ي', '##ف', '،', 'و', '##ه', '##ي', 'ا', '##ل', '##ح', '##س', '##ا', '##س', '##ي', '##ن', 'ا', '##ل', '##و', '##ح', '##ي', '##د', '##ة', 'ا', '##ل', '##ت', '##ي', 'ت', '##ب', '##د', '##ل', 'ا', '##ل', '##ر', '##ي', '##ش', 'م', '##ر', '##ت', '##ي', '##ن', '.', 'خ', '##ل', '##ا', '##ل', 'ا', '##ل', '##ش', '##ت', '##ا', '##ء', 'ي', '##ط', '##ر', '##ح', 'ا', '##ل', '##ر', '##ي', '##ش', 'ك', '##ا', '##م', '##ل', '##ا', '،', 'ا', '##م', '##ا', 'خ', '##ل', '##ا', '##ل', 'ا', '##ل', '##ر', '##ب', '##ي', '##ع', 'ف', '##ل', '##ا', 'ت', '##ط', '##ر', '##ح', 'ر', '##ي', '##ش', '##ا', '##ت', 'ا', '##ل', '##ج', '##ن', '##ا', '##ح', '##ي', '##ن', 'و', '##ا', '##ل', '##ذ', '##ي', '##ل', '،', 'ذ', '##ا', '##ت', 'ا', '##ل', '##ل', '##و', '##ن', 'ا', '##ل', '##ب', '##ن', '##ي', 'ا', '##ل', '##ق', '##ا', '##ت', '##م', 'ع', '##ن', '##د', 'ا', '##ل', '##ان', '##ا', '##ث', 'و', '##ا', '##ل', '##ا', '##س', '##و', '##د', 'ع', '##ن', '##د', 'ا', '##ل', '##ذ', '##ك', '##و', '##ر', '.', 'ي', '##ت', '##م', '##ت', '##ع', 'ا', '##ل', '##ح', '##س', '##و', '##ن', 'ا', '##ل', '##ا', '##م', '##ر', '##ي', '##ك', '##ي', 'ب', '##ع', '##ل', '##ا', '##م', '##ا', '##ت', 'م', '##م', '##ي', '##ز', '##ة', 'ع', '##ل', '##ى', 'ر', '##ي', '##ش', '##ه', 'ت', '##س', '##ت', '##م', '##ر', 'ظ', '##ا', '##ه', '##ر', '##ة', 'خ', '##ل', '##ا', '##ل', 'ك', '##ل', 'ط', '##ر', '##ح', '،', 'و', '##ه', '##ي', 'ع', '##ب', '##ا', '##ر', '##ة', 'ع', '##ن', 'ش', '##ر', '##ا', '##ي', '##ط', 'ع', '##ل', '##ى', 'ا', '##ل', '##ج', '##ن', '##ا', '##ح', '##ي', '##ن', '،', 'و', '##ع', '##ل', '##ا', '##م', '##ا', '##ت', 'ب', '##ي', '##ض', '##ا', '##ء', 'ع', '##ل', '##ى', 'ط', '##ر', '##ف', 'ذ', '##ي', '##ل', '##ه', '##ا', 'ا', '##ل', '##ق', '##ص', '##ي', '##ر', 'ا', '##ل', '##م', '##ث', '##ل', '##م', '.', 'ت', '##ظ', '##ه', '##ر', 'م', '##ث', '##ن', '##و', '##ي', '##ة', 'ا', '##ل', '##ش', '##ك', '##ل', 'ا', '##ل', '##ج', '##ن', '##س', '##ي', '##ة', 'ع', '##ن', '##د', 'ه', '##ذ', '##ه', 'ا', '##ل', '##ط', '##ي', '##و', '##ر', '،', 'ا', '##ل', '##م', '##م', '##ث', '##ل', '##ة', 'ب', '##ل', '##و', '##ن', 'ا', '##ل', '##ر', '##ي', '##ش', '،', 'و', '##ا', '##ض', '##ح', '##ة', 'ل', '##ل', '##ع', '##ي', '##ان', 'ب', '##ع', '##د', 'ط', '##ر', '##ح', 'ا', '##ل', '##ر', '##ب', '##ي', '##ع', 'خ', '##ا', '##ص', '##ة', '،', 'ع', '##ن', '##د', '##م', '##ا', 'ت', '##ح', '##ت', '##ا', '##ج', 'ا', '##ل', '##ذ', '##ك', '##و', '##ر', 'ا', '##ل', '##ى', 'ل', '##و', '##ن', 'ك', '##س', '##و', '##ت', '##ه', '##ا', 'ا', '##ل', '##ص', '##ي', '##ف', '##ي', 'ا', '##ل', '##ب', '##ر', '##ا', '##ق', 'ح', '##ت', '##ى', 'ت', '##س', '##ت', '##ق', '##ط', '##ب', 'ا', '##ن', '##ث', '##ى', '.', 'ي', '##س', '##ت', '##ح', '##ي', '##ل', 'ج', '##س', '##د', 'ا', '##ل', '##ذ', '##ك', '##ر', 'ا', '##ص', '##ف', '##ر', '##ا', 'ل', '##ي', '##م', '##و', '##ن', '##ي', '##ا', 'ف', '##ا', '##ق', '##ع', '##ا', 'ب', '##ع', '##د', 'ا', '##ن', '##ت', '##ه', '##ا', '##ي', '##ه', 'م', '##ن', 'ط', '##ر', '##ح', 'ا', '##ل', '##ر', '##ي', '##ش', '،', 'و', '##ه', '##ذ', '##ا', 'ا', '##ل', '##ل', '##و', '##ن', 'ي', '##ن', '##ت', '##ج', 'ع', '##ن', 'ط', '##ر', '##ي', '##ق', 'ا', '##ل', '##ص', '##ب', '##غ', 'ا', '##ل', '##ج', '##ز', '##ر', '##ان', '##ي', 'ا', '##ل', '##م', '##و', '##ج', '##و', '##د', 'ف', '##ي', 'ا', '##ل', '##ن', '##ب', '##ا', '##ت', '##ا', '##ت', 'ا', '##ل', '##ت', '##ي', 'ت', '##ش', '##ك', '##ل', 'غ', '##ذ', '##ا', '##ي', '##ه', '،', 'ك', '##م', '##ا', 'ت', '##ظ', '##ه', '##ر', 'ق', '##ل', '##ن', '##س', '##و', '##ت', '##ه', 'س', '##و', '##د', '##ا', '##ء', 'د', '##ا', '##ك', '##ن', '##ة', 'ك', '##س', '##و', '##ا', '##د', 'ا', '##ل', '##ف', '##ح', '##م', '،', 'و', '##ك', '##ف', '##ل', '##ه', 'ا', '##ب', '##ي', '##ض', '##ا', 'ي', '##م', '##ك', '##ن', 'م', '##ل', '##ا', '##ح', '##ظ', '##ت', '##ه', 'ب', '##و', '##ض', '##و', '##ح', 'ع', '##ن', '##د', 'ا', '##ل', '##ط', '##ي', '##ر', '##ان', '.', 'ي', '##غ', '##ل', '##ب', 'ا', '##ل', '##ل', '##و', '##ن', 'ا', '##ل', '##ب', '##ن', '##ي', 'ع', '##ل', '##ى', 'ا', '##ل', '##ان', '##ث', '##ى', '،', 'و', '##ق', '##س', '##م', '##ه', '##ا', 'ا', '##ل', '##س', '##ف', '##ل', '##ي', 'ا', '##ب', '##ه', '##ت', 'ل', '##و', '##ن', '##ا', 'م', '##ن', 'ا', '##ل', '##ذ', '##ك', '##ر', '،', 'و', '##ذ', '##و', 'م', '##ر', '##ي', '##ل', '##ة', 'ص', '##ف', '##ر', '##ا', '##ء', '.', 'ت', '##س', '##ت', '##ب', '##د', '##ل', 'ا', '##ل', '##ك', '##س', '##و', '##ة', 'ا', '##ل', '##ب', '##ه', '##ي', '##ة', 'ا', '##ل', '##ص', '##ي', '##ف', '##ي', '##ة', 'ب', '##ا', '##خ', '##ر', '##ى', 'ك', '##ا', '##م', '##د', '##ة', 'ب', '##ع', '##د', 'ا', '##ل', '##ط', '##ر', '##ح', 'ا', '##ل', '##خ', '##ر', '##ي', '##ف', '##ي', '،', 'ف', '##ي', '##ص', '##ب', '##ح', 'ر', '##ي', '##ش', 'ا', '##ل', '##ط', '##ا', '##ي', '##ر', 'ا', '##ص', '##ف', '##ر', 'ب', '##ر', '##ت', '##ق', '##ا', '##ل', '##ي', 'ف', '##ي', 'ا', '##ل', '##ق', '##س', '##م', 'ا', '##ل', '##س', '##ف', '##ل', '##ي', 'م', '##ن', 'ا', '##ل', '##ج', '##س', '##د', '،', 'و', '##ز', '##ي', '##ت', '##و', '##ن', '##ي', 'ب', '##ن', '##ي', 'ع', '##ل', '##ى', 'ا', '##ل', '##ق', '##س', '##م', 'ا', '##ل', '##ع', '##ل', '##و', '##ي', '،', 'و', '##ي', '##ت', '##خ', '##ذ', 'ا', '##ل', '##و', '##ج', '##ه', 'و', '##ا', '##ل', '##م', '##ر', '##ي', '##ل', '##ة', 'ل', '##و', '##ن', '##ا', 'ا', '##ص', '##ف', '##ر', '##ا', 'ب', '##ا', '##ه', '##ت', '##ا', '.', 'ت', '##ك', '##ا', '##د', 'ا', '##ل', '##ك', '##س', '##و', '##ة', 'ا', '##ل', '##خ', '##ر', '##ي', '##ف', '##ي', '##ة', 'ا', '##ن', 'ت', '##ك', '##و', '##ن', 'م', '##ت', '##م', '##ا', '##ث', '##ل', '##ة', 'ع', '##ن', '##د', 'ك', '##ل', '##ا', 'ا', '##ل', '##ج', '##ن', '##س', '##ي', '##ن', '،', 'غ', '##ي', '##ر', 'ا', '##ن', 'ا', '##ل', '##ذ', '##ك', '##ر', 'ي', '##م', '##ك', '##ن', 'ت', '##م', '##ي', '##ي', '##ز', '##ه', 'ع', '##ن', 'ا', '##ل', '##ان', '##ث', '##ى', 'ع', '##ب', '##ر', 'ا', '##ل', '##ب', '##ق', '##ع', 'ا', '##ل', '##ص', '##ف', '##ر', '##ا', '##ء', 'ع', '##ل', '##ى', 'ك', '##ت', '##ف', '##ي', '##ه', '.', 'ت', '##ف', '##ق', '##د', 'ا', '##ل', '##ح', '##س', '##ا', '##س', '##ي', '##ن', 'ك', '##ل', 'م', '##ا', 'ه', '##و', 'ا', '##ص', '##ف', '##ر', 'م', '##ن', 'ر', '##ي', '##ش', '##ه', '##ا', 'ف', '##ي', 'ب', '##ع', '##ض', 'م', '##و', '##ا', '##ط', '##ن', 'ا', '##ل', '##ا', '##ش', '##ت', '##ا', '##ء', '،', 'ف', '##ي', '##غ', '##ل', '##ب', 'ع', '##ل', '##ي', '##ه', '##ا', 'ا', '##ل', '##ل', '##و', '##ن', 'ا', '##ل', '##ر', '##م', '##ا', '##د', '##ي', 'ا', '##ل', '##ا', '##م', '##غ', '##ر', '،', 'و', '##ي', '##س', '##ت', '##ح', '##ي', '##ل', 'ا', '##ل', '##ل', '##و', '##ن', 'ا', '##ل', '##ز', '##ي', '##ت', '##و', '##ن', '##ي', 'م', '##ج', '##ر', '##د', 'م', '##س', '##ح', '##ا', '##ت', 'خ', '##ف', '##ي', '##ف', '##ة', 'ي', '##م', '##ك', '##ن', 'م', '##ل', '##ا', '##ح', '##ظ', '##ت', '##ه', '##ا', 'ع', '##ن', 'ط', '##ر', '##ي', '##ق', 'ا', '##ل', '##ت', '##د', '##ق', '##ي', '##ق', 'ا', '##ل', '##م', '##ب', '##ا', '##ش', '##ر', 'ف', '##ق', '##ط', '.', 'ي', '##م', '##ت', '##ل', '##ك', 'ا', '##ل', '##ح', '##س', '##و', '##ن', 'ا', '##ل', '##ا', '##م', '##ر', '##ي', '##ك', '##ي', 'ا', '##ل', '##ي', '##ا', '##ف', '##ع', 'ظ', '##ه', '##ر', '##ا', 'ب', '##ن', '##ي', '##ا', 'ك', '##ا', '##م', '##د', '##ا', '،', 'و', '##ق', '##س', '##م', '##ا', 'س', '##ف', '##ل', '##ي', '##ا', 'ب', '##ا', '##ه', '##ت', 'ا', '##ل', '##ص', '##ف', '##ا', '##ر', '.', 'ا', '##م', '##ا', 'ا', '##ل', '##ك', '##ت', '##ف', '##ي', '##ن', 'و', '##ا', '##ل', '##ذ', '##ي', '##ل', 'ف', '##س', '##و', '##د', '##ا', '##ء', 'ا', '##ل', '##ل', '##و', '##ن', '،', 'و', '##ع', '##ل', '##ا', '##م', '##ا', '##ت', 'ا', '##ل', '##ذ', '##ي', '##ل', 'و', '##ا', '##ل', '##ك', '##ف', '##ل', 'ص', '##ف', '##ر', '##ا', '##ء', 'ب', '##ر', '##ت', '##ق', '##ا', '##ل', '##ي', '##ة', 'ع', '##و', '##ض', 'ا', '##ن', 'ت', '##ك', '##و', '##ن', 'ب', '##ي', '##ض', '##ا', '##ء', 'ك', '##م', '##ا', 'ع', '##ل', '##ا', '##م', '##ا', '##ت', 'ا', '##ل', '##ب', '##و', '##ا', '##ل', '##غ', '.', 'و', '##ل', '##و', '##ن', 'ك', '##س', '##و', '##ة', 'ا', '##ل', '##ح', '##س', '##ا', '##س', '##ي', '##ن', 'ا', '##ل', '##ي', '##ا', '##ف', '##ع', '##ة', 'ه', '##ذ', '##ا', 'ه', '##و', 'ن', '##ف', '##س', '##ه', 'ع', '##ن', '##د', 'ك', '##ل', '##ا', 'ا', '##ل', '##ج', '##ن', '##س', '##ي', '##ن', '.', 'ا', '##ل', '##ص', '##و', '##ت', 'ت', '##غ', '##ر', '##ي', '##د', 'ا', '##ل', '##ح', '##س', '##و', '##ن', 'ا', '##ل', '##ا', '##م', '##ر', '##ي', '##ك', '##ي', 'ع', '##ب', '##ا', '##ر', '##ة', 'ع', '##ن', 'س', '##ل', '##س', '##ل', '##ة', 'م', '##ن', 'ا', '##ل', '##ا', '##ل', '##ح', '##ان', 'ا', '##ل', '##ع', '##ذ', '##ب', '##ة', 'ا', '##ل', '##ر', '##ق', '##ر', '##ا', '##ق', '##ة', '،', 'ت', '##ن', '##ت', '##ه', '##ي', 'ع', '##ا', '##د', '##ة', 'ب', '##س', '##ج', '##ع', '##ة', 'م', '##م', '##ي', '##ز', '##ة', '.', 'ي', '##ص', '##ح', '##ب', 'ا', '##ل', '##ط', '##ي', '##ر', '##ان', 'ع', '##ا', '##د', '##ة', 'ش', '##ي', '##ء', 'م', '##ن', 'ا', '##ل', '##س', '##ق', '##س', '##ق', '##ة', '،', 'ذ', '##ي', 'ا', '##ل', '##ن', '##غ', '##م', 'ا', '##ل', '##م', '##ت', '##ب', '##ا', '##ي', '##ن', '،', 'و', '##ت', '##ن', '##ا', '##د', '##ي', 'ا', '##ل', '##ان', '##ث', '##ى', 'ا', '##ل', '##ي', '##ف', '##ه', '##ا', 'ب', '##ت', '##ص', '##ف', '##ي', '##ر', 'ر', '##ق', '##ي', '##ق', 'م', '##ت', '##و', '##ا', '##ص', '##ل', 'ل', '##ي', '##ح', '##ض', '##ر', 'ا', '##ل', '##ي', '##ه', '##ا', '،', 'ا', '##ث', '##ن', '##ا', '##ء', 'ر', '##خ', '##م', '##ه', '##ا', 'ا', '##ل', '##ب', '##ي', '##ض', '.', 'ت', '##ب', '##د', '##ا', 'ا', '##ل', '##ف', '##ر', '##ا', '##خ', 'ب', '##ا', '##ل', '##س', '##ق', '##س', '##ق', '##ة', 'ق', '##ب', '##ل', 'و', '##ق', '##ت', 'ق', '##ص', '##ي', '##ر', 'م', '##ن', 'ا', '##ك', '##ت', '##س', '##ا', '##ي', '##ه', '##ا', 'ب', '##ا', '##ل', '##ر', '##ي', '##ش', '،', 'و', '##ت', '##س', '##ت', '##م', '##ر', 'ت', '##ص', '##د', '##ر', 'ه', '##ذ', '##ا', 'ا', '##ل', '##ص', '##و', '##ت', 'ف', '##ق', '##ط', 'د', '##و', '##ن', 'غ', '##ي', '##ر', '##ه', 'م', '##ن', 'ا', '##ل', '##ا', '##ص', '##و', '##ا', '##ت', 'ا', '##ل', '##ى', 'ا', '##ن', 'ت', '##غ', '##ا', '##د', '##ر', 'ع', '##ش', '##ه', '##ا', 'ا', '##ل', '##ا', '##ب', '##و', '##ي', 'ن', '##ه', '##ا', '##ي', '##ي', '##ا', '.', 'ت', '##ص', '##د', '##ر', 'ا', '##ل', '##ط', '##ي', '##و', '##ر', 'ا', '##ل', '##ب', '##ا', '##ل', '##غ', '##ة', 'ن', '##د', '##ا', '##ي', '##ي', '##ن', 'م', '##خ', '##ت', '##ل', '##ف', '##ي', '##ن', 'ا', '##ث', '##ن', '##ا', '##ء', 'ت', '##ع', '##ش', '##ي', '##ش', '##ه', '##ا', 'ل', '##ان', '##ذ', '##ا', '##ر', 'ب', '##ا', '##ق', '##ي', 'ب', '##ن', '##ي', 'ج', '##ن', '##س', '##ه', '##ا', 'ا', '##ل', '##م', '##ف', '##ر', '##خ', '##ي', '##ن', 'ع', '##ل', '##ى', 'م', '##ق', '##ر', '##ب', '##ة', 'م', '##ن', 'خ', '##ط', '##ر', 'ا', '##ل', '##ك', '##و', '##ا', '##س', '##ر', '،', 'ا', '##ح', '##د', 'ه', '##ذ', '##ي', '##ن', 'ا', '##ل', '##ن', '##د', '##ا', '##ي', '##ي', '##ن', 'ي', '##ه', '##د', '##ف', 'ا', '##ل', '##ى', 'ح', '##ش', '##د', 'ا', '##ل', '##ط', '##ي', '##و', '##ر', 'ع', '##ل', '##ى', 'م', '##ق', '##ر', '##ب', '##ة', 'م', '##ن', 'ا', '##ل', '##ع', '##ش', 'ل', '##ا', '##ل', '##ه', '##ا', '##ء', 'ا', '##ل', '##م', '##ف', '##ت', '##ر', '##س', '،', 'و', '##ا', '##ل', '##ا', '##خ', '##ر', 'ل', '##ل', '##ا', '##ش', '##ا', '##ر', '##ة', 'ا', '##ل', '##ى', 'ا', '##ل', '##ف', '##ر', '##ا', '##خ', 'ك', '##ي', 'ت', '##ق', '##ب', '##ع', 'ه', '##ا', '##د', '##ي', '##ة', 'ف', '##ي', 'ا', '##ل', '##ع', '##ش', 'ح', '##ت', '##ى', 'ت', '##ص', '##ب', '##ح', 'ا', '##ق', '##ل', 'ا', '##ث', '##ا', '##ر', '##ة', 'ل', '##ل', '##ان', '##ت', '##ب', '##ا', '##ه', '.', 'ا', '##ل', '##ان', '##ت', '##ش', '##ا', '##ر', 'ا', '##ل', '##م', '##و', '##ي', '##ل', 'ت', '##ف', '##ض', '##ل', 'ا', '##ل', '##ح', '##س', '##ا', '##س', '##ي', '##ن', 'ا', '##ل', '##ا', '##م', '##ر', '##ي', '##ك', '##ي', '##ة', 'س', '##ك', '##ن', 'ا', '##ل', '##م', '##و', '##ا', '##ي', '##ل', 'ا', '##ل', '##ط', '##ب', '##ي', '##ع', '##ي', '##ة', 'ا', '##ل', '##م', '##ك', '##ش', '##و', '##ف', '##ة', 'ح', '##ي', '##ث', 'ت', '##ك', '##ث', '##ر', 'ا', '##ل', '##ا', '##ع', '##ش', '##ا', '##ب', 'ا', '##ل', '##ض', '##ا', '##ر', '##ة', '،', 'م', '##ث', '##ل', 'ا', '##ل', '##ح', '##ق', '##و', '##ل', 'ا', '##ل', '##ز', '##ر', '##ا', '##ع', '##ي', '##ة', '،', 'و', '##ا', '##ل', '##م', '##ر', '##و', '##ج', '،', 'و', '##ا', '##ل', '##س', '##ه', '##و', '##ل', 'ا', '##ل', '##ف', '##ي', '##ض', '##ي', '##ة', '،', 'ب', '##ا', '##ل', '##ا', '##ض', '##ا', '##ف', '##ة', 'ا', '##ل', '##ى', 'ج', '##و', '##ان', '##ب', 'ا', '##ل', '##ط', '##ر', '##ق', '##ا', '##ت', '،', 'و', '##ا', '##ل', '##ب', '##س', '##ا', '##ت', '##ي', '##ن', '،', 'و', '##ا', '##ل', '##ح', '##د', '##ا', '##ي', '##ق', 'ا', '##ل', '##م', '##ن', '##ز', '##ل', '##ي', '##ة', '.', 'ك', '##م', '##ا', 'ي', '##م', '##ك', '##ن', 'ا', '##ل', '##ع', '##ث', '##و', '##ر', 'ع', '##ل', '##ي', '##ه', '##ا', 'ف', '##ي', 'ا', '##ل', '##ا', '##ح', '##ر', '##ا', '##ج', 'ا', '##ل', '##ن', '##ف', '##ض', '##ي', '##ة', 'و', '##ا', '##ل', '##م', '##ش', '##ا', '##ط', '##ي', '##ي', '##ة', 'و', '##ا', '##ل', '##غ', '##ا', '##ب', '##ا', '##ت', 'ا', '##ل', '##ث', '##ان', '##و', '##ي', '##ة', '.', 'و', '##ت', '##ل', '##ج', '##ا', 'ا', '##ل', '##ط', '##ي', '##و', '##ر', 'ا', '##ل', '##ى', 'ذ', '##ا', '##ت', 'ا', '##ل', '##م', '##و', '##ا', '##ي', '##ل', 'س', '##ا', '##ل', '##ف', '##ة', 'ا', '##ل', '##ذ', '##ك', '##ر', 'ح', '##ت', '##ى', 'خ', '##ل', '##ا', '##ل', 'ا', '##ل', '##ه', '##ج', '##ر', '##ت', '##ي', '##ن', 'ا', '##ل', '##ر', '##ب', '##ي', '##ع', '##ي', '##ة', 'و', '##ا', '##ل', '##خ', '##ر', '##ي', '##ف', '##ي', '##ة', '.', 'ا', '##ل', '##م', '##و', '##ط', '##ن', 'ي', '##م', '##ت', '##د', 'م', '##و', '##ط', '##ن', 'ا', '##ل', '##ت', '##ف', '##ر', '##ي', '##خ', 'ا', '##ل', '##ص', '##ي', '##ف', '##ي', 'ع', '##ب', '##ر', 'ك', '##ا', '##م', '##ل', 'ا', '##م', '##ر', '##ي', '##ك', '##ا', 'ا', '##ل', '##ش', '##م', '##ا', '##ل', '##ي', '##ة', '،', 'م', '##ن', 'ا', '##ل', '##س', '##ا', '##ح', '##ل', 'ا', '##ل', '##ش', '##ر', '##ق', '##ي', 'ا', '##ل', '##ى', 'ا', '##ل', '##غ', '##ر', '##ب', '##ي', '،', 'و', '##ت', '##ح', '##د', '##ه', 'ش', '##م', '##ا', '##ل', '##ا', 'و', '##ل', '##ا', '##ي', '##ة', 'س', '##ا', '##س', '##ك', '##ت', '##ش', '##و', '##ان', 'ا', '##ل', '##ك', '##ن', '##د', '##ي', '##ة', '،', 'و', '##ي', '##ص', '##ل', 'ج', '##ن', '##و', '##ب', '##ا', 'ح', '##ت', '##ى', 'ك', '##ا', '##ر', '##و', '##ل', '##ي', '##ن', '##ا', 'ا', '##ل', '##ش', '##م', '##ا', '##ل', '##ي', '##ة', 'ع', '##ل', '##ى', 'ا', '##ل', '##س', '##ا', '##ح', '##ل', 'ا', '##ل', '##ش', '##ر', '##ق', '##ي', '،', 'و', '##ش', '##م', '##ا', '##ل', '##ي', 'ك', '##ا', '##ل', '##ي', '##ف', '##و', '##ر', '##ن', '##ي', '##ا', 'ع', '##ل', '##ى', 'ا', '##ل', '##س', '##ا', '##ح', '##ل', 'ا', '##ل', '##غ', '##ر', '##ب', '##ي', '.', 'ا', '##ل', '##ح', '##س', '##و', '##ن', 'ا', '##ل', '##ا', '##م', '##ر', '##ي', '##ك', '##ي', 'م', '##ه', '##ا', '##ج', '##ر', 'ل', '##م', '##س', '##ا', '##ف', '##ا', '##ت', 'ق', '##ص', '##ي', '##ر', '##ة', '،', 'ت', '##ت', '##ح', '##ر', '##ك', 'ا', '##س', '##ر', '##ا', '##ب', '##ه', 'ج', '##ن', '##و', '##ب', '##ا', 'م', '##ا', 'ا', '##ن', 'ي', '##ب', '##د', '##ا', 'ا', '##ل', '##ط', '##ق', '##س', 'ي', '##ت', '##ح', '##و', '##ل', 'ا', '##ل', '##ى', 'ا', '##ل', '##ب', '##ر', '##و', '##د', '##ة', '،', 'و', '##ي', '##ا', '##خ', '##ذ', 'م', '##خ', '##ز', '##و', '##ن', 'ا', '##ل', '##غ', '##ذ', '##ا', '##ء', 'ب', '##ا', '##ل', '##ت', '##ن', '##ا', '##ق', '##ص', '.', 'ت', '##ه', '##ا', '##ج', '##ر', 'ا', '##ل', '##ط', '##ي', '##و', '##ر', 'ف', '##ي', 'ا', '##س', '##ر', '##ا', '##ب', 'م', '##ت', '##ر', '##ا', '##ص', '##ة', 'ت', '##ط', '##ي', '##ر', 'ب', '##ن', '##م', '##ط', 'م', '##ت', '##م', '##و', '##ج', 'غ', '##ي', '##ر', 'م', '##ن', '##ت', '##ظ', '##م', '.', 'ي', '##ش', '##ت', '##م', '##ل', 'م', '##و', '##ط', '##ن', 'ا', '##ل', '##ت', '##ف', '##ر', '##ي', '##خ', 'ا', '##ل', '##ش', '##ت', '##و', '##ي', 'ع', '##ل', '##ى', 'ج', '##ن', '##و', '##ب', '##ي', 'ك', '##ن', '##د', '##ا', '،', 'و', '##ي', '##م', '##ت', '##د', 'ج', '##ن', '##و', '##ب', '##ا', 'ع', '##ب', '##ر', 'ا', '##ل', '##و', '##ل', '##ا', '##ي', '##ا', '##ت', 'ا', '##ل', '##م', '##ت', '##ح', '##د', '##ة', 'ا', '##ل', '##ى', 'ب', '##ع', '##ض', 'ا', '##ن', '##ح', '##ا', '##ء', 'ا', '##ل', '##م', '##ك', '##س', '##ي', '##ك', '.', 'ت', '##ن', '##ت', '##ق', '##ل', 'ب', '##ع', '##ض', 'ا', '##ل', '##ح', '##س', '##ا', '##س', '##ي', '##ن', 'ق', '##ا', '##ط', '##ن', '##ة', 'ا', '##ل', '##ق', '##س', '##م', 'ا', '##ل', '##ش', '##م', '##ا', '##ل', '##ي', 'م', '##ن', 'م', '##و', '##ط', '##ن', '##ه', '##ا', 'ا', '##ل', '##ى', 'م', '##ق', '##ر', '##ب', '##ة', 'م', '##ن', 'ا', '##ل', '##م', '##و', '##ا', '##ي', '##ل', 'ا', '##ل', '##ب', '##ش', '##ر', '##ي', '##ة', 'ا', '##ل', '##ت', '##ي', 'ت', '##ز', '##و', '##د', 'ش', '##ر', '##ف', '##ا', '##ت', '##ه', '##ا', 'ب', '##م', '##ن', '##ص', '##ا', '##ت', 'ا', '##ط', '##ع', '##ا', '##م', 'ا', '##ل', '##ع', '##ص', '##ا', '##ف', '##ي', '##ر', '،', 'خ', '##ل', '##ا', '##ل', 'ف', '##ص', '##ل', 'ا', '##ل', '##ش', '##ت', '##ا', '##ء', '.', 'ا', '##م', '##ا', 'ف', '##ي', 'ا', '##ل', '##ق', '##س', '##م', 'ا', '##ل', '##ج', '##ن', '##و', '##ب', '##ي', 'م', '##ن', 'م', '##و', '##ط', '##ن', '##ه', '##ا', '،', 'ف', '##ت', '##ب', '##ق', '##ى', 'م', '##ق', '##ي', '##م', '##ة', 'ف', '##ي', 'م', '##و', '##ا', '##ي', '##ل', 'ش', '##ب', '##ي', '##ه', '##ة', 'ب', '##ا', '##ل', '##س', '##ه', '##و', '##ل', 'ا', '##ل', '##ف', '##ي', '##ض', '##ي', '##ة', 'و', '##ا', '##ل', '##ح', '##ق', '##و', '##ل', 'ا', '##ل', '##ت', '##ي', 'ت', '##ع', '##ي', '##ش', 'ف', '##ي', '##ه', '##ا', 'خ', '##ل', '##ا', '##ل', 'ا', '##ل', '##ص', '##ي', '##ف', '.', 'م', '##ح', '##ا', '##و', '##ل', '##ا', '##ت', 'ا', '##ل', '##ا', '##د', '##خ', '##ا', '##ل', 'ج', '##ر', '##ت', 'ب', '##ض', '##ع', '##ة', 'م', '##ح', '##ا', '##و', '##ل', '##ا', '##ت', 'ل', '##ا', '##د', '##خ', '##ا', '##ل', 'ا', '##ل', '##ح', '##س', '##و', '##ن', 'ا', '##ل', '##ا', '##م', '##ر', '##ي', '##ك', '##ي', 'ا', '##ل', '##ى', 'م', '##ن', '##ا', '##ط', '##ق', 'ا', '##خ', '##ر', '##ى', 'خ', '##ا', '##ر', '##ج', 'م', '##و', '##ط', '##ن', '##ه', 'ا', '##ل', '##ط', '##ب', '##ي', '##ع', '##ي', '،', 'م', '##ث', '##ل', 'ج', '##ز', '##ر', 'ب', '##ر', '##م', '##و', '##د', '##ا', 'خ', '##ل', '##ا', '##ل', 'ا', '##ل', '##ق', '##ر', '##ن', 'ا', '##ل', '##ت', '##ا', '##س', '##ع', 'ع', '##ش', '##ر', '،', 'و', '##ج', '##ز', '##ي', '##ر', '##ة', 'ت', '##ا', '##ه', '##ي', '##ت', '##ي', 'ف', '##ي', 'س', '##ن', '##ة', '1938', '،', 'غ', '##ي', '##ر', 'ا', '##ن', 'ا', '##ل', '##ط', '##ي', '##و', '##ر', 'ف', '##ش', '##ل', '##ت', 'ف', '##ي', 'ا', '##ل', '##ت', '##ا', '##ق', '##ل', '##م', 'م', '##ع', 'ا', '##ل', '##ب', '##ي', '##ي', '##ا', '##ت', 'ا', '##ل', '##ج', '##د', '##ي', '##د', '##ة', 'و', '##ن', '##ف', '##ق', '##ت', 'ك', '##ل', '##ه', '##ا', '.', 'ا', '##ل', '##س', '##ل', '##و', '##ك', 'ا', '##ل', '##ح', '##س', '##ا', '##س', '##ي', '##ن', 'ا', '##ل', '##ا', '##م', '##ر', '##ي', '##ك', '##ي', '##ة', 'ط', '##ي', '##و', '##ر', 'ا', '##ج', '##ت', '##م', '##ا', '##ع', '##ي', '##ة', 'خ', '##ا', '##ر', '##ج', 'م', '##و', '##س', '##م', 'ا', '##ل', '##ت', '##ن', '##ا', '##س', '##ل', '،', 'ت', '##ع', '##ي', '##ش', 'ف', '##ي', 'ا', '##س', '##ر', '##ا', '##ب', 'ض', '##خ', '##م', '##ة', '،', 'ت', '##ح', '##ل', '##ق', 'ف', '##ي', 'ن', '##م', '##ط', 'م', '##ت', '##و', '##ج', '،', 'و', '##ع', '##ا', '##د', '##ة', 'م', '##ا', 'ت', '##خ', '##ا', '##ل', '##ط', 'ا', '##س', '##ر', '##ا', '##ب', '##ه', '##ا', 'ا', '##س', '##ر', '##ا', '##ب', 'ش', '##ر', '##ا', '##ش', '##ي', '##ر', 'ا', '##خ', '##ر', '##ى', '.', 'ت', '##ع', '##ي', '##ش', 'ه', '##ذ', '##ه', 'ا', '##ل', '##ط', '##ي', '##و', '##ر', 'ف', '##ي', 'م', '##س', '##ت', '##ع', '##م', '##ر', '##ا', '##ت', 'ف', '##ض', '##ف', '##ا', '##ض', '##ة', 'خ', '##ل', '##ا', '##ل', 'م', '##و', '##س', '##م', 'ا', '##ل', '##ت', '##ز', '##ا', '##و', '##ج', '،', 'و', '##ي', '##ن', '##ز', '##ع', 'ا', '##ل', '##ذ', '##ك', '##ر', 'ا', '##ل', '##ى', 'ا', '##ل', '##ع', '##د', '##ا', '##ي', '##ي', '##ة', 'ت', '##ج', '##ا', '##ه', 'ا', '##ل', '##ذ', '##ك', '##و', '##ر', 'ا', '##ل', '##ا', '##ج', '##ن', '##ب', '##ي', '##ة', 'خ', '##ل', '##ا', '##ل', 'ف', '##ت', '##ر', '##ة', 'ا', '##ن', '##ش', '##ا', '##ء', 'ا', '##ل', '##ع', '##ش', '،', 'ف', '##ي', '##د', '##ف', '##ع', 'ب', '##ع', '##ي', '##د', '##ا', 'ك', '##ل', 'م', '##ن', 'ي', '##ت', '##ع', '##د', '##ى', 'ح', '##د', '##و', '##د', 'ح', '##و', '##ز', '##ه', '،', 'و', '##ت', '##ت', '##ص', '##ر', '##ف', 'ا', '##ل', '##ان', '##ث', '##ى', 'ب', '##ن', '##ف', '##س', 'ا', '##ل', '##ط', '##ر', '##ي', '##ق', '##ة', 'م', '##ع', 'ا', '##ل', '##ان', '##ا', '##ث', 'ا', '##ل', '##غ', '##ر', '##ي', '##ب', '##ا', '##ت', '.', 'ت', '##ت', '##ل', '##ا', '##ش', '##ى', 'ا', '##ل', '##ع', '##د', '##ا', '##ي', '##ي', '##ة', 'ع', '##ن', '##د', 'ك', '##ل', '##ا', 'ا', '##ل', '##ز', '##و', '##ج', '##ي', '##ن', 'م', '##ا', 'ا', '##ن', 'ت', '##ض', '##ع', 'ا', '##ل', '##ان', '##ث', '##ى', 'ب', '##ي', '##ض', '##ه', '##ا', '.', 'ل', '##ا', 'ت', '##ت', '##ص', '##ر', '##ف', 'ا', '##ل', '##ح', '##س', '##ا', '##س', '##ي', '##ن', 'ا', '##ل', '##ا', '##م', '##ر', '##ي', '##ك', '##ي', '##ة', 'ب', '##ع', '##د', '##ا', '##ي', '##ي', '##ة', 'ت', '##ج', '##ا', '##ه', 'ا', '##ل', '##ك', '##و', '##ا', '##س', '##ر', 'ق', '##ا', '##ط', '##ن', '##ة', 'ح', '##و', '##ز', '##ه', '##ا', '[UNK]', 'و', '##ل', '##ا', 'ت', '##ف', '##ع', '##ل', 'ش', '##ي', '##ي', '##ا', 'ع', '##ن', '##د', 'ر', '##و', '##ي', '##ت', '##ه', '##ا', 'ف', '##ي', 'ا', '##ل', '##ج', '##و', '##ا', '##ر', 'ع', '##د', '##ا', 'ا', '##ص', '##د', '##ا', '##ر', 'ب', '##ع', '##ض', 'ن', '##د', '##ا', '##ء', '##ا', '##ت', 'ا', '##ل', '##ان', '##ذ', '##ا', '##ر', '.', 'م', '##ن', 'ا', '##ب', '##ر', '##ز', 'ا', '##ل', '##م', '##ف', '##ت', '##ر', '##س', '##ا', '##ت', 'ا', '##ل', '##ت', '##ي', 'ت', '##ق', '##ت', '##ا', '##ت', 'ع', '##ل', '##ى', 'ا', '##ل', '##ح', '##س', '##ا', '##س', '##ي', '##ن', 'ا', '##ل', '##ا', '##م', '##ر', '##ي', '##ك', '##ي', '##ة', ':', 'ا', '##ل', '##ا', '##ف', '##ا', '##ع', '##ي', '،', 'و', '##ب', '##ن', '##ا', '##ت', 'ع', '##ر', '##س', '،', 'و', '##ا', '##ل', '##س', '##ن', '##ا', '##ج', '##ب', '،', 'و', '##ا', '##ل', '##ق', '##ي', '##ق', '##ان', 'ا', '##ل', '##ز', '##ر', '##ق', '##ا', '##ء', '،', 'ا', '##ل', '##ت', '##ي', 'ت', '##ف', '##ت', '##ك', 'ب', '##ا', '##ل', '##ب', '##ي', '##ض', 'و', '##ا', '##ل', '##ف', '##ر', '##ا', '##خ', 'ع', '##ل', '##ى', 'ح', '##د', 'س', '##و', '##ا', '##ء', '،', 'و', '##ا', '##ل', '##ب', '##ي', '##ز', '##ان', 'و', '##ا', '##ل', '##ق', '##ط', '##ط', 'ا', '##ل', '##ت', '##ي', 'ت', '##ف', '##ت', '##ر', '##س', 'ا', '##ل', '##ط', '##ي', '##و', '##ر', 'س', '##و', '##ا', '##ء', 'ا', '##ل', '##ك', '##ب', '##ي', '##ر', '##ة', 'ا', '##و', 'ا', '##ل', '##ص', '##غ', '##ي', '##ر', '##ة', '.', 'ا', '##ل', '##غ', '##ذ', '##ا', '##ء', 'ا', '##ل', '##ح', '##س', '##ا', '##س', '##ي', '##ن', 'ا', '##ل', '##ا', '##م', '##ر', '##ي', '##ك', '##ي', '##ة', 'ا', '##ك', '##ل', '##ة', 'ب', '##ز', '##و', '##ر', 'ف', '##ي', 'ا', '##ل', '##غ', '##ا', '##ل', '##ب', '،', 'و', '##ق', '##د', 'ت', '##ص', '##ط', '##ا', '##د', 'ا', '##ل', '##ح', '##ش', '##ر', '##ا', '##ت', 'ب', '##ي', '##ن', 'ا', '##ل', '##ح', '##ي', '##ن', 'و', '##ا', '##ل', '##ا', '##خ', '##ر', '،', 'و', '##ب', '##ا', '##ل', '##ا', '##خ', '##ص', 'خ', '##ل', '##ا', '##ل', 'م', '##و', '##س', '##م', 'ا', '##ل', '##ت', '##ف', '##ر', '##ي', '##خ', 'ح', '##ت', '##ى', 'ت', '##ط', '##ع', '##م', '##ه', '##ا', 'ا', '##ل', '##ى', 'ف', '##ر', '##ا', '##خ', '##ه', '##ا', 'ذ', '##ا', '##ت', 'ا', '##ل', '##ح', '##ا', '##ج', '##ة', 'ا', '##ل', '##ا', '##م', '##س', 'ا', '##ل', '##ى', 'ا', '##ل', '##پ', '##ر', '##و', '##ت', '##ي', '##ن', '.', 'و', '##ه', '##ي', 'ت', '##ق', '##ت', '##ا', '##ت', 'خ', '##ل', '##ا', '##ل', 'ا', '##ل', '##ن', '##ه', '##ا', '##ر', 'ف', '##ق', '##ط', '.', 'ي', '##ت', '##ا', '##ل', '##ف', 'غ', '##ذ', '##ا', '##ي', '##ه', '##ا', 'م', '##ن', 'ط', '##ا', '##ي', '##ف', '##ة', 'و', '##ا', '##س', '##ع', '##ة', 'م', '##ن', 'ب', '##ز', '##و', '##ر', 'ا', '##ل', '##ن', '##ب', '##ا', '##ت', '##ا', '##ت', 'ا', '##ل', '##ح', '##و', '##ل', '##ي', '##ة', '،', 'م', '##ن', 'ا', '##ل', '##ا', '##ع', '##ش', '##ا', '##ب', 'ا', '##ل', '##ض', '##ا', '##ر', '##ة', 'و', '##ا', '##ل', '##ش', '##ج', '##ي', '##ر', '##ا', '##ت', '،', 'م', '##ن', 'ش', '##ا', '##ك', '##ل', '##ة', ':', 'ا', '##ل', '##ش', '##و', '##ك', 'ا', '##ل', '##ب', '##ر', '##ي', '،', 'و', '##ا', '##ل', '##د', '##ب', '##س', '##ا', '##س', '##ي', '##ة', '،', 'و', '##ا', '##ل', '##ط', '##ر', '##خ', '##ش', '##ق', '##و', '##ن', '،', 'و', '##ا', '##ل', '##ر', '##ج', '##ي', '##د', '،', 'و', '##ا', '##ل', '##ب', '##و', '##ص', '##ي', '##ر', '،', 'و', '##ا', '##ل', '##ك', '##و', '##س', '##م', '##و', '##س', '،', 'و', '##د', '##و', '##ا', '##ر', 'ا', '##ل', '##ش', '##م', '##س', '،', 'و', '##ا', '##ل', '##ن', '##غ', '##ت', '.', 'ك', '##م', '##ا', 'ي', '##م', '##ك', '##ن', '##ه', '##ا', 'ا', '##ن', 'ت', '##ق', '##ت', '##ا', '##ت', 'ع', '##ل', '##ى', 'ب', '##ص', '##ل', '##ا', '##ت', 'ا', '##ل', '##ا', '##ش', '##ج', '##ا', '##ر', '،', 'و', '##ن', '##س', '##غ', 'ا', '##ل', '##ق', '##ي', '##ق', '##ب', '،', 'و', '##ث', '##م', '##ا', '##ر', 'ا', '##ل', '##ت', '##و', '##ت', 'و', '##ا', '##ل', '##ع', '##ل', '##ي', '##ق', '.', 'و', '##ه', '##ي', 'م', '##ن', 'ا', '##ل', '##ع', '##ص', '##ا', '##ف', '##ي', '##ر', 'ا', '##ل', '##ش', '##ا', '##ي', '##ع', '##ة', 'ف', '##ي', 'ا', '##ل', '##ح', '##د', '##ا', '##ي', '##ق', 'ا', '##ل', '##م', '##ن', '##ز', '##ل', '##ي', '##ة', 'ا', '##ل', '##م', '##ز', '##و', '##د', '##ة', 'ب', '##م', '##ن', '##ص', '##ا', '##ت', 'ا', '##ط', '##ع', '##ا', '##م', 'ا', '##ل', '##ط', '##ي', '##و', '##ر', '،', 'خ', '##ا', '##ص', '##ة', 'خ', '##ل', '##ا', '##ل', 'ف', '##ص', '##ل', 'ا', '##ل', '##ش', '##ت', '##ا', '##ء', '،', 'ح', '##ي', '##ث', 'ت', '##ظ', '##ه', '##ر', 'و', '##ل', '##ع', '##ا', 'خ', '##ا', '##ص', '##ا', 'ب', '##ا', '##ل', '##ب', '##ز', '##و', '##ر', 'ا', '##ل', '##س', '##و', '##د', '##ا', '##ء', 'ا', '##ل', '##م', '##ع', '##ر', '##و', '##ف', '##ة', 'ا', '##ي', '##ض', '##ا', 'ب', '##ب', '##ز', '##و', '##ر', 'ا', '##ل', '##ن', '##ي', '##ج', '##ر', '.', 'ت', '##س', '##ت', '##خ', '##د', '##م', 'ا', '##ل', '##ح', '##س', '##ا', '##س', '##ي', '##ن', 'ا', '##ل', '##ا', '##م', '##ر', '##ي', '##ك', '##ي', '##ة', 'ق', '##و', '##ا', '##ي', '##م', '##ه', '##ا', 'ب', '##ك', '##ث', '##ا', '##ف', '##ة', 'خ', '##ل', '##ا', '##ل', 'ا', '##ق', '##ت', '##ي', '##ا', '##ت', '##ه', '##ا', '،', 'ع', '##ل', '##ى', 'ا', '##ل', '##ع', '##ك', '##س', 'م', '##ن', 'ب', '##ع', '##ض', 'ا', '##ن', '##و', '##ا', '##ع', 'ا', '##ل', '##ش', '##ر', '##ا', '##ش', '##ي', '##ر', 'ا', '##ل', '##ا', '##خ', '##ر', '##ى', '،', 'ف', '##ه', '##ي', 'غ', '##ا', '##ل', '##ب', '##ا', 'م', '##ا', 'ت', '##ت', '##د', '##ل', '##ى', 'م', '##ن', 'ر', '##ا', '##س', 'ا', '##ل', '##ن', '##ب', '##ت', '##ة', 'ا', '##ث', '##ن', '##ا', '##ء', 'ا', '##ل', '##ا', '##ق', '##ت', '##ي', '##ا', '##ت', 'ح', '##ت', '##ى', 'ت', '##ت', '##م', '##ك', '##ن', 'م', '##ن', 'ا', '##ل', '##و', '##ص', '##و', '##ل', 'ا', '##ل', '##ى', 'ا', '##ل', '##ب', '##ز', '##و', '##ر', 'ب', '##س', '##ه', '##و', '##ل', '##ة', 'ا', '##ك', '##ب', '##ر', '.', 'و', '##خ', '##ل', '##ا', '##ل', 'ا', '##ل', '##ر', '##ب', '##ي', '##ع', 'ت', '##ا', '##ك', '##ل', 'م', '##ن', 'ع', '##س', '##ي', '##ل', 'ا', '##ل', '##ص', '##ف', '##ص', '##ا', '##ف', 'ا', '##ل', '##م', '##ت', '##د', '##ل', '##ي', 'م', '##ن', 'ش', '##ج', '##ر', 'ا', '##ل', '##ق', '##ض', '##ب', '##ان', 'و', '##ج', '##ا', '##ر', 'ا', '##ل', '##م', '##ا', '##ء', '،', 'و', '##ذ', '##ل', '##ك', 'ب', '##ان', 'ت', '##ر', '##ف', '##ع', 'ا', '##ح', '##د', '##ا', '##ه', '##ا', 'ب', '##م', '##ن', '##ق', '##ا', '##ر', '##ه', '##ا', 'ث', '##م', 'ت', '##ث', '##ب', '##ت', '##ه', '##ا', 'ع', '##ل', '##ى', 'ا', '##ل', '##غ', '##ص', '##ن', 'ب', '##ا', '##س', '##ت', '##خ', '##د', '##ا', '##م', 'ق', '##ا', '##ي', '##م', '##ت', '##ه', '##ا', '،', 'و', '##ت', '##م', '##ك', '##ن', 'ا', '##ل', '##ح', '##ذ', '##ا', '##ق', '##ة', 'ه', '##ذ', '##ه', 'ا', '##ل', '##ح', '##س', '##ا', '##س', '##ي', '##ن', 'م', '##ن', 'ا', '##ل', '##ح', '##ص', '##و', '##ل', 'ع', '##ل', '##ى', 'م', '##و', '##ر', '##د', 'غ', '##ذ', '##ا', '##ء', 'غ', '##ي', '##ر', 'م', '##ت', '##ا', '##ح', 'ل', '##ان', '##و', '##ا', '##ع', 'ا', '##خ', '##ر', '##ى', 'ت', '##ن', '##ا', '##ف', '##س', '##ه', '##ا', 'ع', '##ل', '##ى', 'ا', '##ل', '##ط', '##ع', '##ا', '##م', 'و', '##ا', '##ل', '##م', '##و', '##ي', '##ل', '،', 'ف', '##ت', '##ز', '##ي', '##د', 'ب', '##ا', '##ل', '##ت', '##ا', '##ل', '##ي', 'م', '##ن', 'ف', '##ر', '##ص', 'ب', '##ق', '##ا', '##ي', '##ه', '##ا', '.', 'ا', '##ل', '##ت', '##ف', '##ر', '##ي', '##خ', 'ي', '##ب', '##د', '##ا', 'م', '##و', '##س', '##م', 'ت', '##ف', '##ر', '##ي', '##خ', 'ا', '##ل', '##ح', '##س', '##ا', '##س', '##ي', '##ن', 'ا', '##ل', '##ا', '##م', '##ر', '##ي', '##ك', '##ي', '##ة', 'م', '##ت', '##ا', '##خ', '##ر', '##ا', 'ع', '##ن', 'م', '##و', '##ا', '##س', '##م', 'ب', '##ا', '##ق', '##ي', 'ا', '##ل', '##ش', '##ر', '##ا', '##ش', '##ي', '##ر', '،', 'و', '##ل', '##ع', '##ل', 'م', '##ا', 'ي', '##ف', '##س', '##ر', 'ذ', '##ل', '##ك', 'ه', '##و', 'و', '##ف', '##ر', '##ة', 'ا', '##ل', '##ب', '##ذ', '##و', '##ر', 'ا', '##و', '##ا', '##خ', '##ر', 'ا', '##ش', '##ه', '##ر', 'ا', '##ل', '##ص', '##ي', '##ف', '،', 'ا', '##ذ', 'ا', '##ن', '##ه', '##ا', 'ت', '##ش', '##ك', '##ل', 'ا', '##ل', '##ق', '##س', '##م', 'ا', '##ل', '##ا', '##ع', '##ظ', '##م', 'م', '##ن', 'غ', '##ذ', '##ا', '##ي', '##ه', '##ا', '.', 'ا', '##ل', '##ت', '##و', '##د', '##د', 'و', '##ا', '##ل', '##ت', '##ع', '##ش', '##ي', '##ش', 'ت', '##ب', '##د', '##ا', 'ا', '##ل', '##ذ', '##ك', '##و', '##ر', 'ب', '##ا', '##ل', '##ت', '##و', '##د', '##د', 'ا', '##ل', '##ى', 'ا', '##ل', '##ان', '##ا', '##ث', 'خ', '##ل', '##ا', '##ل', 'ا', '##و', '##ا', '##خ', '##ر', 'ش', '##ه', '##ر', 'ي', '##و', '##ل', '##ي', '##و', '،', 'و', '##ت', '##ش', '##ت', '##م', '##ل', 'ط', '##ق', '##و', '##س', 'ا', '##ل', '##ت', '##و', '##د', '##د', 'و', '##ا', '##ل', '##م', '##غ', '##ا', '##ز', '##ل', '##ة', 'ع', '##ل', '##ى', 'م', '##ن', '##ا', '##و', '##ر', '##ا', '##ت', 'ج', '##و', '##ي', '##ة', 'ت', '##و', '##د', '##ي', '##ه', '##ا', 'ا', '##ل', '##ذ', '##ك', '##و', '##ر', 'و', '##ي', '##ص', '##ح', '##ب', '##ه', '##ا', 'ت', '##غ', '##ر', '##ي', '##د', 'ر', '##ق', '##ر', '##ا', '##ق', '.', 'ي', '##ب', '##د', '##ا', 'ع', '##ر', '##ض', 'ا', '##ل', '##ط', '##ي', '##ر', '##ان', 'ع', '##ن', '##د', '##م', '##ا', 'ي', '##س', '##ع', '##ى', 'ا', '##ل', '##ذ', '##ك', '##ر', 'خ', '##ل', '##ف', 'ا', '##ن', '##ث', '##ى', 'م', '##ع', '##ي', '##ن', '##ة', '،', 'ف', '##ي', '##ل', '##ا', '##ح', '##ق', '##ه', '##ا', 'و', '##ه', '##ي', 'ت', '##ط', '##ي', '##ر', 'ب', '##ن', '##م', '##ط', 'م', '##ت', '##ع', '##ر', '##ج', 'م', '##ر', '##ا', '##و', '##غ', '.', 'ي', '##ع', '##ل', '##ن', 'ا', '##ل', '##ذ', '##ك', '##ر', 'ل', '##ل', '##ان', '##ث', '##ى', 'ع', '##ن', 'ل', '##ي', '##ا', '##ق', '##ت', '##ه', 'و', '##ص', '##ح', '##ت', '##ه', 'ع', '##ل', '##ى', 'ا', '##ل', '##م', '##د', '##ي', '##ي', '##ن', 'ا', '##ل', '##ق', '##ر', '##ي', '##ب', '(', 'ا', '##ي', 'و', '##ض', '##ع', 'ج', '##س', '##د', '##ه', 'ا', '##ل', '##ح', '##ا', '##ل', '##ي', ')', 'و', '##ا', '##ل', '##ب', '##ع', '##ي', '##د', '(', 'ا', '##ي', 'ج', '##و', '##د', '##ة', 'م', '##و', '##ر', '##ث', '##ا', '##ت', '##ه', ')', 'ع', '##ل', '##ى', 'ح', '##د', 'س', '##و', '##ا', '##ء', '،', 'ع', '##ب', '##ر', 'ا', '##ل', '##ت', '##ب', '##ا', '##ه', '##ي', 'ا', '##م', '##ا', '##م', '##ه', '##ا', 'ب', '##ل', '##و', '##ن', 'م', '##ن', '##ق', '##ا', '##ر', '##ه', 'و', '##ر', '##ي', '##ش', '##ه', '.', 'ع', '##ن', '##د', '##م', '##ا', 'ت', '##ت', '##ق', '##ب', '##ل', 'ا', '##ل', '##ان', '##ث', '##ى', 'ذ', '##ك', '##ر', '##ا', 'ل', '##ي', '##ك', '##و', '##ن', 'ش', '##ر', '##ي', '##ك', '##ا', 'ل', '##ه', '##ا', '،', 'ي', '##ح', '##ل', '##ق', 'ا', '##ل', '##ز', '##و', '##ج', '##ان', 'ف', '##ي', 'د', '##و', '##ا', '##ي', '##ر', '،', 'و', '##ي', '##غ', '##ر', '##د', 'ا', '##ل', '##ذ', '##ك', '##ر', 'ط', '##ي', '##ل', '##ة', 'ه', '##ذ', '##ا', 'ا', '##ل', '##و', '##ق', '##ت', '.', 'م', '##ا', 'ا', '##ن', 'ي', '##ع', '##ث', '##ر', 'ا', '##ل', '##ذ', '##ك', '##ر', 'ع', '##ل', '##ى', 'ش', '##ر', '##ي', '##ك', '##ة', 'ح', '##ت', '##ى', 'ي', '##خ', '##ت', '##ا', '##ر', 'ل', '##ه', '##م', '##ا', 'ح', '##و', '##ز', '##ا', 'ي', '##ع', '##ل', '##م', 'ح', '##د', '##و', '##د', '##ه', 'ص', '##و', '##ت', '##ي', '##ا', '،', 'ف', '##ي', '##ط', '##ي', '##ر', 'م', '##ن', 'م', '##ج', '##ث', '##م', 'ا', '##ل', '##ى', 'ا', '##خ', '##ر', 'و', '##ه', '##و', 'ي', '##غ', '##ر', '##د', '،', 'و', '##ي', '##و', '##د', '##ي', 'ع', '##د', '##ة', 'ح', '##ر', '##ك', '##ا', '##ت', 'ب', '##ه', '##ل', '##و', '##ان', '##ي', '##ة', 'ا', '##ث', '##ن', '##ا', '##ء', 'ت', '##ح', '##ل', '##ي', '##ق', '##ه', '،', 'ف', '##ي', '##د', '##و', '##ر', 'ع', '##ب', '##ر', 'م', '##ح', '##ي', '##ط', 'ا', '##ل', '##ح', '##و', '##ز', 'ث', '##م', 'ي', '##ح', '##ل', '##ق', 'ت', '##ح', '##ل', '##ي', '##ق', '##ا', 'م', '##ن', '##ب', '##س', '##ط', '##ا', 'ع', '##ل', '##ى', 'ع', '##ل', '##و', 'م', '##ن', '##خ', '##ف', '##ض', '،', 'ث', '##م', 'ي', '##ح', '##ا', '##ك', '##ي', 'ا', '##ل', '##ط', '##ي', '##ر', '##ان', 'ا', '##ل', '##م', '##ع', '##ه', '##و', '##د', 'ب', '##ش', '##ك', '##ل', 'م', '##ب', '##ا', '##ل', '##غ', 'ف', '##ي', '##ه', '،', 'ف', '##ي', '##ث', '##ن', '##ي', 'ج', '##ن', '##ا', '##ح', '##ي', '##ه', 'و', '##ي', '##ه', '##ب', '##ط', 'ا', '##ل', '##ى', 'ا', '##ل', '##ا', '##ر', '##ض', '،', 'ق', '##ب', '##ل', 'ا', '##ن', 'ي', '##ب', '##س', '##ط', '##ه', '##م', '##ا', 'م', '##ج', '##د', '##د', '##ا', 'ل', '##ي', '##ن', '##ز', '##ل', '##ق', 'ع', '##ا', '##ل', '##ي', '##ا', 'م', '##و', '##د', '##ي', '##ا', 'س', '##ل', '##س', '##ل', '##ة', 'م', '##ن', 'ا', '##ل', '##ح', '##ل', '##ق', '##ا', '##ت', '.', 'ق', '##د', 'ي', '##ض', '##م', 'ز', '##و', '##ج', '##ان', 'ا', '##و', 'ث', '##ل', '##ا', '##ث', '##ة', 'ا', '##ز', '##و', '##ا', '##ج', 'م', '##ن', 'ا', '##ل', '##ح', '##س', '##ا', '##س', '##ي', '##ن', 'ا', '##ل', '##ا', '##م', '##ر', '##ي', '##ك', '##ي', '##ة', 'ا', '##ح', '##و', '##ا', '##ز', '##ه', '##ا', 'ل', '##ت', '##ش', '##ك', '##ل', 'ح', '##و', '##ز', '##ا', 'ض', '##خ', '##م', '##ا', 'و', '##ا', '##ح', '##د', '##ا', '،', 'ا', '##و', 'م', '##س', '##ت', '##ع', '##م', '##ر', '##ة', 'ف', '##ض', '##ف', '##ا', '##ض', '##ة', '،', 'و', '##ي', '##ع', '##ت', '##ق', '##د', 'ا', '##ن', 'س', '##ب', '##ب', 'ذ', '##ل', '##ك', 'ه', '##و', 'ح', '##م', '##ا', '##ي', '##ة', 'ا', '##ل', '##ا', '##ع', '##ش', '##ا', '##ش', 'م', '##ن', 'ا', '##ل', '##ض', '##و', '##ا', '##ر', '##ي', '.', 'ت', '##ت', '##و', '##ل', '##ى', 'ا', '##ل', '##ان', '##ث', '##ى', 'م', '##ه', '##م', '##ة', 'ب', '##ن', '##ا', '##ء', 'ا', '##ل', '##ع', '##ش', '،', 'ف', '##ت', '##ن', '##ت', '##ق', '##ي', 'م', '##و', '##ق', '##ع', '##ا', 'م', '##ل', '##ا', '##ي', '##م', '##ا', 'ف', '##ي', 'ش', '##ج', '##ر', '##ة', 'ا', '##و', 'ج', '##ن', '##ب', '##ة', 'ن', '##ف', '##ض', '##ي', '##ة', 'ع', '##ل', '##ى', 'ا', '##ر', '##ت', '##ف', '##ا', '##ع', 'ي', '##ق', '##ا', '##ر', '##ب', '10', 'ا', '##م', '##ت', '##ا', '##ر', '(', '33', 'ق', '##د', '##م', '##ا', ')', '.', 'ي', '##س', '##ت', '##م', '##ر', 'ب', '##ن', '##ا', '##ء', 'ا', '##ل', '##ع', '##ش', 'ح', '##و', '##ا', '##ل', '##ي', 'س', '##ت', '##ة', 'ا', '##ي', '##ا', '##م', '،', 'ت', '##ع', '##م', '##ل', 'ا', '##ل', '##ان', '##ث', '##ى', 'خ', '##ل', '##ا', '##ل', '##ه', '##ا', 'م', '##ا', '##ب', '##ي', '##ن', '10', 'و', '##40', 'د', '##ق', '##ي', '##ق', '##ة', 'م', '##ت', '##ز', '##ا', '##ي', '##د', '##ة', '.', 'غ', '##ا', '##ل', '##ب', '##ا', 'م', '##ا', 'ي', '##ر', '##ى', 'ا', '##ل', '##ذ', '##ك', '##ر', 'و', '##ه', '##و', 'ي', '##ط', '##ي', '##ر', 'ا', '##ل', '##ى', 'ج', '##ان', '##ب', 'ا', '##ل', '##ان', '##ث', '##ى', 'ا', '##ث', '##ن', '##ا', '##ء', 'ت', '##ج', '##م', '##ي', '##ع', '##ه', '##ا', 'م', '##و', '##ا', '##د', 'ا', '##ل', '##ب', '##ن', '##ا', '##ء', '،', 'و', '##ق', '##د', 'ي', '##ش', '##ا', '##ر', '##ك', '##ه', '##ا', 'ع', '##ب', '##ء', 'ح', '##م', '##ل', 'ب', '##ع', '##ض', '##ه', '##ا', '،', 'ل', '##ك', '##ن', '##ه', 'ي', '##ت', '##ر', '##ك', 'م', '##ه', '##م', '##ة', 'ا', '##ن', '##ش', '##ا', '##ء', 'ا', '##ل', '##ع', '##ش', 'ن', '##ف', '##س', '##ه', 'ا', '##ل', '##ي', '##ه', '##ا', '.', 'ت', '##ص', '##ن', '##ع', 'ا', '##ل', '##ق', '##ش', '##ر', '##ة', 'ا', '##ل', '##خ', '##ا', '##ر', '##ج', '##ي', '##ة', 'ل', '##ل', '##ع', '##ش', 'م', '##ن', 'ل', '##ح', '##ا', '##ء', 'ا', '##ل', '##ا', '##ش', '##ج', '##ا', '##ر', '،', 'و', '##ا', '##ل', '##ط', '##ح', '##ا', '##ل', '##ب', '،', 'و', '##ح', '##ب', '##ا', '##ل', 'ا', '##ل', '##ك', '##ر', '##و', '##م', '،', 'و', '##ا', '##ل', '##ا', '##ع', '##ش', '##ا', '##ب', '.', 'ي', '##ص', '##ل', 'ق', '##ط', '##ر', 'ا', '##ل', '##ع', '##ش', 'ا', '##ل', '##د', '##ا', '##خ', '##ل', '##ي', 'ب', '##ع', '##د', 'ا', '##ن', '##ت', '##ه', '##ا', '##ي', '##ه', 'ا', '##ل', '##ى', 'ح', '##و', '##ا', '##ل', '##ي', '6', '.', '5', 'س', '##ن', '##ت', '##ي', '##م', '##ت', '##ر', '##ا', '##ت', '(', '2', '.', '6', 'ا', '##ن', '##ش', '##ا', '##ت', ')', '.', 'ت', '##د', '##ع', '##م', 'ا', '##ل', '##ح', '##ا', '##ف', '##ة', 'ب', '##ا', '##ل', '##ل', '##ح', '##ا', '##ء', 'ا', '##ل', '##م', '##ق', '##ي', '##د', 'ب', '##ش', '##ب', '##ا', '##ك', 'ا', '##ل', '##ع', '##ن', '##ك', '##ب', '##و', '##ت', 'و', '##ح', '##ر', '##ي', '##ر', 'ا', '##ل', '##ي', '##س', '##ا', '##ر', '##ي', '##ع', '،', 'و', '##ي', '##ب', '##ط', '##ن', 'ا', '##ل', '##د', '##ا', '##خ', '##ل', 'ب', '##و', '##ر', '##ق', 'ا', '##ل', '##ص', '##ق', '##ل', '##ا', '##ب', '،', 'ا', '##و', 'ا', '##ل', '##ش', '##و', '##ك', 'ا', '##ل', '##ب', '##ر', '##ي', '،', 'ا', '##و', 'ا', '##ل', '##ب', '##و', '##ط', '.', 'ت', '##ح', '##ا', '##ك', 'م', '##و', '##ا', '##د', 'ب', '##ن', '##ا', '##ء', 'ا', '##ل', '##ع', '##ش', 'ب', '##ش', '##ك', '##ل', 'م', '##ت', '##ي', '##ن', 'ل', '##ل', '##غ', '##ا', '##ي', '##ة', 'ل', '##د', '##ر', '##ج', '##ة', 'ا', '##ن', '##ه', '##ا', 'ت', '##ح', '##ب', '##س', 'ا', '##ل', '##م', '##ا', '##ء', '،', 'و', '##ق', '##د', 'ت', '##ن', '##ف', '##ق', 'ا', '##ل', '##ف', '##ر', '##ا', '##خ', 'غ', '##ر', '##ق', '##ا', 'ف', '##ي', 'ع', '##ا', '##ص', '##ف', '##ة', 'ر', '##ع', '##د', '##ي', '##ة', 'ب', '##ح', '##ا', '##ل', 'ل', '##م', 'ي', '##ق', '##م', 'ا', '##ل', '##و', '##ا', '##ل', '##د', '##ان', 'ب', '##ت', '##غ', '##ط', '##ي', '##ة', 'ا', '##ل', '##ع', '##ش', '.', 'ت', '##ض', '##ع', 'ا', '##ل', '##ان', '##ث', '##ى', 'م', '##ا', 'ب', '##ي', '##ن', 'ا', '##ر', '##ب', '##ع', '##ة', 'و', '##س', '##ت', '##ة', 'ب', '##ي', '##ض', '##ا', '##ت', 'ض', '##ا', '##ر', '##ب', '##ة', 'ا', '##ل', '##ى', 'ا', '##ل', '##ز', '##ر', '##ق', '##ة', '،', 'ي', '##ص', '##ل', 'ح', '##ج', '##م', '##ه', '##ا', 'ا', '##ل', '##ى', 'ح', '##ج', '##م', 'ح', '##ب', '##ة', 'ا', '##ل', '##ف', '##و', '##ل', 'ا', '##ل', '##س', '##و', '##د', '##ان', '##ي', 'ت', '##ق', '##ر', '##ي', '##ب', '##ا', '(', '16', '×', '12', 'م', '##ي', '##ل', '##ي', '##م', '##ت', '##ر', '[UNK]', 'ا', '##و', '0', '.', '63', '×', '0', '.', '47', 'ا', '##ن', '##ش', ')', '،', 'و', '##ي', '##ع', '##ت', '##ق', '##د', 'ا', '##ن', '##ه', '##ا', 'ت', '##و', '##ض', '##ع', 'خ', '##ل', '##ا', '##ل', 'ا', '##ل', '##ل', '##ي', '##ل', '.', 'ت', '##ن', '##ف', '##ر', '##د', 'ا', '##ل', '##ان', '##ث', '##ى', 'ب', '##ر', '##خ', '##م', 'ا', '##ل', '##ب', '##ي', '##ض', '،', 'و', '##ي', '##ت', '##و', '##ل', '##ى', 'ا', '##ل', '##ذ', '##ك', '##ر', 'م', '##ه', '##م', '##ة', 'ا', '##ط', '##ع', '##ا', '##م', '##ه', '##ا', 'ط', '##ي', '##ل', '##ة', 'ه', '##ذ', '##ه', 'ا', '##ل', '##ف', '##ت', '##ر', '##ة', '.', 'ت', '##ن', '##ت', '##ج', 'م', '##ع', '##ظ', '##م', 'ا', '##ل', '##ح', '##س', '##ا', '##س', '##ي', '##ن', 'ا', '##ل', '##ا', '##م', '##ر', '##ي', '##ك', '##ي', '##ة', 'ف', '##ق', '##س', '##ة', 'و', '##ا', '##ح', '##د', '##ة', 'ف', '##ي', 'ا', '##ل', '##س', '##ن', '##ة', '.', 'ا', '##ل', '##ف', '##ر', '##ا', '##خ', 'ت', '##ف', '##ق', '##س', 'ا', '##ل', '##ص', '##غ', '##ا', '##ر', 'ب', '##ع', '##د', 'ف', '##ت', '##ر', '##ة', 'ت', '##م', '##ت', '##د', 'ب', '##ي', '##ن', '12', 'و', '##14', 'ي', '##و', '##م', '##ا', 'م', '##ن', 'ا', '##ل', '##ر', '##خ', '##م', '.', 'و', '##ك', '##م', '##ا', 'ه', '##و', 'ا', '##ل', '##ح', '##ا', '##ل', 'ع', '##ن', '##د', 'ج', '##م', '##ي', '##ع', 'ا', '##ل', '##ع', '##ص', '##ف', '##و', '##ر', '##ي', '##ا', '##ت', '،', 'ف', '##ان', 'ا', '##ل', '##ص', '##غ', '##ا', '##ر', 'ت', '##ف', '##ق', '##س', 'ع', '##م', '##ي', '##ا', '##ء', 'و', '##ع', '##ا', '##ر', '##ي', '##ة', 'م', '##ح', '##م', '##ر', '##ة', 'ا', '##ل', '##ج', '##س', '##د', '،', 'و', '##ت', '##م', '##ت', '##ل', '##ك', 'ز', '##غ', '##ب', '##ا', 'ر', '##م', '##ا', '##د', '##ي', '##ا', 'ب', '##س', '##ي', '##ط', '##ا', '.', 'ت', '##ط', '##ع', '##م', 'ا', '##ل', '##ا', '##م', 'ص', '##غ', '##ا', '##ر', '##ه', '##ا', 'ط', '##ع', '##ا', '##م', '##ا', 'م', '##ق', '##ل', '##س', '##ا', 'ع', '##ب', '##ا', '##ر', '##ة', 'ع', '##ن', 'م', '##ز', '##ي', '##ج', 'م', '##ن', 'ا', '##ل', '##ب', '##ز', '##و', '##ر', 'و', '##ا', '##ل', '##ح', '##ش', '##ر', '##ا', '##ت', '،', 'و', '##ت', '##ن', '##م', '##و', 'ا', '##ل', '##ف', '##ر', '##ا', '##خ', 'س', '##ر', '##ي', '##ع', '##ا', '،', 'ف', '##ت', '##ف', '##ت', '##ح', 'ع', '##ي', '##ن', '##ا', '##ه', '##ا', 'ب', '##ع', '##د', 'ث', '##ل', '##ا', '##ث', '##ة', 'ا', '##ي', '##ا', '##م', 'م', '##ن', 'ا', '##ل', '##ف', '##ق', '##س', '،', 'و', '##ت', '##ك', '##ت', '##س', '##ي', 'ب', '##ر', '##ي', '##ش', 'ا', '##ل', '##ط', '##ي', '##و', '##ر', 'ا', '##ل', '##ي', '##ا', '##ف', '##ع', '##ة', 'ا', '##ل', '##ب', '##ن', '##ي', 'ا', '##ل', '##ض', '##ا', '##ر', '##ب', 'ل', '##ل', '##ز', '##ي', '##ت', '##و', '##ن', '##ي', 'ب', '##ع', '##د', 'ف', '##ت', '##ر', '##ة', 'ت', '##م', '##ت', '##د', 'ب', '##ي', '##ن', '11', 'و', '##15', 'ي', '##و', '##م', '##ا', '،', 'ت', '##ك', '##و', '##ن', 'خ', '##ل', '##ا', '##ل', '##ه', '##ا', 'ق', '##د', 'ب', '##د', '##ا', '##ت', 'ت', '##ت', '##د', '##ر', '##ب', 'ع', '##ل', '##ى', 'ا', '##ل', '##ط', '##ي', '##ر', '##ان', 'ل', '##م', '##س', '##ا', '##ف', '##ا', '##ت', 'ق', '##ص', '##ي', '##ر', '##ة', 'ع', '##ل', '##ى', 'م', '##ق', '##ر', '##ب', '##ة', 'م', '##ن', 'ا', '##ل', '##ع', '##ش', '.', 'ي', '##س', '##ت', '##م', '##ر', 'ا', '##ل', '##ذ', '##ك', '##ر', 'ب', '##ا', '##ط', '##ع', '##ا', '##م', 'ص', '##غ', '##ا', '##ر', '##ه', 'ب', '##ع', '##د', 'ث', '##ل', '##ا', '##ث', '##ة', 'ا', '##س', '##ا', '##ب', '##ي', '##ع', 'م', '##ن', 'ت', '##ر', '##ي', '##ش', '##ه', '##م', '،', 'و', '##ي', '##ح', '##د', '##د', 'م', '##ك', '##ان', '##ه', '##م', 'ع', '##ب', '##ر', 'ا', '##ل', '##ا', '##س', '##ت', '##م', '##ا', '##ع', 'ا', '##ل', '##ى', 'ن', '##د', '##ا', '##ي', '##ا', '##ت', '##ه', '##م', '.', 'ت', '##ت', '##و', '##ق', '##ف', 'ا', '##ل', '##ف', '##ر', '##ا', '##خ', 'ع', '##ن', 'ا', '##ل', '##ن', '##د', '##ا', '##ء', 'و', '##ط', '##ل', '##ب', 'ا', '##ل', '##ط', '##ع', '##ا', '##م', 'م', '##ا', 'ا', '##ن', 'ت', '##ص', '##ب', '##ح', 'م', '##س', '##ت', '##ق', '##ل', '##ة', 'ك', '##ل', '##ي', '##ا', 'ع', '##ن', 'ا', '##ب', '##و', '##ي', '##ه', '##ا', '.', 'ا', '##ل', '##م', '##ت', '##ط', '##ف', '##ل', '##ا', '##ت', 'ع', '##ل', '##ى', 'ا', '##ل', '##ا', '##ع', '##ش', '##ا', '##ش', 'ت', '##ق', '##ع', 'ا', '##ل', '##ح', '##س', '##ا', '##س', '##ي', '##ن', 'ا', '##ل', '##ا', '##م', '##ر', '##ي', '##ك', '##ي', '##ة', 'ض', '##ح', '##ي', '##ة', 'ا', '##ل', '##م', '##ت', '##ط', '##ف', '##ل', '##ا', '##ت', 'ع', '##ل', '##ى', 'ا', '##ل', '##ا', '##ع', '##ش', '##ا', '##ش', 'ف', '##ي', 'ا', '##ح', '##ي', '##ان', 'ك', '##ث', '##ي', '##ر', '##ة', '،', 'و', '##ب', '##ا', '##ل', '##ا', '##خ', '##ص', 'ش', '##ح', '##ا', '##ر', '##ي', '##ر', 'ا', '##ل', '##ب', '##ق', '##ر', 'ب', '##ن', '##ي', '##ة', 'ا', '##ل', '##ر', '##ا', '##س', '.', 'ا', '##ظ', '##ه', '##ر', '##ت', 'ا', '##ح', '##د', '##ى', 'ا', '##ل', '##د', '##ر', '##ا', '##س', '##ا', '##ت', 'ا', '##ن', 'ح', '##و', '##ا', '##ل', '##ي', '9', '%', 'م', '##ن', 'ا', '##ع', '##ش', '##ا', '##ش', 'ا', '##ل', '##ح', '##س', '##ا', '##س', '##ي', '##ن', 'ا', '##ل', '##ا', '##م', '##ر', '##ي', '##ك', '##ي', '##ة', 'ت', '##غ', '##ز', '##و', '##ه', '##ا', 'ا', '##ل', '##ط', '##ي', '##و', '##ر', 'س', '##ا', '##ل', '##ف', '##ة', 'ا', '##ل', '##ذ', '##ك', '##ر', 'و', '##ت', '##ض', '##ع', 'ف', '##ي', '##ه', '##ا', 'ب', '##ي', '##ض', '##ة', 'و', '##ا', '##ح', '##د', '##ة', '.', 'غ', '##ي', '##ر', 'ا', '##ن', 'ا', '##ل', '##ح', '##س', '##ا', '##س', '##ي', '##ن', 'ت', '##ع', '##د', 'ا', '##ب', '##ا', '##ء', 'ب', '##د', '##ي', '##ل', '##ة', 'س', '##ي', '##ي', '##ة', 'ل', '##ا', '##ي', 'ن', '##و', '##ع', 'م', '##ن', 'ا', '##ل', '##م', '##ت', '##ط', '##ف', '##ل', '##ا', '##ت', '،', 'ف', '##ق', '##د', 'ا', '##ظ', '##ه', '##ر', '##ت', 'ا', '##ل', '##د', '##ر', '##ا', '##س', '##ا', '##ت', 'ا', '##ن', 'ن', '##س', '##ب', '##ة', 'م', '##ن', '##خ', '##ف', '##ض', '##ة', 'م', '##ن', 'ب', '##ي', '##و', '##ض', 'ش', '##ح', '##ا', '##ر', '##ي', '##ر', 'ا', '##ل', '##ب', '##ق', '##ر', 'ف', '##ق', '##س', '##ت', 'ف', '##ي', 'ا', '##ع', '##ش', '##ا', '##ش', '##ه', '##ا', '،', 'و', '##ان', '##ه', 'ل', '##م', 'ي', '##ص', '##ل', 'ا', '##ي', 'م', '##ن', 'ت', '##ل', '##ك', 'ا', '##ل', '##ف', '##ر', '##ا', '##ح', 'م', '##ر', '##ح', '##ل', '##ة', 'ا', '##ل', '##ت', '##ر', '##ي', '##ش', '،', 'ه', '##ذ', '##ا', 'م', '##ع', 'ا', '##ل', '##ا', '##خ', '##ذ', 'ب', '##ع', '##ي', '##ن', 'ا', '##ل', '##ا', '##ع', '##ت', '##ب', '##ا', '##ر', 'ا', '##ن', 'ا', '##ل', '##ح', '##س', '##ا', '##س', '##ي', '##ن', 'ل', '##ا', 'ت', '##ظ', '##ه', '##ر', 'ا', '##ي', 'ت', '##ك', '##ي', '##ف', 'ل', '##م', '##و', '##ا', '##ج', '##ه', '##ة', 'ا', '##ل', '##ط', '##ي', '##و', '##ر', 'ا', '##ل', '##م', '##ت', '##ط', '##ف', '##ل', '##ة', '.', 'ي', '##ع', '##ت', '##ق', '##د', 'ا', '##ن', 'ن', '##ف', '##و', '##ق', 'ف', '##ر', '##ا', '##خ', 'ش', '##ح', '##ا', '##ر', '##ي', '##ر', 'ا', '##ل', '##ب', '##ق', '##ر', 'ب', '##ن', '##ي', '##ة', 'ا', '##ل', '##ر', '##ا', '##س', 'ي', '##ع', '##و', '##د', 'ا', '##ل', '##ى', 'س', '##و', '##ء', 'ا', '##ل', '##ت', '##غ', '##ذ', '##ي', '##ة', '،', 'ف', '##ا', '##ل', '##ح', '##س', '##ا', '##س', '##ي', '##ن', 'ا', '##ل', '##ا', '##م', '##ر', '##ي', '##ك', '##ي', '##ة', 'ت', '##ق', '##ت', '##ا', '##ت', 'ع', '##ل', '##ى', 'ا', '##ل', '##ب', '##ز', '##و', '##ر', 'ب', '##ش', '##ك', '##ل', 'ر', '##ي', '##ي', '##س', '##ي', '،', 'ب', '##ي', '##ن', '##م', '##ا', 'ت', '##ق', '##ت', '##ا', '##ت', 'ا', '##ل', '##ش', '##ح', '##ا', '##ر', '##ي', '##ر', 'ع', '##ل', '##ى', 'ا', '##ل', '##ح', '##ش', '##ر', '##ا', '##ت', 'ب', '##ن', '##س', '##ب', '##ة', 'ا', '##ع', '##ل', '##ى', 'م', '##ن', 'ا', '##ل', '##ب', '##ز', '##و', '##ر', '.', 'ا', '##ل', '##ع', '##ل', '##ا', '##ق', '##ة', 'م', '##ع', 'ا', '##ل', '##ب', '##ش', '##ر', 'ي', '##م', '##ك', '##ن', 'ا', '##ل', '##ع', '##ث', '##و', '##ر', 'ع', '##ل', '##ى', 'ا', '##ل', '##ح', '##س', '##ا', '##س', '##ي', '##ن', 'ا', '##ل', '##ا', '##م', '##ر', '##ي', '##ك', '##ي', '##ة', 'ف', '##ي', 'ا', '##ل', '##م', '##و', '##ا', '##ي', '##ل', 'ا', '##ل', '##ب', '##ش', '##ر', '##ي', '##ة', 'ع', '##ب', '##ر', 'ج', '##م', '##ي', '##ع', 'ا', '##ن', '##ح', '##ا', '##ء', 'م', '##و', '##ط', '##ن', '##ه', '##ا', '،', 'و', '##م', '##ن', 'ا', '##ب', '##ر', '##ز', 'ا', '##س', '##ب', '##ا', '##ب', 'ذ', '##ل', '##ك', 'ت', '##ش', '##ج', '##ي', '##ع', 'ا', '##ل', '##ب', '##ش', '##ر', 'ا', '##ن', '##ف', '##س', '##ه', '##م', 'ل', '##ه', '##ا', '،', 'ف', '##ا', '##ل', '##ك', '##ث', '##ي', '##ر', 'م', '##ن', 'ا', '##ل', '##ن', '##ا', '##س', 'م', '##ن', 'ه', '##و', '##ا', '##ة', 'م', '##ر', '##ا', '##ق', '##ب', '##ة', 'ا', '##ل', '##ط', '##ي', '##و', '##ر', 'ي', '##ج', '##ت', '##ذ', '##ب', '##ه', '##ا', 'ا', '##ل', '##ى', 'ح', '##د', '##ي', '##ق', '##ة', 'م', '##ن', '##ز', '##ل', '##ه', 'ع', '##ب', '##ر', 'ت', '##ز', '##و', '##ي', '##د', '##ه', '##ا', 'ب', '##م', '##ن', '##ص', '##ا', '##ت', 'م', '##غ', '##ذ', '##ي', '##ا', '##ت', 'ت', '##ح', '##و', '##ي', 'ب', '##ز', '##و', '##ر', '##ا', 'م', '##ن', 'ا', '##ل', '##ان', '##و', '##ا', '##ع', 'ا', '##ل', '##ت', '##ي', 'ت', '##ف', '##ض', '##ل', '##ه', '##ا', '،', 'ا', '##و', 'ع', '##ب', '##ر', 'ز', '##ر', '##ع', 'ا', '##ع', '##ش', '##ا', '##ب', 'و', '##ن', '##ب', '##ا', '##ت', '##ا', '##ت', 'م', '##ع', '##م', '##ر', '##ة', '،', 'م', '##ن', 'ش', '##ا', '##ك', '##ل', '##ة', ':', 'ا', '##ل', '##ز', '##ي', '##ن', '##ي', '##ة', '،', 'و', '##ا', '##ل', '##ك', '##و', '##س', '##م', '##و', '##س', '،', 'و', '##ب', '##ل', '##س', '##م', 'ا', '##ل', '##ن', '##ح', '##ل', '،', 'و', '##ا', '##ل', '##ق', '##ن', '##ف', '##ذ', '##ي', '##ة', '،', 'ت', '##ن', '##ت', '##ج', 'ب', '##ز', '##و', '##ر', '##ا', 'ت', '##ق', '##ت', '##ا', '##ت', 'ع', '##ل', '##ي', '##ه', '##ا', 'ا', '##ل', '##ح', '##س', '##ا', '##س', '##ي', '##ن', '.', 'ك', '##ان', 'ل', '##ا', '##ط', '##ع', '##ا', '##م', 'ه', '##ذ', '##ه', 'ا', '##ل', '##ط', '##ي', '##و', '##ر', 'م', '##ن', 'ق', '##ب', '##ل', 'ا', '##ل', '##ب', '##ش', '##ر', 'ا', '##ث', '##ر', 'ط', '##ي', '##ب', 'و', '##م', '##ف', '##ي', '##د', 'ع', '##ل', '##ى', 'ج', '##م', '##ه', '##ر', '##ا', '##ت', '##ه', '##ا', 'و', '##ع', '##ل', '##ى', 'ا', '##ل', '##ن', '##و', '##ع', 'ك', '##ك', '##ل', '،', 'ع', '##ل', '##ى', 'ا', '##ل', '##ر', '##غ', '##م', 'م', '##ن', 'ا', '##ن', 'ب', '##ع', '##ض', 'ا', '##ل', '##خ', '##ب', '##ر', '##ا', '##ء', 'و', '##ا', '##ل', '##ع', '##ل', '##م', '##ا', '##ء', 'ي', '##ج', '##ا', '##د', '##ل', 'ف', '##ي', 'ت', '##ا', '##ث', '##ي', '##ر', 'ه', '##ذ', '##ا', 'ع', '##ل', '##ى', 'ا', '##ل', '##ط', '##ي', '##و', '##ر', '،', 'م', '##ن', 'ن', '##ا', '##ح', '##ي', '##ة', 'ا', '##ف', '##ق', '##ا', '##د', '##ه', '##ا', 'خ', '##و', '##ف', '##ه', '##ا', 'ا', '##ل', '##غ', '##ر', '##ي', '##ز', '##ي', 'م', '##ن', 'ا', '##ل', '##ب', '##ش', '##ر', '،', 'و', '##ت', '##غ', '##ي', '##ي', '##ر', 'ع', '##ا', '##د', '##ا', '##ت', '##ه', '##ا', 'ا', '##ل', '##ط', '##ب', '##ي', '##ع', '##ي', '##ة', 'و', '##ج', '##ع', '##ل', '##ه', '##ا', 'ت', '##ع', '##ت', '##م', '##د', 'ع', '##ل', '##ى', 'ا', '##ل', '##ان', '##س', '##ان', 'ف', '##ي', 'ت', '##ا', '##م', '##ي', '##ن', 'ا', '##ل', '##ق', '##و', '##ت', '.', 'ا', '##ل', '##ح', '##س', '##ا', '##س', '##ي', '##ن', 'ا', '##ل', '##ا', '##م', '##ر', '##ي', '##ك', '##ي', '##ة', 'ش', '##ا', '##ي', '##ع', '##ة', 'ع', '##ب', '##ر', 'ج', '##م', '##ي', '##ع', 'ا', '##ن', '##ح', '##ا', '##ء', 'م', '##و', '##ط', '##ن', '##ه', '##ا', '،', 'و', '##ل', '##ا', 'ي', '##ه', '##د', '##د', '##ه', '##ا', 'ا', '##ي', 'ش', '##ك', '##ل', 'م', '##ن', 'ا', '##ش', '##ك', '##ا', '##ل', 'ا', '##ل', '##ن', '##ش', '##ا', '##ط', 'ا', '##ل', '##ب', '##ش', '##ر', '##ي', '.', 'ك', '##ان', 'ل', '##ل', '##ت', '##ح', '##ط', '##ي', '##ب', 'و', '##ا', '##ز', '##ا', '##ل', '##ة', 'ا', '##ل', '##غ', '##ا', '##ب', '##ا', '##ت', 'ا', '##ث', '##ر', 'ج', '##ي', '##د', 'ع', '##ل', '##ى', 'ا', '##ل', '##ح', '##س', '##ا', '##س', '##ي', '##ن', '،', 'ع', '##ل', '##ى', 'ا', '##ل', '##ع', '##ك', '##س', 'م', '##ن', 'ا', '##ل', '##ك', '##ث', '##ي', '##ر', 'م', '##ن', 'ا', '##ن', '##و', '##ا', '##ع', 'ا', '##ل', '##ح', '##ي', '##ا', '##ة', 'ا', '##ل', '##ب', '##ر', '##ي', '##ة', 'ا', '##ل', '##ا', '##خ', '##ر', '##ى', '،', 'ف', '##ق', '##د', 'خ', '##ل', '##ق', 'ل', '##ه', '##ا', 'ه', '##ذ', '##ا', 'ا', '##ل', '##ا', '##م', '##ر', 'م', '##ر', '##و', '##ج', '##ا', 'و', '##ف', '##س', '##ح', '##ا', '##ت', 'ع', '##ش', '##ب', '##ي', '##ة', 'ت', '##ق', '##ت', '##ا', '##ت', 'ف', '##ي', '##ه', '##ا', 'ع', '##ل', '##ى', 'ب', '##ز', '##و', '##ر', 'ا', '##ل', '##ا', '##ع', '##ش', '##ا', '##ب', 'ا', '##ل', '##ض', '##ا', '##ر', '##ة', '،', 'و', '##ق', '##ل', '##ل', 'م', '##ن', 'ه', '##ج', '##ر', '##ة', 'ا', '##ل', '##ان', '##و', '##ا', '##ع', 'ا', '##ل', '##ج', '##ن', '##و', '##ب', '##ي', '##ة', 'ا', '##ل', '##م', '##ن', '##ا', '##ف', '##س', '##ة', 'ل', '##ه', '##ا', '،', 'ا', '##ل', '##ب', '##ا', '##ح', '##ث', '##ة', 'ع', '##ن', 'ا', '##ل', '##غ', '##ا', '##ب', '##ا', '##ت', 'و', '##ا', '##ل', '##ا', '##ح', '##ر', '##ا', '##ج', '.', 'ي', '##ش', '##ك', '##ل', 'ا', '##ل', '##ح', '##س', '##و', '##ن', 'ا', '##ل', '##ا', '##م', '##ر', '##ي', '##ك', '##ي', 'ر', '##م', '##ز', 'ث', '##ل', '##ا', '##ث', '##ة', 'و', '##ل', '##ا', '##ي', '##ا', '##ت', 'ا', '##م', '##ر', '##ي', '##ك', '##ي', '##ة', 'ه', '##ي', ':', 'ا', '##ي', '##و', '##ا', '،', 'و', '##ن', '##ي', '##و', 'ج', '##ي', '##ر', '##س', '##ي', '،', 'و', '##و', '##ا', '##ش', '##ن', '##ط', '##ن', '.', 'و', '##م', '##ن', 'ا', '##ل', '##ج', '##د', '##ي', '##ر', 'ب', '##ا', '##ل', '##ذ', '##ك', '##ر', 'ا', '##ن', 'م', '##ن', 'ا', '##خ', '##ت', '##ا', '##ر', '##ه', 'ل', '##ي', '##ك', '##و', '##ن', 'ر', '##م', '##ز', 'ا', '##ل', '##و', '##ل', '##ا', '##ي', '##ة', 'ا', '##ل', '##ا', '##خ', '##ي', '##ر', '##ة', 'ك', '##ان', 'ا', '##ط', '##ف', '##ا', '##ل', 'ا', '##ل', '##م', '##د', '##ا', '##ر', '##س', '،', 'و', '##ذ', '##ل', '##ك', 'ف', '##ي', 'س', '##ن', '##ة', '1951', '.', 'ا', '##ن', '##ظ', '##ر', 'ا', '##ي', '##ض', '##ا', 'ا', '##ل', '##ح', '##س', '##و', '##ن', 'ا', '##ل', '##ا', '##ص', '##غ', '##ر', 'ح', '##س', '##و', '##ن', 'ل', '##و', '##ر', '##ن', '##س', 'ا', '##ل', '##ح', '##س', '##و', '##ن', 'ا', '##ل', '##ا', '##و', '##ر', '##ا', '##س', '##ي', 'ا', '##ل', '##ح', '##س', '##و', '##ن', 'ا', '##ل', '##ا', '##خ', '##ض', '##ر', 'ا', '##ل', '##ا', '##و', '##ر', '##و', '##ب', '##ي', 'ا', '##ل', '##م', '##ر', '##ا', '##ج', '##ع', 'و', '##ص', '##ل', '##ا', '##ت', 'خ', '##ا', '##ر', '##ج', '##ي', '##ة', '[UNK]', 'ع', '##ن', 'ا', '##ل', '##ح', '##س', '##ا', '##س', '##ي', '##ن', 'ا', '##ل', '##ا', '##م', '##ر', '##ي', '##ك', '##ي', '##ة', 'ع', '##ل', '##ى', 'م', '##و', '##ق', '##ع', 'م', '##ج', '##م', '##و', '##ع', '##ة', 'ا', '##ل', '##ط', '##ي', '##و', '##ر', 'ع', '##ل', '##ى', 'ش', '##ب', '##ك', '##ة', 'ا', '##ل', '##ان', '##ت', '##ر', '##ن', '##ت', '.', '[UNK]', 'ع', '##ا', '##ل', '##ي', 'ا', '##ل', '##د', '##ق', '##ة', '(', 'hd', ')', 'ل', '##ح', '##س', '##و', '##ن', 'ا', '##م', '##ر', '##ي', '##ك', '##ي', 'ب', '##ا', '##ل', '##ا', '##ض', '##ا', '##ف', '##ة', 'ا', '##ل', '##ى', 'ص', '##و', '##ر', '##ة', '،', '[UNK]', 'ع', '##ا', '##ل', '##ي', 'ا', '##ل', '##د', '##ق', '##ة', 'ل', '##ط', '##ا', '##ي', '##ر', 'ي', '##غ', '##ر', '##د', '.', 'ع', '##ر', '##ض', 'ا', '##ل', '##ح', '##س', '##و', '##ن', 'ا', '##ل', '##ا', '##م', '##ر', '##ي', '##ك', '##ي', '–', 'ن', '##ص', 'م', '##ع', '##ل', '##و', '##م', '##ا', '##ت', '##ي', 'غ', '##ي', '##ر', 'ع', '##ل', '##م', '##ي', 'ي', '##ت', '##ح', '##د', '##ث', 'ع', '##ن', 'ا', '##ل', '##ح', '##س', '##ا', '##س', '##ي', '##ن', 'ا', '##ل', '##ا', '##م', '##ر', '##ي', '##ك', '##ي', '##ة', '.', 'ا', '##ص', '##ن', '##و', '##ف', '##ا', '##ت', 'س', '##م', '##ا', '##ه', '##ا', 'ك', '##ا', '##ر', '##و', '##ل', '##و', '##س', 'ل', '##ي', '##ن', '##ي', '##و', '##س', 'ا', '##ن', '##و', '##ا', '##ع', 'ا', '##ل', '##ق', '##ا', '##ي', '##م', '##ة', 'ا', '##ل', '##ح', '##م', '##ر', '##ا', '##ء', 'غ', '##ي', '##ر', 'ا', '##ل', '##م', '##ه', '##د', '##د', '##ة', 'ح', '##س', '##و', '##ن', '##ي', '##ا', '##ت', 'ح', '##ي', '##و', '##ان', '##ا', '##ت', 'ش', '##ر', '##ق', 'ا', '##ل', '##و', '##ل', '##ا', '##ي', '##ا', '##ت', 'ا', '##ل', '##م', '##ت', '##ح', '##د', '##ة', 'ر', '##م', '##و', '##ز', 'ن', '##ي', '##و', '##ج', '##ي', '##ر', '##س', '##ي', 'ط', '##ي', '##و', '##ر', 'ا', '##م', '##ر', '##ي', '##ك', '##ا', 'ا', '##ل', '##ش', '##م', '##ا', '##ل', '##ي', '##ة', 'ط', '##ي', '##و', '##ر', 'ا', '##ل', '##م', '##ك', '##س', '##ي', '##ك', 'ط', '##ي', '##و', '##ر', 'ا', '##ل', '##و', '##ل', '##ا', '##ي', '##ا', '##ت', 'ا', '##ل', '##م', '##ت', '##ح', '##د', '##ة', 'ط', '##ي', '##و', '##ر', 'ك', '##ن', '##د', '##ا', 'ط', '##ي', '##و', '##ر', 'و', '##ص', '##ف', '##ت', 'ف', '##ي', '1758', 'ك', '##ع', '##ت', '##ر']\n"
     ]
    }
   ],
   "source": [
    "doc = documents[268000]\n",
    "print(doc['lang'])\n",
    "tokenized_text = tokenizer_bert.tokenize(doc['text'])\n",
    "print(tokenized_text)\n"
   ]
  },
  {
   "cell_type": "code",
   "execution_count": 22,
   "metadata": {},
   "outputs": [],
   "source": [
    "vocab = set(tokenized_text)\n",
    "# save the vocabulary into a json file\n",
    "with open('vocabulary_prova.json', 'w') as f:\n",
    "    json.dump(list(vocab), f)"
   ]
  },
  {
   "cell_type": "code",
   "execution_count": 23,
   "metadata": {},
   "outputs": [
    {
     "name": "stdout",
     "output_type": "stream",
     "text": [
      "133\n",
      "133\n"
     ]
    }
   ],
   "source": [
    "print(len(vocab))\n",
    "vocab_json = json.load(open('vocabulary_prova.json'))\n",
    "print(len(vocab_json))"
   ]
  },
  {
   "cell_type": "code",
   "execution_count": 36,
   "metadata": {},
   "outputs": [],
   "source": [
    "def create_vocabulary_language(documents, languages, tokenizer):\n",
    "    \"\"\"\n",
    "    Create the vocabularies for all the languages in the documents\n",
    "    \"\"\"\n",
    "    vocabularies = {}\n",
    "    for language in languages:\n",
    "        vocabularies[language] = set()\n",
    "    for doc in tqdm(documents):\n",
    "        text = doc['text']\n",
    "        tokenized_text = tokenizer.tokenize(text)\n",
    "        language = doc['lang']\n",
    "        vocabularies[language].update(tokenized_text)\n",
    "    return vocabularies"
   ]
  },
  {
   "cell_type": "code",
   "execution_count": null,
   "metadata": {},
   "outputs": [],
   "source": [
    "bert_vocabularies = create_vocabulary_language(documents, languages, tokenizer_bert)"
   ]
  },
  {
   "cell_type": "code",
   "execution_count": 39,
   "metadata": {},
   "outputs": [],
   "source": [
    "# save the vocabularies for each language in a json file\n",
    "for language in languages:\n",
    "    with open(f'vocabularies/vocabulary_{language}.json', 'w') as f:\n",
    "        json.dump(list(bert_vocabularies[language]), f)"
   ]
  },
  {
   "cell_type": "code",
   "execution_count": 40,
   "metadata": {},
   "outputs": [
    {
     "name": "stdout",
     "output_type": "stream",
     "text": [
      "Size of vocabulary for language en : 29070\n",
      "Size of vocabulary for language de : 28156\n",
      "Size of vocabulary for language fr : 26214\n",
      "Size of vocabulary for language es : 25558\n",
      "Size of vocabulary for language it : 26424\n",
      "Size of vocabulary for language ar : 24503\n",
      "Size of vocabulary for language ko : 24196\n"
     ]
    }
   ],
   "source": [
    "for lang in languages:\n",
    "    print(\"Size of vocabulary for language\", lang, \":\", len(bert_vocabularies[lang]))"
   ]
  },
  {
   "cell_type": "code",
   "execution_count": 44,
   "metadata": {},
   "outputs": [
    {
     "name": "stdout",
     "output_type": "stream",
     "text": [
      "First 10 words in vocabulary for language en : ['concealed', 'railway', '##ites', 'hale', '1883', 'lifted', 'magic', '##mia', 'change', 'treasure']\n",
      "First 10 words in vocabulary for language de : ['concealed', 'railway', '##ites', 'hale', '1883', '##gus', '##mia', 'magic', 'change', 'treasure']\n",
      "First 10 words in vocabulary for language fr : ['concealed', 'railway', '##ites', 'hale', '1883', '##gus', '##mia', 'magic', 'change', 'treasure']\n",
      "First 10 words in vocabulary for language es : ['railway', '##ites', 'hale', '1883', 'magic', '##mia', '##gus', 'change', 'treasure', 'ت']\n",
      "First 10 words in vocabulary for language it : ['concealed', 'railway', '##ites', 'hale', '1883', '##gus', '##mia', 'magic', 'change', 'treasure']\n",
      "First 10 words in vocabulary for language ar : ['concealed', 'railway', '##ites', 'hale', '1883', 'magic', '##mia', '##gus', 'change', 'ت']\n",
      "First 10 words in vocabulary for language ko : ['railway', '##ites', 'hale', '1883', 'magic', '##gus', '##mia', 'change', 'treasure', 'ت']\n"
     ]
    }
   ],
   "source": [
    "for lang in languages:\n",
    "    print(\"First 10 words in vocabulary for language\", lang, \":\", list(bert_vocabularies[lang])[:10])"
   ]
  },
  {
   "cell_type": "code",
   "execution_count": 41,
   "metadata": {},
   "outputs": [
    {
     "name": "stdout",
     "output_type": "stream",
     "text": [
      "Number of unique tokens in the full vocabulary:  29129\n"
     ]
    }
   ],
   "source": [
    "full_vocabulary = set()\n",
    "for language in languages:\n",
    "    full_vocabulary.update(bert_vocabularies[language])\n",
    "\n",
    "print(\"Number of unique tokens in the full vocabulary: \", len(full_vocabulary))\n",
    "\n",
    "# save the full vocabulary in a json file\n",
    "\n",
    "with open('vocabularies/full_vocabulary.json', 'w') as f:\n",
    "    json.dump(list(full_vocabulary), f)"
   ]
  },
  {
   "cell_type": "code",
   "execution_count": 24,
   "metadata": {},
   "outputs": [],
   "source": [
    "# load the full vocabulary\n",
    "full_vocabulary = json.load(open('vocabularies/full_vocabulary.json'))"
   ]
  },
  {
   "cell_type": "code",
   "execution_count": 25,
   "metadata": {},
   "outputs": [
    {
     "name": "stdout",
     "output_type": "stream",
     "text": [
      "29129\n"
     ]
    }
   ],
   "source": [
    "print(len(full_vocabulary))"
   ]
  },
  {
   "cell_type": "code",
   "execution_count": 26,
   "metadata": {},
   "outputs": [],
   "source": [
    "full_vocabulary_truncated = (list(full_vocabulary)[:10000])"
   ]
  },
  {
   "cell_type": "code",
   "execution_count": 31,
   "metadata": {},
   "outputs": [
    {
     "name": "stdout",
     "output_type": "stream",
     "text": [
      "Word embeddings shape:  (29129, 768)\n"
     ]
    }
   ],
   "source": [
    "# Embed the full vocabulary\n",
    "bert_word_embeddings = model.encode(list(full_vocabulary))\n",
    "\n",
    "print(\"Word embeddings shape: \", bert_word_embeddings.shape)\n",
    "\n",
    "# save the word embeddings in a numpy file\n",
    "np.save('embeddings/bert_word_embeddings.npy', bert_word_embeddings)"
   ]
  },
  {
   "cell_type": "code",
   "execution_count": 32,
   "metadata": {},
   "outputs": [],
   "source": [
    "vocabulary_embeddings = dict(zip(list(full_vocabulary), bert_word_embeddings))"
   ]
  },
  {
   "cell_type": "code",
   "execution_count": 35,
   "metadata": {},
   "outputs": [],
   "source": [
    "def embed_document(doc, vocabulary_embeddings, tokenizer):\n",
    "    \"\"\"\n",
    "    Embed a document by averaging the word embeddings of its tokens\n",
    "    \"\"\"\n",
    "    text = doc['text']\n",
    "    tokens = tokenizer.tokenize(text)\n",
    "    tokens_embeddings = [vocabulary_embeddings[token] for token in tokens if token in vocabulary_embeddings]\n",
    "    if len(tokens_embeddings) == 0:\n",
    "        print(\"DRAMMA\")\n",
    "        return np.zeros(768)\n",
    "    doc_embedding = np.mean(tokens_embeddings, axis=0)\n",
    "\n",
    "    return doc_embedding"
   ]
  },
  {
   "cell_type": "code",
   "execution_count": null,
   "metadata": {},
   "outputs": [
    {
     "name": "stderr",
     "output_type": "stream",
     "text": [
      "  3%|▎         | 6952/268022 [09:21<5:42:02, 12.72it/s] "
     ]
    }
   ],
   "source": [
    "documents_embeddings = []\n",
    "for doc in tqdm(documents):\n",
    "    doc_embedding = embed_document(doc, vocabulary_embeddings, tokenizer_bert)\n",
    "    documents_embeddings.append(doc_embedding)"
   ]
  },
  {
   "cell_type": "code",
   "execution_count": null,
   "metadata": {},
   "outputs": [],
   "source": [
    "# save the documents embeddings in a numpy file\n",
    "np.save('embeddings/documents_embeddings.npy', documents_embeddings)"
   ]
  },
  {
   "cell_type": "code",
   "execution_count": null,
   "metadata": {},
   "outputs": [],
   "source": [
    "def embed_quey(query, vocabulary_embeddings, tokenizer):\n",
    "    \"\"\"\n",
    "    Embed a query by averaging the word embeddings of its tokens\n",
    "    \"\"\"\n",
    "    tokens = tokenizer.tokenize(query)\n",
    "    tokens_embeddings = [vocabulary_embeddings[token] for token in tokens if token in vocabulary_embeddings]\n",
    "    if len(tokens_embeddings) == 0:\n",
    "        return np.zeros(768)\n",
    "    query_embedding = np.mean(tokens_embeddings, axis=0)\n",
    "\n",
    "    return query_embedding"
   ]
  },
  {
   "cell_type": "code",
   "execution_count": null,
   "metadata": {},
   "outputs": [],
   "source": [
    "def retrieve(query, document_embeddings, vocabulary_embeddings, tokenizer):\n",
    "    \"\"\"\n",
    "    Retrieve the most similar documents to the query\n",
    "    \"\"\"\n",
    "    query_embedding = embed_quey(query, vocabulary_embeddings, tokenizer)\n",
    "    similarity_scores = cosine_similarity(query_embedding.reshape(1, -1), document_embeddings)\n",
    "    most_similar_docs = np.argsort(similarity_scores[0])[-10:]\n",
    "    most_similar_docids = [documents[i]['docid'] for i in most_similar_docs]\n",
    "    return most_similar_docids"
   ]
  },
  {
   "cell_type": "markdown",
   "metadata": {},
   "source": [
    "### Test on train queries"
   ]
  },
  {
   "cell_type": "code",
   "execution_count": null,
   "metadata": {},
   "outputs": [],
   "source": [
    "def check_performance(query, document_embeddings, vocabulary_embeddings, tokenizer):\n",
    "    \"\"\"\n",
    "    Check the performance of the retrieval system\n",
    "    \"\"\"\n",
    "    query_text = query['query']\n",
    "    relevant_doc = query['positive_docs']\n",
    "    negative_docs = query['negative_docs']\n",
    "    most_similar_docids = retrieve(query_text, document_embeddings, vocabulary_embeddings, tokenizer)\n",
    "    for doc in most_similar_docids:\n",
    "        if doc in relevant_doc:\n",
    "            print(\"Bravo\")\n",
    "        elif doc in negative_docs:\n",
    "            print(\"Dramma\")\n",
    "    "
   ]
  },
  {
   "cell_type": "markdown",
   "metadata": {},
   "source": [
    "### Submission\n"
   ]
  },
  {
   "cell_type": "code",
   "execution_count": 61,
   "metadata": {},
   "outputs": [],
   "source": [
    "def create_submission(queries_embeddings, documents_embeddings):\n",
    "    \"\"\"\n",
    "    Create a submission file with the 10 most similar documents for each query\n",
    "    \"\"\"\n",
    "    submission = []\n",
    "    sim_matrix = cosine_similarity(queries_embeddings, documents_embeddings)\n",
    "    for i in range(len(queries_embeddings)):\n",
    "        most_similar_docs = np.argsort(sim_matrix[i])[-10:]\n",
    "        most_similar_docids = [documents[i]['docid'] for i in most_similar_docs]\n",
    "        submission.append({\n",
    "            'query_id': i,\n",
    "            'retrieved_docs': most_similar_docids\n",
    "        })\n",
    "    \n",
    "    # save the submission file in csv\n",
    "    submission_df = pd.DataFrame(submission)\n",
    "    submission_df.to_csv('submission.csv', index=False)\n",
    "    print('Submission file created successfully')"
   ]
  },
  {
   "cell_type": "code",
   "execution_count": null,
   "metadata": {},
   "outputs": [],
   "source": [
    "create_submission(test_queries_embeddings, documents_embeddings)"
   ]
  },
  {
   "cell_type": "code",
   "execution_count": null,
   "metadata": {},
   "outputs": [],
   "source": [
    "# divide documents embeddings according to language of orginal document\n",
    "\n",
    "embeddings_by_language = {}\n",
    "\n",
    "for i, doc in enumerate(documents):\n",
    "    lang = doc['lang']\n",
    "    if lang not in embeddings_by_language:\n",
    "        embeddings_by_language[lang] = []\n",
    "    embeddings = documents_embeddings[i]\n",
    "    embeddings_by_language[lang].append(embeddings)"
   ]
  },
  {
   "cell_type": "code",
   "execution_count": null,
   "metadata": {},
   "outputs": [],
   "source": [
    "# get the original index of the documents by language\n",
    "\n",
    "original_idx_by_language = {}\n",
    "\n",
    "for i, doc in enumerate(documents):\n",
    "    lang = doc['lang']\n",
    "    if lang not in original_idx_by_language:\n",
    "        original_idx_by_language[lang] = []\n",
    "    original_idx_by_language[lang].append(doc['docid'])"
   ]
  },
  {
   "cell_type": "code",
   "execution_count": null,
   "metadata": {},
   "outputs": [],
   "source": [
    "# compute when language changes in test queries\n",
    "\n",
    "breaking_points = [0]\n",
    "for i in range(1, len(test_queries)):\n",
    "    if test_queries.iloc[i]['lang'] != test_queries.iloc[i-1]['lang']:\n",
    "        breaking_points.append(i)\n",
    "    "
   ]
  },
  {
   "cell_type": "code",
   "execution_count": null,
   "metadata": {},
   "outputs": [],
   "source": [
    "def create_submission_bylang(queries_embeddings, embeddings_by_lang, breaking_points, original_idx_by_language):\n",
    "    \"\"\"\n",
    "    Create a submission file with the 10 most similar documents for each query by language\n",
    "    \"\"\"\n",
    "    submission = []\n",
    "    for i in range(len(breaking_points)):\n",
    "        start = breaking_points[i]\n",
    "        end = breaking_points[i+1] if i+1 < len(breaking_points) else len(queries_embeddings)\n",
    "        queries = queries_embeddings[start:end]\n",
    "        lang = test_queries.iloc[start]['lang']\n",
    "        sim_matrix = cosine_similarity(queries, embeddings_by_lang[lang])\n",
    "        for j in range(len(queries)):\n",
    "            most_similar_docs = np.argsort(sim_matrix[j])[-10:]\n",
    "            most_similar_docids = [original_idx_by_language[lang][k] for k in most_similar_docs]\n",
    "            submission.append({\n",
    "                'id': start+j,\n",
    "                'docids': most_similar_docids\n",
    "            })\n",
    "            \n",
    "    # save the submission file in csv\n",
    "    submission_df = pd.DataFrame(submission)\n",
    "    submission_df.to_csv('submission_by_lang.csv', index=False)\n",
    "    print('Submission file created successfully')"
   ]
  },
  {
   "cell_type": "markdown",
   "metadata": {},
   "source": [
    "#### Test bert on train queries"
   ]
  },
  {
   "cell_type": "code",
   "execution_count": 17,
   "metadata": {},
   "outputs": [
    {
     "name": "stdout",
     "output_type": "stream",
     "text": [
      "What is the connection between AAA and Lucha Underground?\n"
     ]
    }
   ],
   "source": [
    "# check the scores on the train queries\n",
    "\n",
    "# embedd first train query\n",
    "train_query_0 = train_queries['query'][0]\n",
    "print(train_query_0)\n",
    "embedding_train_query_0 = model.encode(train_query_0)"
   ]
  },
  {
   "cell_type": "code",
   "execution_count": 19,
   "metadata": {},
   "outputs": [
    {
     "name": "stdout",
     "output_type": "stream",
     "text": [
      "doc-en-798457\n"
     ]
    }
   ],
   "source": [
    "print(train_queries['positive_docs'][0])"
   ]
  },
  {
   "cell_type": "code",
   "execution_count": 44,
   "metadata": {},
   "outputs": [],
   "source": [
    "import ast"
   ]
  },
  {
   "cell_type": "code",
   "execution_count": 49,
   "metadata": {},
   "outputs": [],
   "source": [
    "# positive document\n",
    "positive_doc = get_doc_by_id(train_queries['positive_docs'][0], documents)\n",
    "\n",
    "# embeddings of the positive document\n",
    "positive_doc_embedding = model.encode(positive_doc['text'])\n"
   ]
  },
  {
   "cell_type": "code",
   "execution_count": 51,
   "metadata": {},
   "outputs": [],
   "source": [
    "negative_docs_ids = ast.literal_eval(train_queries['negative_docs'][0])\n",
    "# print(negative_docs)\n",
    "negative_docs = [get_doc_by_id(doc_id, documents) for doc_id in negative_docs_ids]\n",
    "\n",
    "# embeddings of the negative documents\n",
    "negative_docs_embeddings = [model.encode(doc['text']) for doc in negative_docs]"
   ]
  },
  {
   "cell_type": "code",
   "execution_count": 52,
   "metadata": {},
   "outputs": [],
   "source": [
    "# perform cosine similarity between the query and the positive document\n",
    "similarity_positive = cosine_similarity(embedding_train_query_0.reshape(1, -1), positive_doc_embedding.reshape(1, -1))"
   ]
  },
  {
   "cell_type": "code",
   "execution_count": 53,
   "metadata": {},
   "outputs": [],
   "source": [
    "# perform cosine similarity between the query and the negative documents\n",
    "similarity_negative = cosine_similarity(embedding_train_query_0.reshape(1, -1), negative_docs_embeddings)"
   ]
  },
  {
   "cell_type": "code",
   "execution_count": 54,
   "metadata": {},
   "outputs": [
    {
     "name": "stdout",
     "output_type": "stream",
     "text": [
      "the similarity score between the query and the positive document is:  [[0.5503944]]\n",
      "the similarity score between the query and the negative document 0 is: 0.48290205001831055\n",
      "the similarity score between the query and the negative document 1 is: 0.48172470927238464\n",
      "the similarity score between the query and the negative document 2 is: 0.4308210611343384\n",
      "the similarity score between the query and the negative document 3 is: 0.44635772705078125\n",
      "the similarity score between the query and the negative document 4 is: 0.22976043820381165\n",
      "the similarity score between the query and the negative document 5 is: 0.6115955114364624\n",
      "the similarity score between the query and the negative document 6 is: 0.25051236152648926\n",
      "the similarity score between the query and the negative document 7 is: 0.2934030294418335\n",
      "the similarity score between the query and the negative document 8 is: 0.28571927547454834\n",
      "the similarity score between the query and the negative document 9 is: 0.5688396692276001\n",
      "the similarity score between the query and the negative document 10 is: 0.3703536093235016\n",
      "the similarity score between the query and the negative document 11 is: 0.32189399003982544\n",
      "the similarity score between the query and the negative document 12 is: 0.39101582765579224\n",
      "the similarity score between the query and the negative document 13 is: 0.341513454914093\n",
      "the similarity score between the query and the negative document 14 is: 0.266271710395813\n",
      "the similarity score between the query and the negative document 15 is: 0.31936195492744446\n",
      "the similarity score between the query and the negative document 16 is: 0.37797534465789795\n",
      "the similarity score between the query and the negative document 17 is: 0.3586239814758301\n",
      "the similarity score between the query and the negative document 18 is: 0.48687127232551575\n",
      "the similarity score between the query and the negative document 19 is: 0.4825572967529297\n"
     ]
    }
   ],
   "source": [
    "print(\"the similarity score between the query and the positive document is: \", similarity_positive)\n",
    "for i, sim in enumerate(similarity_negative[0]):\n",
    "    print(f\"the similarity score between the query and the negative document {i} is: {sim}\")"
   ]
  },
  {
   "cell_type": "code",
   "execution_count": 55,
   "metadata": {},
   "outputs": [
    {
     "name": "stdout",
     "output_type": "stream",
     "text": [
      "the similarity score between the query and the random document is:  [[0.1941262]]\n"
     ]
    }
   ],
   "source": [
    "import random\n"
   ]
  },
  {
   "cell_type": "code",
   "execution_count": 65,
   "metadata": {},
   "outputs": [
    {
     "name": "stdout",
     "output_type": "stream",
     "text": [
      "the average similarity score between the query and the negative documents is:  0.31269595\n"
     ]
    }
   ],
   "source": [
    "rand_docs = random.sample(documents, 100)\n",
    "# rand_doc = random.choice(documents)\n",
    "# embeddings of the random document\n",
    "rand_docs_embedding = [model.encode(doc['text']) for doc in rand_docs]\n",
    "\n",
    "# perform cosine similarity between the query and the random document\n",
    "similarity_random = cosine_similarity(embedding_train_query_0.reshape(1, -1), rand_docs_embedding)\n",
    "\n",
    "# compute the average similarity between the query and the rand documents\n",
    "average_similarity_rand = np.mean(similarity_random)\n",
    "print(\"the average similarity score between the query and the negative documents is: \", average_similarity_rand)"
   ]
  }
 ],
 "metadata": {
  "kernelspec": {
   "display_name": "base",
   "language": "python",
   "name": "python3"
  },
  "language_info": {
   "codemirror_mode": {
    "name": "ipython",
    "version": 3
   },
   "file_extension": ".py",
   "mimetype": "text/x-python",
   "name": "python",
   "nbconvert_exporter": "python",
   "pygments_lexer": "ipython3",
   "version": "3.10.9"
  }
 },
 "nbformat": 4,
 "nbformat_minor": 2
}
