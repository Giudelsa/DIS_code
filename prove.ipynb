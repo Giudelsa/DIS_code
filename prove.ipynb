{
 "cells": [
  {
   "cell_type": "code",
   "execution_count": 1,
   "metadata": {},
   "outputs": [],
   "source": [
    "import json\n",
    "import os\n",
    "import numpy as np\n",
    "import pandas as pd"
   ]
  },
  {
   "cell_type": "code",
   "execution_count": 2,
   "metadata": {},
   "outputs": [],
   "source": [
    "documents_path = 'dis-project-1-document-retrieval/corpus.json/corpus.json'"
   ]
  },
  {
   "cell_type": "code",
   "execution_count": 3,
   "metadata": {},
   "outputs": [],
   "source": [
    "with open(documents_path) as f:\n",
    "    documents = json.load(f)"
   ]
  },
  {
   "cell_type": "code",
   "execution_count": 4,
   "metadata": {},
   "outputs": [],
   "source": [
    "train_queries_path = 'dis-project-1-document-retrieval/train.csv'"
   ]
  },
  {
   "cell_type": "code",
   "execution_count": 5,
   "metadata": {},
   "outputs": [],
   "source": [
    "# Load the training queries\n",
    "train_queries = pd.read_csv(train_queries_path)"
   ]
  },
  {
   "cell_type": "code",
   "execution_count": null,
   "metadata": {},
   "outputs": [],
   "source": [
    "count = 0\n",
    "for _, query in train_queries.iterrows():\n",
    "    query_id = query['query_id']\n",
    "    query_text = query['query']\n",
    "    relevant_docs = query['positive_docs']\n",
    "    language = query['lang']\n",
    "    if count == 1:\n",
    "        print(query_id, query_text, relevant_docs, language)\n",
    "        break\n",
    "    count += 1\n"
   ]
  },
  {
   "cell_type": "code",
   "execution_count": null,
   "metadata": {},
   "outputs": [],
   "source": [
    "documents[0]"
   ]
  },
  {
   "cell_type": "code",
   "execution_count": 6,
   "metadata": {},
   "outputs": [],
   "source": [
    "def get_doc_by_id(doc_id):\n",
    "    return next(doc for doc in documents if doc['docid'] == doc_id)"
   ]
  },
  {
   "cell_type": "code",
   "execution_count": 27,
   "metadata": {},
   "outputs": [],
   "source": [
    "# count the queries which have relevant doucments whose language is not the query language\n",
    "count = 0\n",
    "for _, query in train_queries.iterrows():\n",
    "    query_id = query['query_id']\n",
    "    query_text = query['query']\n",
    "    relevant_docs = query['positive_docs']\n",
    "    language = query['lang']\n",
    "    for doc_id in relevant_docs.split():\n",
    "        doc_language = get_doc_by_id(doc_id)['lang']\n",
    "        if language != doc_language:\n",
    "            count += 1\n",
    "            print(f'Query {query_id} has relevant document {doc_id} with language {doc_language} which is different from the query language {query_language}')"
   ]
  },
  {
   "cell_type": "code",
   "execution_count": 28,
   "metadata": {},
   "outputs": [
    {
     "name": "stdout",
     "output_type": "stream",
     "text": [
      "Total queries with relevant documents with different language: 0\n"
     ]
    }
   ],
   "source": [
    "print(f'Total queries with relevant documents with different language: {count}')"
   ]
  },
  {
   "cell_type": "code",
   "execution_count": 30,
   "metadata": {},
   "outputs": [
    {
     "data": {
      "image/png": "[encoded data removed]",
      "text/plain": [
       "<Figure size 640x480 with 1 Axes>"
      ]
     },
     "metadata": {},
     "output_type": "display_data"
    }
   ],
   "source": [
    "# look at the distibution of the langauges of the documents\n",
    "from collections import Counter\n",
    "doc_languages = [doc['lang'] for doc in documents]\n",
    "doc_languages_counter = Counter(doc_languages)\n",
    "# plot the distribution of the languages\n",
    "import matplotlib.pyplot as plt\n",
    "plt.bar(doc_languages_counter.keys(), doc_languages_counter.values())\n",
    "plt.show()\n"
   ]
  },
  {
   "cell_type": "code",
   "execution_count": 32,
   "metadata": {},
   "outputs": [
    {
     "data": {
      "image/png": "[encoded data removed]",
      "text/plain": [
       "<Figure size 640x480 with 1 Axes>"
      ]
     },
     "metadata": {},
     "output_type": "display_data"
    }
   ],
   "source": [
    "# look at the distibution of the langauges of the train queries\n",
    "query_languages = train_queries['lang']\n",
    "query_languages_counter = Counter(query_languages)\n",
    "# plot the distribution of the languages\n",
    "plt.bar(query_languages_counter.keys(), query_languages_counter.values())\n",
    "plt.show()"
   ]
  },
  {
   "cell_type": "code",
   "execution_count": 35,
   "metadata": {},
   "outputs": [
    {
     "data": {
      "application/vnd.jupyter.widget-view+json": {
       "model_id": "ea1fcf0761dd4217b0cabf618db7e06f",
       "version_major": 2,
       "version_minor": 0
      },
      "text/plain": [
       "tokenizer_config.json:   0%|          | 0.00/48.0 [00:00<?, ?B/s]"
      ]
     },
     "metadata": {},
     "output_type": "display_data"
    },
    {
     "data": {
      "application/vnd.jupyter.widget-view+json": {
       "model_id": "d4481f8eb54f4fb09630267487cc4088",
       "version_major": 2,
       "version_minor": 0
      },
      "text/plain": [
       "vocab.txt:   0%|          | 0.00/232k [00:00<?, ?B/s]"
      ]
     },
     "metadata": {},
     "output_type": "display_data"
    },
    {
     "data": {
      "application/vnd.jupyter.widget-view+json": {
       "model_id": "7c101bb8374b4d80a8824de461fbc16f",
       "version_major": 2,
       "version_minor": 0
      },
      "text/plain": [
       "tokenizer.json:   0%|          | 0.00/466k [00:00<?, ?B/s]"
      ]
     },
     "metadata": {},
     "output_type": "display_data"
    },
    {
     "data": {
      "application/vnd.jupyter.widget-view+json": {
       "model_id": "79c98c220dc541ea99b549598ee4782b",
       "version_major": 2,
       "version_minor": 0
      },
      "text/plain": [
       "config.json:   0%|          | 0.00/570 [00:00<?, ?B/s]"
      ]
     },
     "metadata": {},
     "output_type": "display_data"
    }
   ],
   "source": [
    "import torch\n",
    "from transformers import BertTokenizer, BertModel\n",
    "\n",
    "# Load pre-trained model tokenizer (vocabulary)\n",
    "tokenizer = BertTokenizer.from_pretrained('bert-base-uncased')\n"
   ]
  },
  {
   "cell_type": "code",
   "execution_count": 36,
   "metadata": {},
   "outputs": [
    {
     "name": "stdout",
     "output_type": "stream",
     "text": [
      "['what', 'is', 'the', 'capital', 'of', 'france', '?']\n"
     ]
    }
   ],
   "source": [
    "query_text = 'What is the capital of France?'\n",
    "tokenized_text = tokenizer.tokenize(query_text)\n",
    "print(tokenized_text)"
   ]
  },
  {
   "cell_type": "code",
   "execution_count": 37,
   "metadata": {},
   "outputs": [
    {
     "name": "stdout",
     "output_type": "stream",
     "text": [
      "[101, 2054, 2003, 1996, 3007, 1997, 2605, 1029, 102]\n"
     ]
    }
   ],
   "source": [
    "input_ids = tokenizer.encode(query_text, add_special_tokens=True)\n",
    "print(input_ids)"
   ]
  },
  {
   "cell_type": "code",
   "execution_count": null,
   "metadata": {},
   "outputs": [],
   "source": [
    "# print all the"
   ]
  },
  {
   "cell_type": "markdown",
   "metadata": {},
   "source": [
    "## TF-IDF"
   ]
  },
  {
   "cell_type": "markdown",
   "metadata": {},
   "source": [
    "### Preprocessing"
   ]
  },
  {
   "cell_type": "code",
   "execution_count": 16,
   "metadata": {},
   "outputs": [],
   "source": [
    "from nltk.stem import PorterStemmer, WordNetLemmatizer\n",
    "import nltk\n",
    "from nltk.corpus import stopwords"
   ]
  },
  {
   "cell_type": "code",
   "execution_count": 18,
   "metadata": {},
   "outputs": [
    {
     "name": "stderr",
     "output_type": "stream",
     "text": [
      "[nltk_data] Downloading package wordnet to\n",
      "[nltk_data]     /Users/robinfaro/nltk_data...\n",
      "[nltk_data] Downloading package omw-1.4 to\n",
      "[nltk_data]     /Users/robinfaro/nltk_data...\n"
     ]
    },
    {
     "data": {
      "text/plain": [
       "True"
      ]
     },
     "execution_count": 18,
     "metadata": {},
     "output_type": "execute_result"
    }
   ],
   "source": [
    "nltk.download('wordnet')\n",
    "nltk.download('omw-1.4')  # Optional, for additional wordnet languages"
   ]
  },
  {
   "cell_type": "code",
   "execution_count": 8,
   "metadata": {},
   "outputs": [],
   "source": [
    "def get_langauge(lang_id):\n",
    "    \"\"\"\n",
    "    Returns the language name given the language id in order to pass it to the stopwords function\n",
    "    \"\"\"\n",
    "    cases = {\n",
    "        'en' : 'english',\n",
    "        'de' : 'german',\n",
    "        'fr' : 'french',\n",
    "        'es' : 'spanish',\n",
    "        'it' : 'italian',\n",
    "        'ar' : 'arabic',\n",
    "        'ko' : 'korean'\n",
    "    }\n",
    "    return cases.get(lang_id, 'unknown') "
   ]
  },
  {
   "cell_type": "code",
   "execution_count": 9,
   "metadata": {},
   "outputs": [],
   "source": [
    "def preprocess_text(text, language_id):\n",
    "    \"\"\"\n",
    "    Preprocess the text by removing stopwords, stemming and lemmatizing the text\n",
    "    \"\"\"\n",
    "    # remove stopwords\n",
    "    stop_words = set(stopwords.words(get_langauge(language_id)))\n",
    "    words = nltk.word_tokenize(text)\n",
    "    words = [word for word in words if word.lower() not in stop_words]\n",
    "    # stemming\n",
    "    stemmer = PorterStemmer()\n",
    "    words = [stemmer.stem(word) for word in words]\n",
    "    # lemmatization\n",
    "    lemmatizer = WordNetLemmatizer()\n",
    "    words = [lemmatizer.lemmatize(word) for word in words]\n",
    "    return words"
   ]
  },
  {
   "cell_type": "markdown",
   "metadata": {},
   "source": [
    "### Function definition"
   ]
  },
  {
   "cell_type": "code",
   "execution_count": 10,
   "metadata": {},
   "outputs": [],
   "source": [
    "def tf(term, doc):\n",
    "    \"\"\"\n",
    "    Compute the term frequency of a term in a document\n",
    "\n",
    "    :param term: the term to compute its frequency\n",
    "    :param doc: the document to compute the frequency of the term in\n",
    "\n",
    "    :return: the term frequency of the term in the document\n",
    "    \"\"\"\n",
    "    f_t = doc.count(term)\n",
    "    max_f = max([doc.count(t) for t in set(doc)])\n",
    "    return f_t / max_f\n",
    "\n",
    "def idf(term, documents):\n",
    "    \"\"\"\n",
    "    Compute the inverse document frequency of a term in a list of documents\n",
    "    :param term: the term to compute its inverse document frequency\n",
    "    :param documents: the list of documents (SAME LANGUAGE of term)to compute the inverse document frequency of the term in\n",
    "    \"\"\"\n",
    "    n = len(documents)\n",
    "    n_t = sum([1 for doc in documents if term in doc])\n",
    "    return np.log(n / n_t)\n",
    "\n",
    "def pivoted_unique_query_norm_tf_idf(term, doc, documents, s=0.2):\n",
    "    \"\"\"\n",
    "    Compute the term frequency - inverse document frequency of a term in a document\n",
    "    \"\"\"\n",
    "    # calculate the number of unique terms in the document\n",
    "    pivot = 0\n",
    "    for document in documents:\n",
    "        unique_terms = set(document)\n",
    "        pivot += len(unique_terms)\n",
    "    pivot /= len(documents)\n",
    "    u = len(set(doc))\n",
    "    tf = tf(term, doc)\n",
    "    idf = idf(term, documents)\n",
    "\n",
    "    return tf * idf * ((1-s)* pivot + s * u)"
   ]
  },
  {
   "cell_type": "code",
   "execution_count": 11,
   "metadata": {},
   "outputs": [],
   "source": [
    "def compute_precison_at_k(retrieved_docs, relevant_docs, k):\n",
    "    \"\"\"\n",
    "    Compute the precision at k\n",
    "    \"\"\"\n",
    "    count = set(retrieved_docs[:k]).intersection(set(relevant_docs))\n",
    "    return len(count) / k\n",
    "\n",
    "def compute_recall_at_k(retrieved_docs, relevant_docs, k):\n",
    "    \"\"\"\n",
    "    Compute the recall at k\n",
    "    \"\"\"\n",
    "    count = set(retrieved_docs[:k]).intersection(set(relevant_docs))\n",
    "    return len(count) / len(relevant_docs)\n",
    "\n",
    "def compute_f1_at_k(retrieved_docs, relevant_docs, k):\n",
    "    \"\"\"\n",
    "    Compute the f1 score at k\n",
    "    \"\"\"\n",
    "    precision = compute_precison_at_k(retrieved_docs, relevant_docs, k)\n",
    "    recall = compute_recall_at_k(retrieved_docs, relevant_docs, k)\n",
    "    return 2 * precision * recall / (precision + recall)"
   ]
  },
  {
   "cell_type": "markdown",
   "metadata": {},
   "source": [
    "## Experiments"
   ]
  },
  {
   "cell_type": "code",
   "execution_count": 13,
   "metadata": {},
   "outputs": [
    {
     "data": {
      "text/plain": [
       "'Mars Hill Church was a Christian megachurch, founded by Mark Driscoll, Lief Moi, and Mike Gunn. It was a multi-site church based in Seattle, Washington and grew from a home Bible study to 15 locations in 4 U.S. states. Services were offered at its 15 locations; the church also podcast content of weekend services, and of conferences, on the Internet with more than 260,000 sermon views online every week. In 2013, Mars Hill had a membership of 6,489 and average weekly attendance of 12,329. Following controversy in 2014 involving founding pastor Mark Driscoll, attendance dropped to 8,0009,000 people per week.\\n\\nAt the end of September, 2014, an investigation by the church elders found \"bullying\" and \"patterns of persistent sinful behavior\" by Driscoll. The church elders crafted a \"restoration\" plan to help Driscoll and save the church. Instead, Driscoll declined the restoration plan and resigned. On October 31, 2014, lead pastor Dave Bruskas announced plans to dissolve the church\\'s 13 remaining campuses into autonomous entities, with the option of continuing, merging with other congregations, or disbanding, effective January 1, 2015. The Mars Hill network dissolved on January 1, 2015.\\n\\nHistory\\n\\nEarly years \\nMars Hill Church was founded in spring 1996 by Mark Driscoll,  Lief Moi and Mike Gunn. The church started at the rental house of Driscoll and his wife Grace with the blessing of Antioch Bible Church and the exodus of about 30 of its students. They outgrew the apartment and started meeting in the youth rooms of another church. The church had its first official service October 1996, with 160 people attending; attendance quickly fell to around 60 because of discussions about the visions and mission of the church.\\n\\nIn the spring of 1997, the church expanded to two evening services. The transition to two different congregations resulted in some anxiety and stir by members who didn\\'t want the church to grow bigger, but it resulted in growing attendance. Later that same year Mark Driscoll was invited to speak at a pastors\\' conference in California. Driscoll\\'s speech influenced the emerging church movement, and changed the focus from reaching Generation X to reaching the postmodern world. The speech resulted in media coverage of Mars Hill Church and Mark Driscoll, and put Driscoll in connection with Leadership Network.\\n\\nThe church continued growing. Inspired by Alan Roxburgh, Driscoll settled on an emerging and missional ecclesiology, and a complementarian view on women in ministry. The church installed the first team of elders and they took over much of the work teaching classes, counseling and training new leaders. Furthermore, the church started a course for new members, called the Gospel Class, to ensure that members were focused on the mission of the church and that they agreed with the central doctrinal statements of the church. The class had been running every quarter since. In the fall of 1999 the church had grown to 350 in attendance every week and was able to pay Driscoll full-time. Prior to 1999, Driscoll operated as an unpaid pastor for three years.\\n\\nMultisite church \\n\\nIn 2003, Mars Hill Church moved into a renovated hardware store in the Ballard neighborhood of Seattle.  In 2006, in an effort to reduce the overcrowding at its services, Mars Hill opened its first satellite campus in Shoreline.  This change also marked their transition to a multi-site church, using video sermons and other multimedia improvements to the church\\'s web site to connect the campuses. Later in 2006 Mars Hill acquired two new properties in West Seattle and Wedgwood, which became their West Seattle and Lake City campuses.\\n\\nSince then, new Mars Hill locations were added using a multi-campus \"meta-church\" structure, connecting Driscoll\\'s sermons via high-definition video to the remote campuses during weekly worship services.  This format allowed each location to retain local leadership and ministries while under the leadership of the main campus.  A fourth and fifth Mars Hill location opened in 2007, and in 2008 a sixth location was added in downtown Seattle. A seventh campus, in Olympia, Washington, opened in Fall 2008  and an eighth campus, the first outside of Washington state, opened in Albuquerque, New Mexico in Fall 2009. The church launched four new churches on January 15 in Portland (Oregon), Rainier Valley (Seattle), Sammamish (near Seattle), and Orange County (California), the same day as the first sermon in the \"Real Marriage\" sermon series, based on Mark and Grace Driscoll\\'s book, Real Marriage.\\n\\nOn October 16, \"black-clad demonstrators\" gathered in front of the Mars Hill Church in Southeast Portland to \"protest the church\\'s stance on homosexuality.\" Approximately 20 protesters, \"some of whom wore kerchiefs to cover their faces, shouted profanities at adults and children,\" and briefly blocked the entrance of the church. Mars Hill Church Portland lead pastor Tim Smith expressed disagreement with the conduct of the protesters, but expressed defense of their right to free speech.\\n\\nIn 2008, the church launched an online community-building network, called The City, to improve communication on all levels in the church. The City was purchased by the Christian publishing brand, Zondervan, before Christmas 2008.\\n\\nGrowth and influence \\n\\nIn 2013, The Church Guide released a list of the \"Top Churches to Watch in America\". The link ranked churches according to how much churches could learn from the ranked churches on particular topics. They ranked Mars Hill Church as #3 to learn from about church growth, #3 for innovation, #2 for church planting, and #4 overall. The list considered data from Outreach magazine\\'s annual lists from 2004–2012 and other sources.\\n\\nIn 2006, Mars Hill Church claimed $31,110,000 in assets.\\n\\nActs 29 Church Planting Network \\n\\nActs 29 Church Planting Network is a separate 501(c)(3) from Mars Hill Church but was founded by Mars Hill in 2001. It is an interdenominational network of pastors and churches from around the world whose focus is to assess and equip qualified leaders, plant new churches, and rejuvenate declining churches.  The current president of Acts 29 is Matt Chandler.  The offices and leadership of Acts 29 moved from Mars Hill Church in Seattle to The Village Church in Texas in March 2012.\\nIn August 2014, Acts 29 removed Mark Driscoll and Mars Hill Church from the network.\\n\\nChurch leadership controversies\\n\\nDealing with dissent \\n\\nAs a result of the large growth of the church, its bylaws were rewritten more than once. The outcome of this process led to changes in leadership organization in November 2007. The new bylaws installed lead pastor Jamie Munson, preaching pastor Mark Driscoll, and pastors Scott Thomas and Tim Beltz as \"executive pastors\" who led the objectives of the church \"under the authority of the Board of Directors,\" on which the executive pastors also served as directors. This change precipitated the firing of two pastors.\\n\\nMars Hill leaders said in forum postings that one fired pastor was removed, in part, for \"displaying an unhealthy distrust in the senior leadership.\" They said the other was removed for \"disregarding the accepted elder protocol for the bylaw deliberation period\" and \"verbally attacking the lead pastor\"\\xa0— charges the fired pastor denied, the leaders added.\\n\\nChurch leadership instructed members of the congregation to shun the two former elders as unrepentant. Former Mars Hill Church elders and members have criticized the church for its harshness in dealing with dissent within its leadership. Additionally, members who have openly questioned or dissented with Mars Hill leaders have been asked to leave the church.  This policy of church discipline was discussed during a lecture given on April 20, 2009 by Mark Driscoll for The Gospel Coalition.\\n\\nIn early 2012, the church once again became a source of controversy over shunning and disciplinary proceedings when a young man under discipline released documents from his disciplinary contract to blogger and author Mathew Paul Turner. The documents included a discipline contract and an email from church leaders to the congregation directing them to shun him.\\n\\nResultSource contract for the Real Marriage Book \\nOn March 5, 2014, evangelical magazine World published an article claiming that Mars Hill Church paid a $25,000 fee to marketing firm ResultSource, to manipulate sales numbers of Mark Driscoll\\'s book Real Marriage and thereby attain a place on the New York Times bestseller list. ResultSource accomplished this objective—the book briefly reached #1 in the \"Advice How-to\" category—by buying 11,000 copies of the book, using $210,000 of Mars Hill Church\\'s money, from a variety of online sources and payment methods.\\n\\nThe Evangelical Council for Financial Accountability stated that buying a place on bestseller lists violates its ethical standards, but that because this happened before Mars Hill Church joined they were unable to take action. Christianity Today described the arrangement as \"ethically questionable\", and Carl Trueman of religion journal First Things decried the revelation, writing, \"the overall picture is one of disaster\" and \"[it] has raised questions not simply about personal integrity but also the very culture of American Evangelicalism.\"\\n\\nDriscoll had used the apparent success of Real Marriage to negotiate a multi-book deal with Christian publisher Tyndale House. The first book under Driscoll\\'s \"Resurgence\" imprint was A Call to Resurgence, with plans to publish five to seven books per year. Tyndale House defended Driscoll\\'s alleged plagiarism in A Call to Resurgence, and affirmed their continuing relationship with Driscoll.\\n\\nMars Hill Church responded with a statement, writing, \"while not uncommon or illegal, this unwise strategy is not one we had used before or since, and not one we will use again.\" Mars Hill also claimed that the \"true cost\" of the effort was less than \"what has been reported.\"\\n\\nOn March 17, 2014, Driscoll posted an open letter of apology in response to this controversy and others, writing that he will no longer claim to be a New York Times bestselling author, and that he now sees the ResultSource marketing campaign as \"manipulating a book sales reporting system, which is wrong.\" He wrote that he was giving up his status as a \"celebrity pastor\", that he considered his \"angry young prophet\" days to be over, and that he was reducing his public presence in speaking engagements and on social media.\\n\\nOn March 28, 2015, Sutton Turner, a former elder of the church who signed the Result Source contract, explained that he disapproved of the marketing plan to use Result Source, but the decision to use it had already been made before he began work at Mars Hill, so he signed the contract anyway. Turner revealed that Driscoll had not been involved in initiating nor signing the contract with Result Source. Turner stated that the business relationship with the marketing firm was initiated by a pastor who resigned shortly thereafter, and remaining church leaders disagreed over the completion of the contract, stating that it would reflect badly on the church and Mark Driscoll.\\n\\nPlagiarism allegations \\nOn November 21, 2013, radio host Janet Mefferd accused Driscoll of plagiarism. Mefferd claimed that 14 pages of Driscoll\\'s book A Call to Resurgence quoted \"extensively and without citation\" from Peter Jones\\' 1999 book, Gospel Truth/Pagan Lies: Can You Tell the Difference? and Jones\\' 2010 book One or Two: Seeing a World of Difference. Driscoll\\'s publisher Tyndale House stated that they performed a \"thorough in-house review\" and disagreed that this was a case of plagiarism. Neil Holdway, a plagiarism expert with the American Copy Editors Society, concluded that \"Driscoll had not adequately indicated the extent to which he had borrowed Jones\\' work.\"\\n\\nMore allegations of plagiarism in other Driscoll works soon surfaced, including passages from a sermon series companion text, Trial: 8 Witnesses From 1&2 Peter, which were copied verbatim from passages written by David Wheaton in the New Bible Commentary. InterVarsity Press, publisher of the New Bible Commentary, stated that Driscoll failed to properly provide quotation or attribution for the material. The relevant passages were posted online. The allegations soon expanded to include claims that Driscoll used ghostwriters and researchers without giving them proper attribution. As of December 2013, neither Peter Jones, D.A. Carson, nor Janet Mefferd had made any further statements pertaining the case.\\n\\nSyndicator Salem Radio subsequently removed both the broadcast interview with Driscoll and associated materials from Mefferd\\'s program website and apologized for raising the matter in a broadcast interview. This attempt to shut down the story provoked the resignation of Mefferd\\'s producer, Ingrid Schlueter. In explaining her resignation, Schlueter wrote the following regarding herself and Mefferd:\\n\\nDriscoll apologized for \"mistakes\" related to the allegations in a statement released to The Christian Post on December 18, 2013. Mefferd eventually left Salem Radio in April 2015.\\n\\nMars Hill Global Fund \\nIn June 2014 an online petition asked Sutton Turner of Mars Hill Church and Dan Busby of the Evangelical Council for Financial Accountability where the money raised through Mars Hill Global Fund actually went. The church reported that \"Mars Hill Church began to use the term \\'Global Fund\\' to solicit gifts restricted for \\'capital development and expansion\\'.  As communicated in the Global Newsletter on July 7, 2009, the Global Fund was used to raise resources for the following purposes:  \\'start new Mars Hill campuses, plant new Acts 29 churches, and equip leaders at the Resurgence Training Center\\'. In the 2009-2011 time frame, over 80% of the funds given to the \"Global Fund\" went to Acts 29 church planting, with additional funds used for the Resurgence Training Center and church planting in India.\" Additionally, \"subsequent to June 1, 2012, in early July 2014, Mars Hill Church sent approximately 6,000 letters and 3,765 emails to individuals who had made gifts as a global donor subsequent to June 1, 2012. In these communications, Mars Hill Church offered to redirect the donor\\'s gifts, made as a global donor during this time period, specifically for planting churches in Ethiopia or India.\"\\n\\nFormer leaders and members protest Mark Driscoll (2014) \\nMichael Paulson, writing for The New York Times, wrote that while Driscoll had endured criticism from the American political left and liberal Christianity for many years, recent years leading up to and including 2014 saw the rise of criticism from conservative Christians, including Driscoll\\'s former \"allies and supporters.\" According to the Seattle Times, plagiarism accusations against Driscoll made by Janet Mefferd were a \"crucial turning point\" that drew outside interest into Mars Hill\\'s internal affairs, and prompted inquiries from new critics about the church and how it handled its finances. After hearing of Mefferd\\'s plagiarism accusations, evangelical Christian and Grove City College psychology professor Warren Throckmorton took interest and became a prominent critic of Driscoll and Mars Hill, documenting other examples of perceived plagiarism, abuse reported by former Mars Hill members, and questionable uses of church finances.\\n\\n\"Repentant Pastors\" \\nOn March 29, 2014, four former Mars Hill elders (Kyle Firstenberg, Dave Kraft, Scott Mitchell, and co-founder Lief Moi) created a blog titled \"Repentant Pastor\" and posted online \"confessions and apologies\" related to their leadership roles in Mars Hill. In a joint statement, they wrote, \"we recognize and confess that Mars Hill has hurt many people within the Mars Hill community, as well as those outside the community.\" Salon summarized the statements, writing that the former leaders emphasized their failures to \"rein Driscoll in\" and their complicity with Driscoll\\'s \"autocratic\" management style. Firstenberg wrote that while the church appeared to flourish, employees lived in constant stress, and \"success was to be attained regardless of human and moral cost.\"\\n\\nMegachurch pastors come to Driscoll\\'s defense \\nSeveral prominent pastors publicly defended Driscoll from allegations made against him. Those pastors included mega-church pastor Rick Warren, author of The Purpose Driven Life, and Gateway Church\\'s founding pastor Robert Morris. At the 2014 Gateway Conference, Morris told the audience that he counseled Mark Driscoll directly, and that media reports were largely untrue. Morris cited recent media reports of lead pastor Steven Furtick of Elevation Church as experiencing similar coverage. At the conference, Mark Driscoll was invited up to the stage where he told the audience that he received death threats and that his children allegedly had rocks thrown at them. Driscoll stated that \"I\\'m just trying to figure out how to be a good pastor to my family first.\"\\n\\nDriscoll addresses former members\\' complaints \\nIn a recorded message shown to church members on July 27, 2014, Driscoll discussed the various controversies of 2014. He said that he could \"not address some members\\' discontent ... because the complaints were anonymous.\" According to Rob Smith, former program director at the church, the anonymity assertion \"really touched a nerve\" with former members. In response, dissenters organized a Facebook group called \"Dear Pastor Mark & Mars Hill: We Are Not Anonymous.\"\\n\\nThe following Sunday, \"dozens of demonstrators\" organized and picketed the Mars Hill Church Bellevue campus (where Driscoll preached live), calling for Driscoll\\'s resignation. Demonstrators carried placards reading \"We Are Not Anonymous\" and \"Question Mark\", and accused Driscoll of bullying, misogyny, inadequate transparency in church finances, and harsh discipline of members. Driscoll was away for his annual summer vacation. A church elder, Anthony Iannicielo, responded that the criticism of Driscoll and Mars Hill \"goes with the territory\" of running a large church with a long history. In a pre-recorded message, Driscoll said that he had been deliberately \"rather silent\" during the criticism, that he found it \"a little overwhelming and a bit confusing\", and that he had no intention of resigning.\\n\\nRemoval from Acts 29 Network \\nOn August 8, 2014, the board of Acts 29 Network removed both Driscoll and Mars Hill Church from membership. Chairman Matt Chandler wrote, \"it is our conviction that the nature of the accusations against Mark, most of which have been confirmed by him, make it untenable and unhelpful to keep Mark [Driscoll] and Mars Hill [Church] in our network.\"\\xa0The board of directors of Acts 29 expressed gratitude for Driscoll\\'s work with the Network as co-founder and former President, but declared his recent actions \"ungodly and disqualifying behavior.\" To Driscoll, they wrote, \"our board and network have been the recipients of ... dozens of fires directly linked to you ... we are naturally associated with you and feel that this association discredits the network and is a major distraction.\" They further advised him to \"step down from ministry for an extended time and seek help.\"\\n\\nActs 29 had attempted to \"lean on\" the Mars Hill\\'s Board of Advisors and Accountability (BOAA) to discipline Driscoll, but lost confidence in the board. The BOAA had been set up by Driscoll as his accountability board, rather than the elders of the church. (Members of the BOAA were for the most part professional clergy and businessmen who were not members of the church and hand picked by Driscoll.) The previous month, evangelical leaders and Acts 29 associates Paul Tripp and James MacDonald resigned from the BOAA. Religion correspondent Sarah Pulliam Bailey described Acts 29\\'s decision as \"unusual\" since \"ministries usually leave matters of church discipline up to local churches.\"\\n\\nBOAA Chairman Michael Van Skaik responded, \"Men, I told the lead pastors ... that we are making real progress in addressing the serious reconciliation and unhealthy culture issues that have been part of Mars Hill Church for way too long. And we are. ... \" He further added that Acts 29 leaders did not contact Mars Hill before acting, and that Driscoll had \"changed his ways\", and described Acts 29\\'s actions as \"divisive.\" Van Skaik also addressed the formal charges brought against Driscoll under the Mars Hill bylaws, writing \"the formal charges that were filed were serious, were taken seriously, and were not dismissed by the board lightly.\"\\n\\nDriscoll\\'s hiatus from ministry \\nOn August 24, 2014, Driscoll announced he would take a six-week \"extended focus break\" from his pastorship while charges against him were investigated. Later that week, a letter signed by nine current Mars Hill pastors which severely criticized Driscoll was leaked to the public. The letter, written days before Driscoll stepped down, urged him to step down from all aspects of ministry. It included a quote from \"internationally recognized\" author, pastor and former BOAA member Paul Tripp saying, \"This is without a doubt, the most abusive, coercive ministry culture I\\'ve ever been involved with.\" One of the pastors who signed the letter was fired five days later for \"rebellion against the church.\" By September 9, eight of the nine pastors who signed the letter had resigned or been terminated, including worship director Dustin Kensrue. The last of the nine pastors was demoted from pastor to lay elder.\\n\\nStaff layoffs and closure of church branches \\n\\nOn September 7, 2014 (the second week of Driscoll\\'s hiatus), Mars Hill officials, citing \"financial pressures in the wake of recent negative media attention\", announced layoffs and closures of a few church branches. Weekly attendance at the start of the year for all branches was 12,000–13,000, but had dropped to 8,000–9,000. Donations also had a \"steep decline.\" In response, the church planned to lay off \"30 to 40 percent\" of their 100 paid staff members, and close their downtown Seattle branch and University District branch, consolidating both congregations into the Ballard location. Two other branches outside Washington state were marked for possible closure if their finances did not improve. Mars Hill also announced the resignation of Sutton Turner, executive elder since 2011, effective at the end of September 2014.\\n\\nDriscoll\\'s resignation \\nIn the fall of 2014, a group of elders released a report on an investigation into accusations of bullying and intimidating behavior by Driscoll made by 21 former church elders. The investigation involved \"some 1,000 hours of research, interviewing more than 50 people and preparing 200 pages of information.\" The report concluded that Driscoll had never been charged with \"immorality, illegality or heresy,\" and considered \"some of the accusations against Pastor Mark to be altogether unfair or untrue.\" Additionally, the report found that many of the \"other charges had previously been addressed by Pastor Mark, privately and publicly. Indeed, he had publicly confessed and apologized for a number of the charges against him, some of which occurred as long as 14 years ago.\" However, elders did find \"bullying\" and \"patterns of persistent sinful behavior\" by Driscoll. The Board also concluded that Driscoll had \"been guilty of arrogance, responding to conflict with a quick temper and harsh speech, and leading the staff and elders in a domineering manner\", but was not charged with anything immoral or illegal. Driscoll maintained that he had not disqualified himself from ministry.\\n\\nChurch leadership crafted a \"restoration\" plan to help Driscoll and save the church. Instead, Driscoll declined the restoration plan and resigned on October 14, 2014, citing concerns for his health and safety. His resignation came as a \"surprise\" to the church\\'s Board of Overseers, who said in a statement that they had not asked Driscoll for his resignation.\\n\\nIn 2015, after the disbanding of Mars Hill, an executive elder of the church stated that \"There has been much talk about the abusive and coercive culture at Mars Hill. What many people do not realize is that some of the very people who were calling for an end to this type of abuse were using abusive tactics.\" The executive elder stated that he was blackmailed by a staff who asked for more severance pay. He also stated that \"former Mars Hill elders were working to file formal charges against me also. I was told that a former lead pastor was approached to lead a group of people who hoped to force my resignation so that I \\'could not help Pastor Mark Driscoll\\'.\"\\n\\nPastor and theologian John Piper referred to the controversies and subsequent church closure as a \"Satanic victory.\"\\n\\nIt was a defeat for the gospel, it was a defeat for Mark [Driscoll], it was a defeat for evangelicalism, for Reformed Theology, for complementarianism ... It was a colossal Satanic victory.Driscoll\\'s resignation is thoroughly investigated in the podcast The Rise and Fall of Mars Hill.\\n\\nClosing \\nOn October 31, 2014, lead pastor Dave Bruskas announced plans to dissolve the church\\'s 13 remaining campuses into autonomous entities, with the option of continuing, merging with other congregations, or disbanding, effective January 1, 2015.\\n\\nOn December 28, 2014, Rick Warren gave the final Sunday sermon at Mars Hill, encouraging its remaining members to \"give grace\" to its leaders, \"You need to be grateful for all the ways that God used Mars Hill Church. Be grateful for all the ways God used Mark Driscoll.\" Driscoll had previously delivered a sermon at Saddleback Church the weekend Rick Warren grieved the loss of his son.\\n\\nThe Mars Hill Church network officially disbanded Thursday, January 1, 2015. Eleven of the Mars Hill Churches became independent churches and the remaining churches were dissolved.  Prior to the churches disbanding, Mars Hill transferred the majority of its content from its website to  where the church\\'s sermons remain. The Mars Hill website now contains a history of the church and a church directory of the previous Mars Hill churches locations with their new names and websites.\\n\\nPrior to disbanding on January 1, 2015, Mars Hill Church met at twelve locations, mostly in Seattle and Washington state, with three out of state locations in New Mexico, California, and Oregon. A few locations were closed or consolidated on October 12, 2014. After January 1, 2015, each church location dissolved into an independent congregation.  The remaining members of Mars Hill Ballard reorganized as Cross and Crown Church Seattle, led by former Mars Hill Downtown pastor Matthias Haeusel at Mars Hill\\'s former Ballard location.\\n\\nIn February 2016, a federal racketeering lawsuit was filed by former Mars Hill members against both Mars Hill and Driscoll. That lawsuit was dismissed in November 2016 after the plaintiffs said they did not have the money to continue the suit. The plaintiffs\\' online fundraising campaign on GoFundMe had raised $34,660, which was approximately half of its goal.\\n\\nReferences\\n\\nFurther reading\\n\\n Pastor Dude\\'s Mega-Church Draws Crowds - ABC Nightline story about Mars Hill Church\\n Tempers Flare at Debate on the Devil - ABC Nightline debate at Mars Hill Church on the Devil\\n\\nExternal links\\n \\n\\n \\nEmerging church movement\\nEvangelical churches in Washington (state)\\nFormer megachurches\\nChurches in Seattle\\nChristian organizations established in 1996\\nReligious organizations disestablished in 2015'"
      ]
     },
     "execution_count": 13,
     "metadata": {},
     "output_type": "execute_result"
    }
   ],
   "source": [
    "# select only english documents"
   ]
  },
  {
   "cell_type": "code",
   "execution_count": 20,
   "metadata": {},
   "outputs": [],
   "source": [
    "def create_vocabulary_language(documents, languages):\n",
    "    \"\"\"\n",
    "    Create the vocabularies for all the languages in the documents\n",
    "    \"\"\"\n",
    "    vocabularies = {}\n",
    "    for language in languages:\n",
    "        vocabularies[language] = set()\n",
    "    for doc in documents:\n",
    "        language = doc['lang']\n",
    "        text = doc['text']\n",
    "        preprocessed_text = preprocess_text(text, language)\n",
    "        vocabularies[language].update(set(preprocessed_text))\n",
    "    return vocabularies"
   ]
  },
  {
   "cell_type": "code",
   "execution_count": 22,
   "metadata": {},
   "outputs": [],
   "source": [
    "languages = ['en', 'de', 'fr', 'es', 'it', 'ar', 'ko']\n",
    "\n",
    "vocabularies = create_vocabulary_language(documents, languages)"
   ]
  },
  {
   "cell_type": "code",
   "execution_count": null,
   "metadata": {},
   "outputs": [],
   "source": [
    "# save the vocabularies for each language in a json file\n",
    "for language in languages:\n",
    "    with open(f'vocabulary_{language}.json', 'w') as f:\n",
    "        json.dump(list(vocabularies[language]), f)\n"
   ]
  }
 ],
 "metadata": {
  "kernelspec": {
   "display_name": "base",
   "language": "python",
   "name": "python3"
  },
  "language_info": {
   "codemirror_mode": {
    "name": "ipython",
    "version": 3
   },
   "file_extension": ".py",
   "mimetype": "text/x-python",
   "name": "python",
   "nbconvert_exporter": "python",
   "pygments_lexer": "ipython3",
   "version": "3.12.5"
  }
 },
 "nbformat": 4,
 "nbformat_minor": 2
}
